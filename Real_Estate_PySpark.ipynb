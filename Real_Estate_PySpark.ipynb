{
 "cells": [
  {
   "cell_type": "markdown",
   "metadata": {
    "application/vnd.databricks.v1+cell": {
     "cellMetadata": {
      "byteLimit": 2048000,
      "rowLimit": 10000
     },
     "inputWidgets": {},
     "nuid": "00b5e860-b2ae-4667-b64b-70ecdcc2eb2a",
     "showTitle": false,
     "tableResultSettingsMap": {},
     "title": ""
    }
   },
   "source": [
    "## Phase 1\n",
    "#### ETL - Extract, Transform, and Load data into Delta Table"
   ]
  },
  {
   "cell_type": "code",
   "execution_count": 0,
   "metadata": {
    "application/vnd.databricks.v1+cell": {
     "cellMetadata": {
      "byteLimit": 2048000,
      "rowLimit": 10000
     },
     "inputWidgets": {},
     "nuid": "df51af77-6e32-46cf-918b-bb6cf309cc5e",
     "showTitle": false,
     "tableResultSettingsMap": {},
     "title": ""
    }
   },
   "outputs": [
    {
     "output_type": "execute_result",
     "data": {
      "text/plain": [
       "DataFrame[]"
      ]
     },
     "execution_count": 2,
     "metadata": {},
     "output_type": "execute_result"
    }
   ],
   "source": [
    "# 1. Create new database\n",
    "spark.sql(\"CREATE DATABASE IF NOT EXISTS usa_housing\")"
   ]
  },
  {
   "cell_type": "code",
   "execution_count": 0,
   "metadata": {
    "application/vnd.databricks.v1+cell": {
     "cellMetadata": {
      "byteLimit": 2048000,
      "rowLimit": 10000
     },
     "inputWidgets": {},
     "nuid": "3ddf1e5c-69af-4877-a3b6-ac5bbc879d97",
     "showTitle": false,
     "tableResultSettingsMap": {},
     "title": ""
    }
   },
   "outputs": [],
   "source": [
    "# 2. Create table \n",
    "df = spark.table(\"usa_housing.realtor_data\")"
   ]
  },
  {
   "cell_type": "code",
   "execution_count": 0,
   "metadata": {
    "application/vnd.databricks.v1+cell": {
     "cellMetadata": {
      "byteLimit": 2048000,
      "rowLimit": 10000
     },
     "inputWidgets": {},
     "nuid": "95b72886-cbc1-4032-8350-481e805b8e0d",
     "showTitle": false,
     "tableResultSettingsMap": {},
     "title": ""
    }
   },
   "outputs": [
    {
     "output_type": "display_data",
     "data": {
      "text/html": [
       "<style scoped>\n",
       "  .table-result-container {\n",
       "    max-height: 300px;\n",
       "    overflow: auto;\n",
       "  }\n",
       "  table, th, td {\n",
       "    border: 1px solid black;\n",
       "    border-collapse: collapse;\n",
       "  }\n",
       "  th, td {\n",
       "    padding: 5px;\n",
       "  }\n",
       "  th {\n",
       "    text-align: left;\n",
       "  }\n",
       "</style><div class='table-result-container'><table class='table-result'><thead style='background-color: white'><tr><th>brokered_by</th><th>status</th><th>price</th><th>bed</th><th>bath</th><th>acre_lot</th><th>street</th><th>city</th><th>state</th><th>zip_code</th><th>house_size</th><th>prev_sold_date</th></tr></thead><tbody><tr><td>25793.0</td><td>sold</td><td>332900.0</td><td>5</td><td>3</td><td>null</td><td>564331.0</td><td>Pensacola</td><td>Florida</td><td>32534</td><td>2361.0</td><td>2022-03-31</td></tr><tr><td>25793.0</td><td>sold</td><td>318900.0</td><td>5</td><td>3</td><td>0.16</td><td>582075.0</td><td>Pensacola</td><td>Florida</td><td>32534</td><td>2361.0</td><td>2022-03-31</td></tr><tr><td>25793.0</td><td>sold</td><td>327900.0</td><td>5</td><td>3</td><td>0.16</td><td>566668.0</td><td>Pensacola</td><td>Florida</td><td>32534</td><td>2361.0</td><td>2022-03-31</td></tr><tr><td>25793.0</td><td>sold</td><td>288900.0</td><td>3</td><td>2</td><td>null</td><td>580468.0</td><td>Pensacola</td><td>Florida</td><td>32534</td><td>1611.0</td><td>2022-03-31</td></tr><tr><td>25793.0</td><td>sold</td><td>302900.0</td><td>3</td><td>2</td><td>null</td><td>568824.0</td><td>Pensacola</td><td>Florida</td><td>32534</td><td>1611.0</td><td>2022-03-31</td></tr><tr><td>25793.0</td><td>sold</td><td>300900.0</td><td>3</td><td>2</td><td>null</td><td>571417.0</td><td>Pensacola</td><td>Florida</td><td>32534</td><td>1611.0</td><td>2022-03-31</td></tr><tr><td>15376.0</td><td>sold</td><td>99000.0</td><td>null</td><td>null</td><td>9.34</td><td>440848.0</td><td>Cantonment</td><td>Florida</td><td>32533</td><td>null</td><td>2021-12-10</td></tr><tr><td>11267.0</td><td>sold</td><td>354900.0</td><td>3</td><td>2</td><td>2.02</td><td>713767.0</td><td>Cantonment</td><td>Florida</td><td>32533</td><td>2950.0</td><td>2021-12-27</td></tr><tr><td>55622.0</td><td>sold</td><td>419900.0</td><td>4</td><td>3</td><td>0.34</td><td>1156905.0</td><td>Pensacola</td><td>Florida</td><td>32533</td><td>2744.0</td><td>2021-12-27</td></tr><tr><td>53231.0</td><td>sold</td><td>215000.0</td><td>4</td><td>3</td><td>0.23</td><td>837543.0</td><td>Cantonment</td><td>Florida</td><td>32533</td><td>2078.0</td><td>2021-12-27</td></tr></tbody></table></div>"
      ]
     },
     "metadata": {
      "application/vnd.databricks.v1+output": {
       "addedWidgets": {},
       "aggData": [],
       "aggError": "",
       "aggOverflow": false,
       "aggSchema": [],
       "aggSeriesLimitReached": false,
       "aggType": "",
       "arguments": {},
       "columnCustomDisplayInfos": {},
       "data": [
        [
         25793.0,
         "sold",
         332900.0,
         5,
         3,
         null,
         564331.0,
         "Pensacola",
         "Florida",
         32534,
         2361.0,
         "2022-03-31"
        ],
        [
         25793.0,
         "sold",
         318900.0,
         5,
         3,
         0.16,
         582075.0,
         "Pensacola",
         "Florida",
         32534,
         2361.0,
         "2022-03-31"
        ],
        [
         25793.0,
         "sold",
         327900.0,
         5,
         3,
         0.16,
         566668.0,
         "Pensacola",
         "Florida",
         32534,
         2361.0,
         "2022-03-31"
        ],
        [
         25793.0,
         "sold",
         288900.0,
         3,
         2,
         null,
         580468.0,
         "Pensacola",
         "Florida",
         32534,
         1611.0,
         "2022-03-31"
        ],
        [
         25793.0,
         "sold",
         302900.0,
         3,
         2,
         null,
         568824.0,
         "Pensacola",
         "Florida",
         32534,
         1611.0,
         "2022-03-31"
        ],
        [
         25793.0,
         "sold",
         300900.0,
         3,
         2,
         null,
         571417.0,
         "Pensacola",
         "Florida",
         32534,
         1611.0,
         "2022-03-31"
        ],
        [
         15376.0,
         "sold",
         99000.0,
         null,
         null,
         9.34,
         440848.0,
         "Cantonment",
         "Florida",
         32533,
         null,
         "2021-12-10"
        ],
        [
         11267.0,
         "sold",
         354900.0,
         3,
         2,
         2.02,
         713767.0,
         "Cantonment",
         "Florida",
         32533,
         2950.0,
         "2021-12-27"
        ],
        [
         55622.0,
         "sold",
         419900.0,
         4,
         3,
         0.34,
         1156905.0,
         "Pensacola",
         "Florida",
         32533,
         2744.0,
         "2021-12-27"
        ],
        [
         53231.0,
         "sold",
         215000.0,
         4,
         3,
         0.23,
         837543.0,
         "Cantonment",
         "Florida",
         32533,
         2078.0,
         "2021-12-27"
        ]
       ],
       "datasetInfos": [],
       "dbfsResultPath": null,
       "isJsonSchema": true,
       "metadata": {},
       "overflow": false,
       "plotOptions": {
        "customPlotOptions": {},
        "displayType": "table",
        "pivotAggregation": null,
        "pivotColumns": null,
        "xColumns": null,
        "yColumns": null
       },
       "removedWidgets": [],
       "schema": [
        {
         "metadata": "{}",
         "name": "brokered_by",
         "type": "\"double\""
        },
        {
         "metadata": "{}",
         "name": "status",
         "type": "\"string\""
        },
        {
         "metadata": "{}",
         "name": "price",
         "type": "\"double\""
        },
        {
         "metadata": "{}",
         "name": "bed",
         "type": "\"long\""
        },
        {
         "metadata": "{}",
         "name": "bath",
         "type": "\"long\""
        },
        {
         "metadata": "{}",
         "name": "acre_lot",
         "type": "\"double\""
        },
        {
         "metadata": "{}",
         "name": "street",
         "type": "\"double\""
        },
        {
         "metadata": "{}",
         "name": "city",
         "type": "\"string\""
        },
        {
         "metadata": "{}",
         "name": "state",
         "type": "\"string\""
        },
        {
         "metadata": "{}",
         "name": "zip_code",
         "type": "\"long\""
        },
        {
         "metadata": "{}",
         "name": "house_size",
         "type": "\"double\""
        },
        {
         "metadata": "{\"__detected_date_formats\": \"yyyy-M-d\"}",
         "name": "prev_sold_date",
         "type": "\"date\""
        }
       ],
       "type": "table"
      }
     },
     "output_type": "display_data"
    }
   ],
   "source": [
    "# 3. Display created df\n",
    "display(df.limit(10))"
   ]
  },
  {
   "cell_type": "code",
   "execution_count": 0,
   "metadata": {
    "application/vnd.databricks.v1+cell": {
     "cellMetadata": {
      "byteLimit": 2048000,
      "rowLimit": 10000
     },
     "inputWidgets": {},
     "nuid": "87366d5f-827e-422b-b923-edffb66454fe",
     "showTitle": false,
     "tableResultSettingsMap": {},
     "title": ""
    }
   },
   "outputs": [
    {
     "output_type": "stream",
     "name": "stdout",
     "output_type": "stream",
     "text": [
      "root\n |-- brokered_by: double (nullable = true)\n |-- status: string (nullable = true)\n |-- price: double (nullable = true)\n |-- bed: long (nullable = true)\n |-- bath: long (nullable = true)\n |-- acre_lot: double (nullable = true)\n |-- street: double (nullable = true)\n |-- city: string (nullable = true)\n |-- state: string (nullable = true)\n |-- zip_code: long (nullable = true)\n |-- house_size: double (nullable = true)\n |-- prev_sold_date: date (nullable = true)\n\n"
     ]
    }
   ],
   "source": [
    "# 4. Print schema\n",
    "df.printSchema()"
   ]
  },
  {
   "cell_type": "code",
   "execution_count": 0,
   "metadata": {
    "application/vnd.databricks.v1+cell": {
     "cellMetadata": {
      "byteLimit": 2048000,
      "rowLimit": 10000
     },
     "inputWidgets": {},
     "nuid": "3c2a4892-abc1-4ba0-b940-9f37b7e39789",
     "showTitle": false,
     "tableResultSettingsMap": {},
     "title": ""
    }
   },
   "outputs": [
    {
     "output_type": "stream",
     "name": "stdout",
     "output_type": "stream",
     "text": [
      "+-----------+------+-----+------+------+--------+------+----+-----+--------+----------+--------------+\n|brokered_by|status|price|   bed|  bath|acre_lot|street|city|state|zip_code|house_size|prev_sold_date|\n+-----------+------+-----+------+------+--------+------+----+-----+--------+----------+--------------+\n|       4533|     0| 1541|481317|511771|  325589| 10866|1407|    8|     299|    568484|        734297|\n+-----------+------+-----+------+------+--------+------+----+-----+--------+----------+--------------+\n\n"
     ]
    }
   ],
   "source": [
    "# 5. Count NULLs in each column\n",
    "from pyspark.sql.functions import col, when, count\n",
    "\n",
    "df.select([\n",
    "    count(when(col(c).isNull(), c)).alias(c)\n",
    "    for c in df.columns\n",
    "]).show()"
   ]
  },
  {
   "cell_type": "code",
   "execution_count": 0,
   "metadata": {
    "application/vnd.databricks.v1+cell": {
     "cellMetadata": {
      "byteLimit": 2048000,
      "rowLimit": 10000
     },
     "inputWidgets": {},
     "nuid": "c8cce153-cd2b-4ba1-9671-e5a9377ce639",
     "showTitle": false,
     "tableResultSettingsMap": {},
     "title": ""
    }
   },
   "outputs": [],
   "source": [
    "# 6. Drop useless columns like status and prev_sold_date\n",
    "df_new = df.drop(\"status\", \"prev_sold_date\")"
   ]
  },
  {
   "cell_type": "code",
   "execution_count": 0,
   "metadata": {
    "application/vnd.databricks.v1+cell": {
     "cellMetadata": {
      "byteLimit": 2048000,
      "rowLimit": 10000
     },
     "inputWidgets": {},
     "nuid": "fa2a6843-4402-4570-84e0-e9d6cb34f354",
     "showTitle": false,
     "tableResultSettingsMap": {},
     "title": ""
    }
   },
   "outputs": [
    {
     "output_type": "display_data",
     "data": {
      "text/html": [
       "<style scoped>\n",
       "  .table-result-container {\n",
       "    max-height: 300px;\n",
       "    overflow: auto;\n",
       "  }\n",
       "  table, th, td {\n",
       "    border: 1px solid black;\n",
       "    border-collapse: collapse;\n",
       "  }\n",
       "  th, td {\n",
       "    padding: 5px;\n",
       "  }\n",
       "  th {\n",
       "    text-align: left;\n",
       "  }\n",
       "</style><div class='table-result-container'><table class='table-result'><thead style='background-color: white'><tr><th>brokered_by</th><th>price</th><th>bed</th><th>bath</th><th>acre_lot</th><th>street</th><th>city</th><th>state</th><th>zip_code</th><th>house_size</th></tr></thead><tbody><tr><td>25793.0</td><td>332900.0</td><td>5</td><td>3</td><td>null</td><td>564331.0</td><td>Pensacola</td><td>Florida</td><td>32534</td><td>2361.0</td></tr><tr><td>25793.0</td><td>318900.0</td><td>5</td><td>3</td><td>0.16</td><td>582075.0</td><td>Pensacola</td><td>Florida</td><td>32534</td><td>2361.0</td></tr><tr><td>25793.0</td><td>327900.0</td><td>5</td><td>3</td><td>0.16</td><td>566668.0</td><td>Pensacola</td><td>Florida</td><td>32534</td><td>2361.0</td></tr><tr><td>25793.0</td><td>288900.0</td><td>3</td><td>2</td><td>null</td><td>580468.0</td><td>Pensacola</td><td>Florida</td><td>32534</td><td>1611.0</td></tr><tr><td>25793.0</td><td>302900.0</td><td>3</td><td>2</td><td>null</td><td>568824.0</td><td>Pensacola</td><td>Florida</td><td>32534</td><td>1611.0</td></tr><tr><td>25793.0</td><td>300900.0</td><td>3</td><td>2</td><td>null</td><td>571417.0</td><td>Pensacola</td><td>Florida</td><td>32534</td><td>1611.0</td></tr><tr><td>15376.0</td><td>99000.0</td><td>null</td><td>null</td><td>9.34</td><td>440848.0</td><td>Cantonment</td><td>Florida</td><td>32533</td><td>null</td></tr><tr><td>11267.0</td><td>354900.0</td><td>3</td><td>2</td><td>2.02</td><td>713767.0</td><td>Cantonment</td><td>Florida</td><td>32533</td><td>2950.0</td></tr><tr><td>55622.0</td><td>419900.0</td><td>4</td><td>3</td><td>0.34</td><td>1156905.0</td><td>Pensacola</td><td>Florida</td><td>32533</td><td>2744.0</td></tr><tr><td>53231.0</td><td>215000.0</td><td>4</td><td>3</td><td>0.23</td><td>837543.0</td><td>Cantonment</td><td>Florida</td><td>32533</td><td>2078.0</td></tr></tbody></table></div>"
      ]
     },
     "metadata": {
      "application/vnd.databricks.v1+output": {
       "addedWidgets": {},
       "aggData": [],
       "aggError": "",
       "aggOverflow": false,
       "aggSchema": [],
       "aggSeriesLimitReached": false,
       "aggType": "",
       "arguments": {},
       "columnCustomDisplayInfos": {},
       "data": [
        [
         25793.0,
         332900.0,
         5,
         3,
         null,
         564331.0,
         "Pensacola",
         "Florida",
         32534,
         2361.0
        ],
        [
         25793.0,
         318900.0,
         5,
         3,
         0.16,
         582075.0,
         "Pensacola",
         "Florida",
         32534,
         2361.0
        ],
        [
         25793.0,
         327900.0,
         5,
         3,
         0.16,
         566668.0,
         "Pensacola",
         "Florida",
         32534,
         2361.0
        ],
        [
         25793.0,
         288900.0,
         3,
         2,
         null,
         580468.0,
         "Pensacola",
         "Florida",
         32534,
         1611.0
        ],
        [
         25793.0,
         302900.0,
         3,
         2,
         null,
         568824.0,
         "Pensacola",
         "Florida",
         32534,
         1611.0
        ],
        [
         25793.0,
         300900.0,
         3,
         2,
         null,
         571417.0,
         "Pensacola",
         "Florida",
         32534,
         1611.0
        ],
        [
         15376.0,
         99000.0,
         null,
         null,
         9.34,
         440848.0,
         "Cantonment",
         "Florida",
         32533,
         null
        ],
        [
         11267.0,
         354900.0,
         3,
         2,
         2.02,
         713767.0,
         "Cantonment",
         "Florida",
         32533,
         2950.0
        ],
        [
         55622.0,
         419900.0,
         4,
         3,
         0.34,
         1156905.0,
         "Pensacola",
         "Florida",
         32533,
         2744.0
        ],
        [
         53231.0,
         215000.0,
         4,
         3,
         0.23,
         837543.0,
         "Cantonment",
         "Florida",
         32533,
         2078.0
        ]
       ],
       "datasetInfos": [],
       "dbfsResultPath": null,
       "isJsonSchema": true,
       "metadata": {},
       "overflow": false,
       "plotOptions": {
        "customPlotOptions": {},
        "displayType": "table",
        "pivotAggregation": null,
        "pivotColumns": null,
        "xColumns": null,
        "yColumns": null
       },
       "removedWidgets": [],
       "schema": [
        {
         "metadata": "{}",
         "name": "brokered_by",
         "type": "\"double\""
        },
        {
         "metadata": "{}",
         "name": "price",
         "type": "\"double\""
        },
        {
         "metadata": "{}",
         "name": "bed",
         "type": "\"long\""
        },
        {
         "metadata": "{}",
         "name": "bath",
         "type": "\"long\""
        },
        {
         "metadata": "{}",
         "name": "acre_lot",
         "type": "\"double\""
        },
        {
         "metadata": "{}",
         "name": "street",
         "type": "\"double\""
        },
        {
         "metadata": "{}",
         "name": "city",
         "type": "\"string\""
        },
        {
         "metadata": "{}",
         "name": "state",
         "type": "\"string\""
        },
        {
         "metadata": "{}",
         "name": "zip_code",
         "type": "\"long\""
        },
        {
         "metadata": "{}",
         "name": "house_size",
         "type": "\"double\""
        }
       ],
       "type": "table"
      }
     },
     "output_type": "display_data"
    }
   ],
   "source": [
    "# 7. Display new df\n",
    "display(df_new.limit(10))"
   ]
  },
  {
   "cell_type": "code",
   "execution_count": 0,
   "metadata": {
    "application/vnd.databricks.v1+cell": {
     "cellMetadata": {
      "byteLimit": 2048000,
      "rowLimit": 10000
     },
     "inputWidgets": {},
     "nuid": "8fa6582c-9493-471b-bd04-8eee74ce64bf",
     "showTitle": false,
     "tableResultSettingsMap": {},
     "title": ""
    }
   },
   "outputs": [],
   "source": [
    "# 8. Fill missing values with standard values\n",
    "df_final = df_new.na.fill({\n",
    "    \"brokered_by\": 0,\n",
    "    \"price\": 0.0,\n",
    "    \"bed\": 0,\n",
    "    \"bath\": 0,\n",
    "    \"acre_lot\": 0.0,\n",
    "    \"street\": -1.0, # fake street\n",
    "    \"city\": \"unknown\",\n",
    "    \"state\": \"unknown\",\n",
    "    \"zip_code\": -1.0, # fake zip-code\n",
    "    \"house_size\": 0.0\n",
    "})\n"
   ]
  },
  {
   "cell_type": "code",
   "execution_count": 0,
   "metadata": {
    "application/vnd.databricks.v1+cell": {
     "cellMetadata": {
      "byteLimit": 2048000,
      "rowLimit": 10000
     },
     "inputWidgets": {},
     "nuid": "b6ff3ec1-e596-4dff-ac45-2cb125f52509",
     "showTitle": false,
     "tableResultSettingsMap": {},
     "title": ""
    }
   },
   "outputs": [
    {
     "output_type": "stream",
     "name": "stdout",
     "output_type": "stream",
     "text": [
      "+-----------+-----+---+----+--------+------+----+-----+--------+----------+\n|brokered_by|price|bed|bath|acre_lot|street|city|state|zip_code|house_size|\n+-----------+-----+---+----+--------+------+----+-----+--------+----------+\n|          0|    0|  0|   0|       0|     0|   0|    0|       0|         0|\n+-----------+-----+---+----+--------+------+----+-----+--------+----------+\n\n"
     ]
    }
   ],
   "source": [
    "# 9. Check for nulls again\n",
    "df_final.select([\n",
    "    count(when(col(c).isNull(), c)).alias(c)\n",
    "    for c in df_final.columns\n",
    "]).show()"
   ]
  },
  {
   "cell_type": "code",
   "execution_count": 0,
   "metadata": {
    "application/vnd.databricks.v1+cell": {
     "cellMetadata": {
      "byteLimit": 2048000,
      "rowLimit": 10000
     },
     "inputWidgets": {},
     "nuid": "d9ac307d-ff5e-4718-bc52-0b81be5629ec",
     "showTitle": false,
     "tableResultSettingsMap": {},
     "title": ""
    }
   },
   "outputs": [
    {
     "output_type": "display_data",
     "data": {
      "text/html": [
       "<style scoped>\n",
       "  .table-result-container {\n",
       "    max-height: 300px;\n",
       "    overflow: auto;\n",
       "  }\n",
       "  table, th, td {\n",
       "    border: 1px solid black;\n",
       "    border-collapse: collapse;\n",
       "  }\n",
       "  th, td {\n",
       "    padding: 5px;\n",
       "  }\n",
       "  th {\n",
       "    text-align: left;\n",
       "  }\n",
       "</style><div class='table-result-container'><table class='table-result'><thead style='background-color: white'><tr><th>brokered_by</th><th>price</th><th>bed</th><th>bath</th><th>acre_lot</th><th>street</th><th>city</th><th>state</th><th>zip_code</th><th>house_size</th></tr></thead><tbody><tr><td>25793.0</td><td>332900.0</td><td>5</td><td>3</td><td>0.0</td><td>564331.0</td><td>Pensacola</td><td>Florida</td><td>32534</td><td>2361.0</td></tr><tr><td>25793.0</td><td>318900.0</td><td>5</td><td>3</td><td>0.16</td><td>582075.0</td><td>Pensacola</td><td>Florida</td><td>32534</td><td>2361.0</td></tr><tr><td>25793.0</td><td>327900.0</td><td>5</td><td>3</td><td>0.16</td><td>566668.0</td><td>Pensacola</td><td>Florida</td><td>32534</td><td>2361.0</td></tr><tr><td>25793.0</td><td>288900.0</td><td>3</td><td>2</td><td>0.0</td><td>580468.0</td><td>Pensacola</td><td>Florida</td><td>32534</td><td>1611.0</td></tr><tr><td>25793.0</td><td>302900.0</td><td>3</td><td>2</td><td>0.0</td><td>568824.0</td><td>Pensacola</td><td>Florida</td><td>32534</td><td>1611.0</td></tr><tr><td>25793.0</td><td>300900.0</td><td>3</td><td>2</td><td>0.0</td><td>571417.0</td><td>Pensacola</td><td>Florida</td><td>32534</td><td>1611.0</td></tr><tr><td>15376.0</td><td>99000.0</td><td>0</td><td>0</td><td>9.34</td><td>440848.0</td><td>Cantonment</td><td>Florida</td><td>32533</td><td>0.0</td></tr><tr><td>11267.0</td><td>354900.0</td><td>3</td><td>2</td><td>2.02</td><td>713767.0</td><td>Cantonment</td><td>Florida</td><td>32533</td><td>2950.0</td></tr><tr><td>55622.0</td><td>419900.0</td><td>4</td><td>3</td><td>0.34</td><td>1156905.0</td><td>Pensacola</td><td>Florida</td><td>32533</td><td>2744.0</td></tr><tr><td>53231.0</td><td>215000.0</td><td>4</td><td>3</td><td>0.23</td><td>837543.0</td><td>Cantonment</td><td>Florida</td><td>32533</td><td>2078.0</td></tr></tbody></table></div>"
      ]
     },
     "metadata": {
      "application/vnd.databricks.v1+output": {
       "addedWidgets": {},
       "aggData": [],
       "aggError": "",
       "aggOverflow": false,
       "aggSchema": [],
       "aggSeriesLimitReached": false,
       "aggType": "",
       "arguments": {},
       "columnCustomDisplayInfos": {},
       "data": [
        [
         25793.0,
         332900.0,
         5,
         3,
         0.0,
         564331.0,
         "Pensacola",
         "Florida",
         32534,
         2361.0
        ],
        [
         25793.0,
         318900.0,
         5,
         3,
         0.16,
         582075.0,
         "Pensacola",
         "Florida",
         32534,
         2361.0
        ],
        [
         25793.0,
         327900.0,
         5,
         3,
         0.16,
         566668.0,
         "Pensacola",
         "Florida",
         32534,
         2361.0
        ],
        [
         25793.0,
         288900.0,
         3,
         2,
         0.0,
         580468.0,
         "Pensacola",
         "Florida",
         32534,
         1611.0
        ],
        [
         25793.0,
         302900.0,
         3,
         2,
         0.0,
         568824.0,
         "Pensacola",
         "Florida",
         32534,
         1611.0
        ],
        [
         25793.0,
         300900.0,
         3,
         2,
         0.0,
         571417.0,
         "Pensacola",
         "Florida",
         32534,
         1611.0
        ],
        [
         15376.0,
         99000.0,
         0,
         0,
         9.34,
         440848.0,
         "Cantonment",
         "Florida",
         32533,
         0.0
        ],
        [
         11267.0,
         354900.0,
         3,
         2,
         2.02,
         713767.0,
         "Cantonment",
         "Florida",
         32533,
         2950.0
        ],
        [
         55622.0,
         419900.0,
         4,
         3,
         0.34,
         1156905.0,
         "Pensacola",
         "Florida",
         32533,
         2744.0
        ],
        [
         53231.0,
         215000.0,
         4,
         3,
         0.23,
         837543.0,
         "Cantonment",
         "Florida",
         32533,
         2078.0
        ]
       ],
       "datasetInfos": [],
       "dbfsResultPath": null,
       "isJsonSchema": true,
       "metadata": {},
       "overflow": false,
       "plotOptions": {
        "customPlotOptions": {},
        "displayType": "table",
        "pivotAggregation": null,
        "pivotColumns": null,
        "xColumns": null,
        "yColumns": null
       },
       "removedWidgets": [],
       "schema": [
        {
         "metadata": "{}",
         "name": "brokered_by",
         "type": "\"double\""
        },
        {
         "metadata": "{}",
         "name": "price",
         "type": "\"double\""
        },
        {
         "metadata": "{}",
         "name": "bed",
         "type": "\"long\""
        },
        {
         "metadata": "{}",
         "name": "bath",
         "type": "\"long\""
        },
        {
         "metadata": "{}",
         "name": "acre_lot",
         "type": "\"double\""
        },
        {
         "metadata": "{}",
         "name": "street",
         "type": "\"double\""
        },
        {
         "metadata": "{}",
         "name": "city",
         "type": "\"string\""
        },
        {
         "metadata": "{}",
         "name": "state",
         "type": "\"string\""
        },
        {
         "metadata": "{}",
         "name": "zip_code",
         "type": "\"long\""
        },
        {
         "metadata": "{}",
         "name": "house_size",
         "type": "\"double\""
        }
       ],
       "type": "table"
      }
     },
     "output_type": "display_data"
    }
   ],
   "source": [
    "# 10. Display final df\n",
    "display(df_final.limit(10))"
   ]
  },
  {
   "cell_type": "code",
   "execution_count": 0,
   "metadata": {
    "application/vnd.databricks.v1+cell": {
     "cellMetadata": {
      "byteLimit": 2048000,
      "rowLimit": 10000
     },
     "inputWidgets": {},
     "nuid": "98f7e6e3-92da-4f8d-93a4-7754a1e04956",
     "showTitle": false,
     "tableResultSettingsMap": {},
     "title": ""
    }
   },
   "outputs": [],
   "source": [
    "# 11. Save new data as delta table\n",
    "df_final.write.mode(\"overwrite\").format(\"delta\").saveAsTable(\"usa_housing.clean2_data\")\n"
   ]
  },
  {
   "cell_type": "code",
   "execution_count": 0,
   "metadata": {
    "application/vnd.databricks.v1+cell": {
     "cellMetadata": {
      "byteLimit": 2048000,
      "rowLimit": 10000
     },
     "inputWidgets": {},
     "nuid": "a64c050d-a872-4c37-acb7-524226614c12",
     "showTitle": false,
     "tableResultSettingsMap": {},
     "title": ""
    }
   },
   "outputs": [
    {
     "output_type": "stream",
     "name": "stdout",
     "output_type": "stream",
     "text": [
      "root\n |-- brokered_by: double (nullable = false)\n |-- price: double (nullable = false)\n |-- bed: long (nullable = false)\n |-- bath: long (nullable = false)\n |-- acre_lot: double (nullable = false)\n |-- street: double (nullable = false)\n |-- city: string (nullable = false)\n |-- state: string (nullable = false)\n |-- zip_code: long (nullable = true)\n |-- house_size: double (nullable = false)\n\n"
     ]
    }
   ],
   "source": [
    "# 12. Print new schema\n",
    "df_final.printSchema()"
   ]
  },
  {
   "cell_type": "markdown",
   "metadata": {
    "application/vnd.databricks.v1+cell": {
     "cellMetadata": {
      "byteLimit": 2048000,
      "rowLimit": 10000
     },
     "inputWidgets": {},
     "nuid": "33cd15fc-152b-43dc-828b-f60806c8fa80",
     "showTitle": false,
     "tableResultSettingsMap": {},
     "title": ""
    }
   },
   "source": [
    "## Phase 2\n",
    "#### EDA - Exploratory Data Analysis"
   ]
  },
  {
   "cell_type": "code",
   "execution_count": 0,
   "metadata": {
    "application/vnd.databricks.v1+cell": {
     "cellMetadata": {
      "byteLimit": 2048000,
      "rowLimit": 10000
     },
     "inputWidgets": {},
     "nuid": "9e4c3cf5-c241-40df-bf2f-1df60b55f0c8",
     "showTitle": false,
     "tableResultSettingsMap": {},
     "title": ""
    }
   },
   "outputs": [
    {
     "output_type": "display_data",
     "data": {
      "text/html": [
       "<style scoped>\n",
       "  .table-result-container {\n",
       "    max-height: 300px;\n",
       "    overflow: auto;\n",
       "  }\n",
       "  table, th, td {\n",
       "    border: 1px solid black;\n",
       "    border-collapse: collapse;\n",
       "  }\n",
       "  th, td {\n",
       "    padding: 5px;\n",
       "  }\n",
       "  th {\n",
       "    text-align: left;\n",
       "  }\n",
       "</style><div class='table-result-container'><table class='table-result'><thead style='background-color: white'><tr><th>brokered_by</th><th>price</th><th>bed</th><th>bath</th><th>acre_lot</th><th>street</th><th>city</th><th>state</th><th>zip_code</th><th>house_size</th></tr></thead><tbody><tr><td>103378.0</td><td>105000.0</td><td>3</td><td>2</td><td>0.12</td><td>1962661.0</td><td>Adjuntas</td><td>Puerto Rico</td><td>601</td><td>920.0</td></tr><tr><td>52707.0</td><td>80000.0</td><td>4</td><td>2</td><td>0.08</td><td>1902874.0</td><td>Adjuntas</td><td>Puerto Rico</td><td>601</td><td>1527.0</td></tr><tr><td>103379.0</td><td>67000.0</td><td>2</td><td>1</td><td>0.15</td><td>1404990.0</td><td>Juana Diaz</td><td>Puerto Rico</td><td>795</td><td>748.0</td></tr><tr><td>31239.0</td><td>145000.0</td><td>4</td><td>2</td><td>0.1</td><td>1947675.0</td><td>Ponce</td><td>Puerto Rico</td><td>731</td><td>1800.0</td></tr><tr><td>34632.0</td><td>65000.0</td><td>6</td><td>2</td><td>0.05</td><td>331151.0</td><td>Mayaguez</td><td>Puerto Rico</td><td>680</td><td>0.0</td></tr><tr><td>103378.0</td><td>179000.0</td><td>4</td><td>3</td><td>0.46</td><td>1850806.0</td><td>San Sebastian</td><td>Puerto Rico</td><td>612</td><td>2520.0</td></tr><tr><td>1205.0</td><td>50000.0</td><td>3</td><td>1</td><td>0.2</td><td>1298094.0</td><td>Ciales</td><td>Puerto Rico</td><td>639</td><td>2040.0</td></tr><tr><td>50739.0</td><td>71600.0</td><td>3</td><td>2</td><td>0.08</td><td>1048466.0</td><td>Ponce</td><td>Puerto Rico</td><td>731</td><td>1050.0</td></tr><tr><td>81909.0</td><td>100000.0</td><td>2</td><td>1</td><td>0.09</td><td>734904.0</td><td>Ponce</td><td>Puerto Rico</td><td>730</td><td>1092.0</td></tr><tr><td>65672.0</td><td>300000.0</td><td>5</td><td>3</td><td>7.46</td><td>1946226.0</td><td>Las Marias</td><td>Puerto Rico</td><td>670</td><td>5403.0</td></tr></tbody></table></div>"
      ]
     },
     "metadata": {
      "application/vnd.databricks.v1+output": {
       "addedWidgets": {},
       "aggData": [],
       "aggError": "",
       "aggOverflow": false,
       "aggSchema": [],
       "aggSeriesLimitReached": false,
       "aggType": "",
       "arguments": {},
       "columnCustomDisplayInfos": {},
       "data": [
        [
         103378.0,
         105000.0,
         3,
         2,
         0.12,
         1962661.0,
         "Adjuntas",
         "Puerto Rico",
         601,
         920.0
        ],
        [
         52707.0,
         80000.0,
         4,
         2,
         0.08,
         1902874.0,
         "Adjuntas",
         "Puerto Rico",
         601,
         1527.0
        ],
        [
         103379.0,
         67000.0,
         2,
         1,
         0.15,
         1404990.0,
         "Juana Diaz",
         "Puerto Rico",
         795,
         748.0
        ],
        [
         31239.0,
         145000.0,
         4,
         2,
         0.1,
         1947675.0,
         "Ponce",
         "Puerto Rico",
         731,
         1800.0
        ],
        [
         34632.0,
         65000.0,
         6,
         2,
         0.05,
         331151.0,
         "Mayaguez",
         "Puerto Rico",
         680,
         0.0
        ],
        [
         103378.0,
         179000.0,
         4,
         3,
         0.46,
         1850806.0,
         "San Sebastian",
         "Puerto Rico",
         612,
         2520.0
        ],
        [
         1205.0,
         50000.0,
         3,
         1,
         0.2,
         1298094.0,
         "Ciales",
         "Puerto Rico",
         639,
         2040.0
        ],
        [
         50739.0,
         71600.0,
         3,
         2,
         0.08,
         1048466.0,
         "Ponce",
         "Puerto Rico",
         731,
         1050.0
        ],
        [
         81909.0,
         100000.0,
         2,
         1,
         0.09,
         734904.0,
         "Ponce",
         "Puerto Rico",
         730,
         1092.0
        ],
        [
         65672.0,
         300000.0,
         5,
         3,
         7.46,
         1946226.0,
         "Las Marias",
         "Puerto Rico",
         670,
         5403.0
        ]
       ],
       "datasetInfos": [],
       "dbfsResultPath": null,
       "isJsonSchema": true,
       "metadata": {},
       "overflow": false,
       "plotOptions": {
        "customPlotOptions": {},
        "displayType": "table",
        "pivotAggregation": null,
        "pivotColumns": null,
        "xColumns": null,
        "yColumns": null
       },
       "removedWidgets": [],
       "schema": [
        {
         "metadata": "{}",
         "name": "brokered_by",
         "type": "\"double\""
        },
        {
         "metadata": "{}",
         "name": "price",
         "type": "\"double\""
        },
        {
         "metadata": "{}",
         "name": "bed",
         "type": "\"long\""
        },
        {
         "metadata": "{}",
         "name": "bath",
         "type": "\"long\""
        },
        {
         "metadata": "{}",
         "name": "acre_lot",
         "type": "\"double\""
        },
        {
         "metadata": "{}",
         "name": "street",
         "type": "\"double\""
        },
        {
         "metadata": "{}",
         "name": "city",
         "type": "\"string\""
        },
        {
         "metadata": "{}",
         "name": "state",
         "type": "\"string\""
        },
        {
         "metadata": "{}",
         "name": "zip_code",
         "type": "\"long\""
        },
        {
         "metadata": "{}",
         "name": "house_size",
         "type": "\"double\""
        }
       ],
       "type": "table"
      }
     },
     "output_type": "display_data"
    }
   ],
   "source": [
    "display(spark.sql(\"\"\"\n",
    "-- 1. Display table\n",
    "SELECT * \n",
    "FROM usa_housing.clean2_data\n",
    "LIMIT 10;\"\"\"))"
   ]
  },
  {
   "cell_type": "code",
   "execution_count": 0,
   "metadata": {
    "application/vnd.databricks.v1+cell": {
     "cellMetadata": {
      "byteLimit": 2048000,
      "rowLimit": 10000
     },
     "inputWidgets": {},
     "nuid": "a7eec8ef-2a26-4d22-bd50-be092c7773ec",
     "showTitle": false,
     "tableResultSettingsMap": {},
     "title": ""
    }
   },
   "outputs": [
    {
     "output_type": "display_data",
     "data": {
      "text/html": [
       "<style scoped>\n",
       "  .table-result-container {\n",
       "    max-height: 300px;\n",
       "    overflow: auto;\n",
       "  }\n",
       "  table, th, td {\n",
       "    border: 1px solid black;\n",
       "    border-collapse: collapse;\n",
       "  }\n",
       "  th, td {\n",
       "    padding: 5px;\n",
       "  }\n",
       "  th {\n",
       "    text-align: left;\n",
       "  }\n",
       "</style><div class='table-result-container'><table class='table-result'><thead style='background-color: white'><tr><th>state</th><th>listing_count</th></tr></thead><tbody><tr><td>Florida</td><td>249432</td></tr><tr><td>California</td><td>227215</td></tr><tr><td>Texas</td><td>208335</td></tr><tr><td>New York</td><td>103159</td></tr><tr><td>North Carolina</td><td>85745</td></tr><tr><td>Illinois</td><td>85280</td></tr><tr><td>Georgia</td><td>80977</td></tr><tr><td>Pennsylvania</td><td>78373</td></tr><tr><td>Arizona</td><td>72825</td></tr><tr><td>Virginia</td><td>68763</td></tr></tbody></table></div>"
      ]
     },
     "metadata": {
      "application/vnd.databricks.v1+output": {
       "addedWidgets": {},
       "aggData": [],
       "aggError": "",
       "aggOverflow": false,
       "aggSchema": [],
       "aggSeriesLimitReached": false,
       "aggType": "",
       "arguments": {},
       "columnCustomDisplayInfos": {},
       "data": [
        [
         "Florida",
         249432
        ],
        [
         "California",
         227215
        ],
        [
         "Texas",
         208335
        ],
        [
         "New York",
         103159
        ],
        [
         "North Carolina",
         85745
        ],
        [
         "Illinois",
         85280
        ],
        [
         "Georgia",
         80977
        ],
        [
         "Pennsylvania",
         78373
        ],
        [
         "Arizona",
         72825
        ],
        [
         "Virginia",
         68763
        ]
       ],
       "datasetInfos": [],
       "dbfsResultPath": null,
       "isJsonSchema": true,
       "metadata": {},
       "overflow": false,
       "plotOptions": {
        "customPlotOptions": {},
        "displayType": "table",
        "pivotAggregation": null,
        "pivotColumns": null,
        "xColumns": null,
        "yColumns": null
       },
       "removedWidgets": [],
       "schema": [
        {
         "metadata": "{}",
         "name": "state",
         "type": "\"string\""
        },
        {
         "metadata": "{}",
         "name": "listing_count",
         "type": "\"long\""
        }
       ],
       "type": "table"
      }
     },
     "output_type": "display_data"
    }
   ],
   "source": [
    "display(spark.sql(\"\"\"\n",
    "-- 2. Top 10 states by number of listings\n",
    "SELECT state, COUNT(*) AS listing_count\n",
    "FROM usa_housing.clean2_data\n",
    "GROUP BY state\n",
    "ORDER BY listing_count DESC\n",
    "LIMIT 10;\"\"\"))"
   ]
  },
  {
   "cell_type": "code",
   "execution_count": 0,
   "metadata": {
    "application/vnd.databricks.v1+cell": {
     "cellMetadata": {
      "byteLimit": 2048000,
      "rowLimit": 10000
     },
     "inputWidgets": {},
     "nuid": "dc92ae01-3aa1-4137-9366-211e0512fee8",
     "showTitle": false,
     "tableResultSettingsMap": {},
     "title": ""
    }
   },
   "outputs": [
    {
     "output_type": "display_data",
     "data": {
      "text/html": [
       "<style scoped>\n",
       "  .table-result-container {\n",
       "    max-height: 300px;\n",
       "    overflow: auto;\n",
       "  }\n",
       "  table, th, td {\n",
       "    border: 1px solid black;\n",
       "    border-collapse: collapse;\n",
       "  }\n",
       "  th, td {\n",
       "    padding: 5px;\n",
       "  }\n",
       "  th {\n",
       "    text-align: left;\n",
       "  }\n",
       "</style><div class='table-result-container'><table class='table-result'><thead style='background-color: white'><tr><th>city</th><th>listing_count</th></tr></thead><tbody><tr><td>Houston</td><td>23862</td></tr><tr><td>Chicago</td><td>18238</td></tr><tr><td>New York City</td><td>12634</td></tr><tr><td>Jacksonville</td><td>11743</td></tr><tr><td>Philadelphia</td><td>10449</td></tr><tr><td>Miami</td><td>9737</td></tr><tr><td>Los Angeles</td><td>8984</td></tr><tr><td>Tucson</td><td>8943</td></tr><tr><td>Dallas</td><td>8569</td></tr><tr><td>Richmond</td><td>8360</td></tr></tbody></table></div>"
      ]
     },
     "metadata": {
      "application/vnd.databricks.v1+output": {
       "addedWidgets": {},
       "aggData": [],
       "aggError": "",
       "aggOverflow": false,
       "aggSchema": [],
       "aggSeriesLimitReached": false,
       "aggType": "",
       "arguments": {},
       "columnCustomDisplayInfos": {},
       "data": [
        [
         "Houston",
         23862
        ],
        [
         "Chicago",
         18238
        ],
        [
         "New York City",
         12634
        ],
        [
         "Jacksonville",
         11743
        ],
        [
         "Philadelphia",
         10449
        ],
        [
         "Miami",
         9737
        ],
        [
         "Los Angeles",
         8984
        ],
        [
         "Tucson",
         8943
        ],
        [
         "Dallas",
         8569
        ],
        [
         "Richmond",
         8360
        ]
       ],
       "datasetInfos": [],
       "dbfsResultPath": null,
       "isJsonSchema": true,
       "metadata": {},
       "overflow": false,
       "plotOptions": {
        "customPlotOptions": {},
        "displayType": "table",
        "pivotAggregation": null,
        "pivotColumns": null,
        "xColumns": null,
        "yColumns": null
       },
       "removedWidgets": [],
       "schema": [
        {
         "metadata": "{}",
         "name": "city",
         "type": "\"string\""
        },
        {
         "metadata": "{}",
         "name": "listing_count",
         "type": "\"long\""
        }
       ],
       "type": "table"
      }
     },
     "output_type": "display_data"
    }
   ],
   "source": [
    "display(spark.sql(\"\"\"\n",
    "-- 3. Top 10 Cities with most listings\n",
    "SELECT city, COUNT(*) AS listing_count\n",
    "FROM usa_housing.clean2_data\n",
    "GROUP BY city\n",
    "ORDER BY listing_count DESC\n",
    "LIMIT 10;\"\"\"))"
   ]
  },
  {
   "cell_type": "code",
   "execution_count": 0,
   "metadata": {
    "application/vnd.databricks.v1+cell": {
     "cellMetadata": {
      "byteLimit": 2048000,
      "rowLimit": 10000
     },
     "inputWidgets": {},
     "nuid": "36f4120c-a0be-48f4-bc4e-0cd6d60b8aee",
     "showTitle": false,
     "tableResultSettingsMap": {},
     "title": ""
    }
   },
   "outputs": [
    {
     "output_type": "display_data",
     "data": {
      "text/html": [
       "<style scoped>\n",
       "  .table-result-container {\n",
       "    max-height: 300px;\n",
       "    overflow: auto;\n",
       "  }\n",
       "  table, th, td {\n",
       "    border: 1px solid black;\n",
       "    border-collapse: collapse;\n",
       "  }\n",
       "  th, td {\n",
       "    padding: 5px;\n",
       "  }\n",
       "  th {\n",
       "    text-align: left;\n",
       "  }\n",
       "</style><div class='table-result-container'><table class='table-result'><thead style='background-color: white'><tr><th>state</th><th>avg_price</th></tr></thead><tbody><tr><td>Hawaii</td><td>1240095.3</td></tr><tr><td>California</td><td>1029074.22</td></tr><tr><td>New York</td><td>943778.53</td></tr><tr><td>District of Columbia</td><td>882849.78</td></tr><tr><td>Utah</td><td>881297.3</td></tr><tr><td>Colorado</td><td>831818.5</td></tr><tr><td>Montana</td><td>792043.24</td></tr><tr><td>Virgin Islands</td><td>759440.05</td></tr><tr><td>Massachusetts</td><td>724824.71</td></tr><tr><td>Guam</td><td>713861.66</td></tr><tr><td>Nevada</td><td>673564.05</td></tr><tr><td>Connecticut</td><td>670580.27</td></tr><tr><td>Idaho</td><td>660361.59</td></tr><tr><td>Washington</td><td>658734.85</td></tr><tr><td>Puerto Rico</td><td>640685.75</td></tr><tr><td>Wyoming</td><td>612064.65</td></tr><tr><td>Oregon</td><td>586767.71</td></tr><tr><td>New Jersey</td><td>569747.12</td></tr><tr><td>Florida</td><td>548176.02</td></tr><tr><td>Arizona</td><td>485464.25</td></tr><tr><td>New Hampshire</td><td>481941.0</td></tr><tr><td>Rhode Island</td><td>481324.21</td></tr><tr><td>Virginia</td><td>468093.68</td></tr><tr><td>Maryland</td><td>456430.52</td></tr><tr><td>Vermont</td><td>444875.06</td></tr><tr><td>Texas</td><td>441134.29</td></tr><tr><td>Delaware</td><td>433429.74</td></tr><tr><td>Georgia</td><td>390353.93</td></tr><tr><td>South Carolina</td><td>386815.18</td></tr><tr><td>Tennessee</td><td>375555.75</td></tr><tr><td>Minnesota</td><td>366271.53</td></tr><tr><td>South Dakota</td><td>360709.44</td></tr><tr><td>Kansas</td><td>358488.61</td></tr><tr><td>Illinois</td><td>349522.61</td></tr><tr><td>North Carolina</td><td>334034.46</td></tr><tr><td>Maine</td><td>333854.8</td></tr><tr><td>Pennsylvania</td><td>331939.98</td></tr><tr><td>New Mexico</td><td>323976.34</td></tr><tr><td>Alabama</td><td>303494.42</td></tr><tr><td>Alaska</td><td>300451.39</td></tr><tr><td>Nebraska</td><td>298210.79</td></tr><tr><td>Indiana</td><td>291899.45</td></tr><tr><td>Missouri</td><td>288083.12</td></tr><tr><td>Louisiana</td><td>286639.85</td></tr><tr><td>Wisconsin</td><td>280221.6</td></tr><tr><td>Arkansas</td><td>274209.24</td></tr><tr><td>Oklahoma</td><td>273217.68</td></tr><tr><td>Kentucky</td><td>270354.11</td></tr><tr><td>Michigan</td><td>269657.3</td></tr><tr><td>North Dakota</td><td>266687.78</td></tr><tr><td>Mississippi</td><td>263481.41</td></tr><tr><td>Iowa</td><td>251841.03</td></tr><tr><td>Ohio</td><td>247494.92</td></tr><tr><td>West Virginia</td><td>240006.93</td></tr><tr><td>unknown</td><td>160023.75</td></tr><tr><td>New Brunswick</td><td>2500.0</td></tr></tbody></table></div>"
      ]
     },
     "metadata": {
      "application/vnd.databricks.v1+output": {
       "addedWidgets": {},
       "aggData": [],
       "aggError": "",
       "aggOverflow": false,
       "aggSchema": [],
       "aggSeriesLimitReached": false,
       "aggType": "",
       "arguments": {},
       "columnCustomDisplayInfos": {},
       "data": [
        [
         "Hawaii",
         1240095.3
        ],
        [
         "California",
         1029074.22
        ],
        [
         "New York",
         943778.53
        ],
        [
         "District of Columbia",
         882849.78
        ],
        [
         "Utah",
         881297.3
        ],
        [
         "Colorado",
         831818.5
        ],
        [
         "Montana",
         792043.24
        ],
        [
         "Virgin Islands",
         759440.05
        ],
        [
         "Massachusetts",
         724824.71
        ],
        [
         "Guam",
         713861.66
        ],
        [
         "Nevada",
         673564.05
        ],
        [
         "Connecticut",
         670580.27
        ],
        [
         "Idaho",
         660361.59
        ],
        [
         "Washington",
         658734.85
        ],
        [
         "Puerto Rico",
         640685.75
        ],
        [
         "Wyoming",
         612064.65
        ],
        [
         "Oregon",
         586767.71
        ],
        [
         "New Jersey",
         569747.12
        ],
        [
         "Florida",
         548176.02
        ],
        [
         "Arizona",
         485464.25
        ],
        [
         "New Hampshire",
         481941.0
        ],
        [
         "Rhode Island",
         481324.21
        ],
        [
         "Virginia",
         468093.68
        ],
        [
         "Maryland",
         456430.52
        ],
        [
         "Vermont",
         444875.06
        ],
        [
         "Texas",
         441134.29
        ],
        [
         "Delaware",
         433429.74
        ],
        [
         "Georgia",
         390353.93
        ],
        [
         "South Carolina",
         386815.18
        ],
        [
         "Tennessee",
         375555.75
        ],
        [
         "Minnesota",
         366271.53
        ],
        [
         "South Dakota",
         360709.44
        ],
        [
         "Kansas",
         358488.61
        ],
        [
         "Illinois",
         349522.61
        ],
        [
         "North Carolina",
         334034.46
        ],
        [
         "Maine",
         333854.8
        ],
        [
         "Pennsylvania",
         331939.98
        ],
        [
         "New Mexico",
         323976.34
        ],
        [
         "Alabama",
         303494.42
        ],
        [
         "Alaska",
         300451.39
        ],
        [
         "Nebraska",
         298210.79
        ],
        [
         "Indiana",
         291899.45
        ],
        [
         "Missouri",
         288083.12
        ],
        [
         "Louisiana",
         286639.85
        ],
        [
         "Wisconsin",
         280221.6
        ],
        [
         "Arkansas",
         274209.24
        ],
        [
         "Oklahoma",
         273217.68
        ],
        [
         "Kentucky",
         270354.11
        ],
        [
         "Michigan",
         269657.3
        ],
        [
         "North Dakota",
         266687.78
        ],
        [
         "Mississippi",
         263481.41
        ],
        [
         "Iowa",
         251841.03
        ],
        [
         "Ohio",
         247494.92
        ],
        [
         "West Virginia",
         240006.93
        ],
        [
         "unknown",
         160023.75
        ],
        [
         "New Brunswick",
         2500.0
        ]
       ],
       "datasetInfos": [],
       "dbfsResultPath": null,
       "isJsonSchema": true,
       "metadata": {},
       "overflow": false,
       "plotOptions": {
        "customPlotOptions": {},
        "displayType": "table",
        "pivotAggregation": null,
        "pivotColumns": null,
        "xColumns": null,
        "yColumns": null
       },
       "removedWidgets": [],
       "schema": [
        {
         "metadata": "{}",
         "name": "state",
         "type": "\"string\""
        },
        {
         "metadata": "{}",
         "name": "avg_price",
         "type": "\"double\""
        }
       ],
       "type": "table"
      }
     },
     "output_type": "display_data"
    }
   ],
   "source": [
    "display(spark.sql(\"\"\"\n",
    "-- 4. Average price of houses by state\n",
    "SELECT state, ROUND(AVG(price), 2) AS avg_price\n",
    "FROM usa_housing.clean2_data\n",
    "GROUP BY state\n",
    "ORDER BY avg_price DESC;\"\"\"))"
   ]
  },
  {
   "cell_type": "code",
   "execution_count": 0,
   "metadata": {
    "application/vnd.databricks.v1+cell": {
     "cellMetadata": {
      "byteLimit": 2048000,
      "rowLimit": 10000
     },
     "inputWidgets": {},
     "nuid": "0fb42067-29d0-4cc1-8d47-36039c6e8ee9",
     "showTitle": false,
     "tableResultSettingsMap": {
      "0": {
       "dataGridStateBlob": "{\"version\":1,\"tableState\":{\"columnPinning\":{\"left\":[\"#row_number#\"],\"right\":[]},\"columnSizing\":{},\"columnVisibility\":{}},\"settings\":{\"columns\":{}},\"syncTimestamp\":1753081215272}",
       "filterBlob": null,
       "queryPlanFiltersBlob": null,
       "tableResultIndex": 0
      }
     },
     "title": ""
    }
   },
   "outputs": [
    {
     "output_type": "display_data",
     "data": {
      "text/html": [
       "<style scoped>\n",
       "  .table-result-container {\n",
       "    max-height: 300px;\n",
       "    overflow: auto;\n",
       "  }\n",
       "  table, th, td {\n",
       "    border: 1px solid black;\n",
       "    border-collapse: collapse;\n",
       "  }\n",
       "  th, td {\n",
       "    padding: 5px;\n",
       "  }\n",
       "  th {\n",
       "    text-align: left;\n",
       "  }\n",
       "</style><div class='table-result-container'><table class='table-result'><thead style='background-color: white'><tr><th>size_bin</th><th>count</th></tr></thead><tbody><tr><td>0</td><td>7733</td></tr><tr><td>500</td><td>154335</td></tr><tr><td>1000</td><td>431678</td></tr><tr><td>1500</td><td>415413</td></tr><tr><td>2000</td><td>269792</td></tr><tr><td>2500</td><td>154918</td></tr><tr><td>3000</td><td>90857</td></tr><tr><td>3500</td><td>48477</td></tr><tr><td>4000</td><td>28874</td></tr><tr><td>4500</td><td>16694</td></tr><tr><td>5000</td><td>10918</td></tr><tr><td>5500</td><td>6947</td></tr><tr><td>6000</td><td>5130</td></tr><tr><td>6500</td><td>3297</td></tr><tr><td>7000</td><td>2600</td></tr><tr><td>7500</td><td>1785</td></tr><tr><td>8000</td><td>1528</td></tr><tr><td>8500</td><td>1010</td></tr><tr><td>9000</td><td>876</td></tr><tr><td>9500</td><td>674</td></tr><tr><td>10000</td><td>634</td></tr><tr><td>10500</td><td>405</td></tr><tr><td>11000</td><td>372</td></tr><tr><td>11500</td><td>283</td></tr><tr><td>12000</td><td>305</td></tr><tr><td>12500</td><td>216</td></tr><tr><td>13000</td><td>182</td></tr><tr><td>13500</td><td>128</td></tr><tr><td>14000</td><td>166</td></tr><tr><td>14500</td><td>101</td></tr><tr><td>15000</td><td>119</td></tr><tr><td>15500</td><td>86</td></tr><tr><td>16000</td><td>91</td></tr><tr><td>16500</td><td>55</td></tr><tr><td>17000</td><td>58</td></tr><tr><td>17500</td><td>66</td></tr><tr><td>18000</td><td>57</td></tr><tr><td>18500</td><td>34</td></tr><tr><td>19000</td><td>43</td></tr><tr><td>19500</td><td>182</td></tr><tr><td>20000</td><td>57</td></tr><tr><td>20500</td><td>31</td></tr><tr><td>21000</td><td>29</td></tr><tr><td>21500</td><td>32</td></tr><tr><td>22000</td><td>23</td></tr><tr><td>22500</td><td>18</td></tr><tr><td>23000</td><td>19</td></tr><tr><td>23500</td><td>16</td></tr><tr><td>24000</td><td>15</td></tr><tr><td>24500</td><td>13</td></tr><tr><td>25000</td><td>20</td></tr><tr><td>25500</td><td>13</td></tr><tr><td>26000</td><td>17</td></tr><tr><td>26500</td><td>15</td></tr><tr><td>27000</td><td>11</td></tr><tr><td>27500</td><td>9</td></tr><tr><td>28000</td><td>14</td></tr><tr><td>28500</td><td>4</td></tr><tr><td>29000</td><td>12</td></tr><tr><td>29500</td><td>59</td></tr><tr><td>30000</td><td>18</td></tr><tr><td>30500</td><td>7</td></tr><tr><td>31000</td><td>10</td></tr><tr><td>31500</td><td>6</td></tr><tr><td>32000</td><td>9</td></tr><tr><td>32500</td><td>13</td></tr><tr><td>33000</td><td>7</td></tr><tr><td>33500</td><td>8</td></tr><tr><td>34000</td><td>7</td></tr><tr><td>34500</td><td>4</td></tr><tr><td>35000</td><td>7</td></tr><tr><td>35500</td><td>4</td></tr><tr><td>36000</td><td>6</td></tr><tr><td>36500</td><td>2</td></tr><tr><td>37000</td><td>6</td></tr><tr><td>37500</td><td>1</td></tr><tr><td>38000</td><td>8</td></tr><tr><td>38500</td><td>1</td></tr><tr><td>39000</td><td>1</td></tr><tr><td>39500</td><td>17</td></tr><tr><td>40000</td><td>4</td></tr><tr><td>40500</td><td>7</td></tr><tr><td>41000</td><td>3</td></tr><tr><td>41500</td><td>1</td></tr><tr><td>42000</td><td>1</td></tr><tr><td>42500</td><td>4</td></tr><tr><td>43000</td><td>4</td></tr><tr><td>43500</td><td>2</td></tr><tr><td>44000</td><td>3</td></tr><tr><td>44500</td><td>3</td></tr><tr><td>45000</td><td>1</td></tr><tr><td>45500</td><td>5</td></tr><tr><td>46000</td><td>2</td></tr><tr><td>46500</td><td>1</td></tr><tr><td>47500</td><td>3</td></tr><tr><td>48000</td><td>2</td></tr><tr><td>48500</td><td>3</td></tr><tr><td>49500</td><td>4</td></tr><tr><td>50000</td><td>1</td></tr><tr><td>51000</td><td>3</td></tr><tr><td>51500</td><td>2</td></tr><tr><td>52000</td><td>1</td></tr><tr><td>52500</td><td>2</td></tr><tr><td>53000</td><td>1</td></tr><tr><td>54500</td><td>2</td></tr><tr><td>55000</td><td>1</td></tr><tr><td>56000</td><td>1</td></tr><tr><td>56500</td><td>1</td></tr><tr><td>57000</td><td>1</td></tr><tr><td>58000</td><td>5</td></tr><tr><td>59000</td><td>1</td></tr><tr><td>59500</td><td>1</td></tr><tr><td>60000</td><td>5</td></tr><tr><td>61500</td><td>1</td></tr><tr><td>65000</td><td>1</td></tr><tr><td>65500</td><td>2</td></tr><tr><td>66000</td><td>1</td></tr><tr><td>69500</td><td>2</td></tr><tr><td>70500</td><td>1</td></tr><tr><td>72000</td><td>1</td></tr><tr><td>74000</td><td>2</td></tr><tr><td>75000</td><td>1</td></tr><tr><td>79000</td><td>1</td></tr><tr><td>80000</td><td>1</td></tr><tr><td>82500</td><td>1</td></tr><tr><td>84500</td><td>1</td></tr><tr><td>85000</td><td>1</td></tr><tr><td>86000</td><td>3</td></tr><tr><td>87000</td><td>1</td></tr><tr><td>88000</td><td>1</td></tr><tr><td>90500</td><td>1</td></tr><tr><td>93000</td><td>1</td></tr><tr><td>94000</td><td>1</td></tr><tr><td>99500</td><td>4</td></tr><tr><td>108000</td><td>1</td></tr><tr><td>110000</td><td>1</td></tr><tr><td>111000</td><td>2</td></tr><tr><td>112500</td><td>1</td></tr><tr><td>114000</td><td>1</td></tr><tr><td>116500</td><td>1</td></tr><tr><td>119000</td><td>1</td></tr><tr><td>120000</td><td>4</td></tr><tr><td>121500</td><td>1</td></tr><tr><td>130500</td><td>1</td></tr><tr><td>136500</td><td>1</td></tr><tr><td>140000</td><td>1</td></tr><tr><td>156000</td><td>1</td></tr><tr><td>215000</td><td>1</td></tr><tr><td>217000</td><td>1</td></tr><tr><td>221000</td><td>1</td></tr><tr><td>230500</td><td>1</td></tr><tr><td>239500</td><td>1</td></tr><tr><td>247000</td><td>1</td></tr><tr><td>290500</td><td>18</td></tr><tr><td>295500</td><td>1</td></tr><tr><td>333000</td><td>1</td></tr><tr><td>338000</td><td>1</td></tr><tr><td>352500</td><td>1</td></tr><tr><td>381500</td><td>1</td></tr><tr><td>386000</td><td>1</td></tr><tr><td>400000</td><td>1</td></tr><tr><td>430500</td><td>1</td></tr><tr><td>436500</td><td>1</td></tr><tr><td>479000</td><td>1</td></tr><tr><td>486000</td><td>1</td></tr><tr><td>511000</td><td>1</td></tr><tr><td>534500</td><td>1</td></tr><tr><td>535000</td><td>8</td></tr><tr><td>544000</td><td>1</td></tr><tr><td>558500</td><td>1</td></tr><tr><td>598500</td><td>1</td></tr><tr><td>660500</td><td>1</td></tr><tr><td>684000</td><td>1</td></tr><tr><td>727000</td><td>1</td></tr><tr><td>727500</td><td>1</td></tr><tr><td>800500</td><td>2</td></tr><tr><td>827500</td><td>1</td></tr><tr><td>871000</td><td>1</td></tr><tr><td>901500</td><td>1</td></tr><tr><td>914500</td><td>11</td></tr><tr><td>927500</td><td>1</td></tr><tr><td>933000</td><td>1</td></tr><tr><td>958000</td><td>1</td></tr><tr><td>1001500</td><td>1</td></tr><tr><td>1095000</td><td>1</td></tr><tr><td>1306500</td><td>1</td></tr><tr><td>1450000</td><td>1</td></tr><tr><td>1454000</td><td>1</td></tr><tr><td>1560500</td><td>1</td></tr><tr><td>3434500</td><td>1</td></tr><tr><td>3484500</td><td>1</td></tr><tr><td>7971000</td><td>1</td></tr><tr><td>9842000</td><td>1</td></tr><tr><td>12992000</td><td>1</td></tr><tr><td>1040400000</td><td>1</td></tr></tbody></table></div>"
      ]
     },
     "metadata": {
      "application/vnd.databricks.v1+output": {
       "addedWidgets": {},
       "aggData": [],
       "aggError": "",
       "aggOverflow": false,
       "aggSchema": [],
       "aggSeriesLimitReached": false,
       "aggType": "",
       "arguments": {},
       "columnCustomDisplayInfos": {},
       "data": [
        [
         0,
         7733
        ],
        [
         500,
         154335
        ],
        [
         1000,
         431678
        ],
        [
         1500,
         415413
        ],
        [
         2000,
         269792
        ],
        [
         2500,
         154918
        ],
        [
         3000,
         90857
        ],
        [
         3500,
         48477
        ],
        [
         4000,
         28874
        ],
        [
         4500,
         16694
        ],
        [
         5000,
         10918
        ],
        [
         5500,
         6947
        ],
        [
         6000,
         5130
        ],
        [
         6500,
         3297
        ],
        [
         7000,
         2600
        ],
        [
         7500,
         1785
        ],
        [
         8000,
         1528
        ],
        [
         8500,
         1010
        ],
        [
         9000,
         876
        ],
        [
         9500,
         674
        ],
        [
         10000,
         634
        ],
        [
         10500,
         405
        ],
        [
         11000,
         372
        ],
        [
         11500,
         283
        ],
        [
         12000,
         305
        ],
        [
         12500,
         216
        ],
        [
         13000,
         182
        ],
        [
         13500,
         128
        ],
        [
         14000,
         166
        ],
        [
         14500,
         101
        ],
        [
         15000,
         119
        ],
        [
         15500,
         86
        ],
        [
         16000,
         91
        ],
        [
         16500,
         55
        ],
        [
         17000,
         58
        ],
        [
         17500,
         66
        ],
        [
         18000,
         57
        ],
        [
         18500,
         34
        ],
        [
         19000,
         43
        ],
        [
         19500,
         182
        ],
        [
         20000,
         57
        ],
        [
         20500,
         31
        ],
        [
         21000,
         29
        ],
        [
         21500,
         32
        ],
        [
         22000,
         23
        ],
        [
         22500,
         18
        ],
        [
         23000,
         19
        ],
        [
         23500,
         16
        ],
        [
         24000,
         15
        ],
        [
         24500,
         13
        ],
        [
         25000,
         20
        ],
        [
         25500,
         13
        ],
        [
         26000,
         17
        ],
        [
         26500,
         15
        ],
        [
         27000,
         11
        ],
        [
         27500,
         9
        ],
        [
         28000,
         14
        ],
        [
         28500,
         4
        ],
        [
         29000,
         12
        ],
        [
         29500,
         59
        ],
        [
         30000,
         18
        ],
        [
         30500,
         7
        ],
        [
         31000,
         10
        ],
        [
         31500,
         6
        ],
        [
         32000,
         9
        ],
        [
         32500,
         13
        ],
        [
         33000,
         7
        ],
        [
         33500,
         8
        ],
        [
         34000,
         7
        ],
        [
         34500,
         4
        ],
        [
         35000,
         7
        ],
        [
         35500,
         4
        ],
        [
         36000,
         6
        ],
        [
         36500,
         2
        ],
        [
         37000,
         6
        ],
        [
         37500,
         1
        ],
        [
         38000,
         8
        ],
        [
         38500,
         1
        ],
        [
         39000,
         1
        ],
        [
         39500,
         17
        ],
        [
         40000,
         4
        ],
        [
         40500,
         7
        ],
        [
         41000,
         3
        ],
        [
         41500,
         1
        ],
        [
         42000,
         1
        ],
        [
         42500,
         4
        ],
        [
         43000,
         4
        ],
        [
         43500,
         2
        ],
        [
         44000,
         3
        ],
        [
         44500,
         3
        ],
        [
         45000,
         1
        ],
        [
         45500,
         5
        ],
        [
         46000,
         2
        ],
        [
         46500,
         1
        ],
        [
         47500,
         3
        ],
        [
         48000,
         2
        ],
        [
         48500,
         3
        ],
        [
         49500,
         4
        ],
        [
         50000,
         1
        ],
        [
         51000,
         3
        ],
        [
         51500,
         2
        ],
        [
         52000,
         1
        ],
        [
         52500,
         2
        ],
        [
         53000,
         1
        ],
        [
         54500,
         2
        ],
        [
         55000,
         1
        ],
        [
         56000,
         1
        ],
        [
         56500,
         1
        ],
        [
         57000,
         1
        ],
        [
         58000,
         5
        ],
        [
         59000,
         1
        ],
        [
         59500,
         1
        ],
        [
         60000,
         5
        ],
        [
         61500,
         1
        ],
        [
         65000,
         1
        ],
        [
         65500,
         2
        ],
        [
         66000,
         1
        ],
        [
         69500,
         2
        ],
        [
         70500,
         1
        ],
        [
         72000,
         1
        ],
        [
         74000,
         2
        ],
        [
         75000,
         1
        ],
        [
         79000,
         1
        ],
        [
         80000,
         1
        ],
        [
         82500,
         1
        ],
        [
         84500,
         1
        ],
        [
         85000,
         1
        ],
        [
         86000,
         3
        ],
        [
         87000,
         1
        ],
        [
         88000,
         1
        ],
        [
         90500,
         1
        ],
        [
         93000,
         1
        ],
        [
         94000,
         1
        ],
        [
         99500,
         4
        ],
        [
         108000,
         1
        ],
        [
         110000,
         1
        ],
        [
         111000,
         2
        ],
        [
         112500,
         1
        ],
        [
         114000,
         1
        ],
        [
         116500,
         1
        ],
        [
         119000,
         1
        ],
        [
         120000,
         4
        ],
        [
         121500,
         1
        ],
        [
         130500,
         1
        ],
        [
         136500,
         1
        ],
        [
         140000,
         1
        ],
        [
         156000,
         1
        ],
        [
         215000,
         1
        ],
        [
         217000,
         1
        ],
        [
         221000,
         1
        ],
        [
         230500,
         1
        ],
        [
         239500,
         1
        ],
        [
         247000,
         1
        ],
        [
         290500,
         18
        ],
        [
         295500,
         1
        ],
        [
         333000,
         1
        ],
        [
         338000,
         1
        ],
        [
         352500,
         1
        ],
        [
         381500,
         1
        ],
        [
         386000,
         1
        ],
        [
         400000,
         1
        ],
        [
         430500,
         1
        ],
        [
         436500,
         1
        ],
        [
         479000,
         1
        ],
        [
         486000,
         1
        ],
        [
         511000,
         1
        ],
        [
         534500,
         1
        ],
        [
         535000,
         8
        ],
        [
         544000,
         1
        ],
        [
         558500,
         1
        ],
        [
         598500,
         1
        ],
        [
         660500,
         1
        ],
        [
         684000,
         1
        ],
        [
         727000,
         1
        ],
        [
         727500,
         1
        ],
        [
         800500,
         2
        ],
        [
         827500,
         1
        ],
        [
         871000,
         1
        ],
        [
         901500,
         1
        ],
        [
         914500,
         11
        ],
        [
         927500,
         1
        ],
        [
         933000,
         1
        ],
        [
         958000,
         1
        ],
        [
         1001500,
         1
        ],
        [
         1095000,
         1
        ],
        [
         1306500,
         1
        ],
        [
         1450000,
         1
        ],
        [
         1454000,
         1
        ],
        [
         1560500,
         1
        ],
        [
         3434500,
         1
        ],
        [
         3484500,
         1
        ],
        [
         7971000,
         1
        ],
        [
         9842000,
         1
        ],
        [
         12992000,
         1
        ],
        [
         1040400000,
         1
        ]
       ],
       "datasetInfos": [],
       "dbfsResultPath": null,
       "isJsonSchema": true,
       "metadata": {},
       "overflow": false,
       "plotOptions": {
        "customPlotOptions": {},
        "displayType": "table",
        "pivotAggregation": null,
        "pivotColumns": null,
        "xColumns": null,
        "yColumns": null
       },
       "removedWidgets": [],
       "schema": [
        {
         "metadata": "{}",
         "name": "size_bin",
         "type": "\"long\""
        },
        {
         "metadata": "{}",
         "name": "count",
         "type": "\"long\""
        }
       ],
       "type": "table"
      }
     },
     "output_type": "display_data"
    }
   ],
   "source": [
    "display(spark.sql(\"\"\"\n",
    "-- 5. House size bins\n",
    "SELECT FLOOR(house_size / 500) * 500 AS size_bin,\n",
    "       COUNT(*) AS count\n",
    "FROM usa_housing.clean_data\n",
    "WHERE house_size > 0\n",
    "GROUP BY size_bin\n",
    "ORDER BY size_bin\n",
    "\"\"\"))"
   ]
  },
  {
   "cell_type": "code",
   "execution_count": 0,
   "metadata": {
    "application/vnd.databricks.v1+cell": {
     "cellMetadata": {
      "byteLimit": 2048000,
      "rowLimit": 10000
     },
     "inputWidgets": {},
     "nuid": "09b88dac-bd6a-4912-9f84-2da76a3850d4",
     "showTitle": false,
     "tableResultSettingsMap": {},
     "title": ""
    }
   },
   "outputs": [
    {
     "output_type": "display_data",
     "data": {
      "text/html": [
       "<style scoped>\n",
       "  .table-result-container {\n",
       "    max-height: 300px;\n",
       "    overflow: auto;\n",
       "  }\n",
       "  table, th, td {\n",
       "    border: 1px solid black;\n",
       "    border-collapse: collapse;\n",
       "  }\n",
       "  th, td {\n",
       "    padding: 5px;\n",
       "  }\n",
       "  th {\n",
       "    text-align: left;\n",
       "  }\n",
       "</style><div class='table-result-container'><table class='table-result'><thead style='background-color: white'><tr><th>state</th><th>city</th><th>price</th></tr></thead><tbody><tr><td>Alabama</td><td>Bay Minette</td><td>2.63055E7</td></tr><tr><td>Alabama</td><td>Gallion</td><td>1.9999E7</td></tr><tr><td>Alabama</td><td>Salem</td><td>1.9E7</td></tr><tr><td>Alaska</td><td>Homer</td><td>9000000.0</td></tr><tr><td>Alaska</td><td>Palmer</td><td>8950000.0</td></tr><tr><td>Alaska</td><td>Anchorage</td><td>6674025.0</td></tr><tr><td>Arizona</td><td>Paradise Valley</td><td>3.06E7</td></tr><tr><td>Arizona</td><td>Scottsdale</td><td>2.95E7</td></tr><tr><td>Arizona</td><td>Congress</td><td>2.5E7</td></tr><tr><td>Arkansas</td><td>Bentonville</td><td>1.878875E7</td></tr><tr><td>Arkansas</td><td>Rogers</td><td>1.418575E7</td></tr><tr><td>Arkansas</td><td>Fayetteville</td><td>1.05E7</td></tr><tr><td>California</td><td>International</td><td>2.1474836E9</td></tr><tr><td>California</td><td>San Diego</td><td>5.15E8</td></tr><tr><td>California</td><td>Los Angeles</td><td>2.95E8</td></tr><tr><td>Colorado</td><td>Glenwood Springs</td><td>8.0E7</td></tr><tr><td>Colorado</td><td>Aspen</td><td>5.5E7</td></tr><tr><td>Colorado</td><td>Clifton</td><td>5.5E7</td></tr><tr><td>Connecticut</td><td>Darien</td><td>1.0E8</td></tr><tr><td>Connecticut</td><td>Darien</td><td>1.0E8</td></tr><tr><td>Connecticut</td><td>Woodstock</td><td>6.0E7</td></tr><tr><td>Delaware</td><td>Dagsboro</td><td>2.1275E7</td></tr><tr><td>Delaware</td><td>Lewes</td><td>1.2881E7</td></tr><tr><td>Delaware</td><td>Milton</td><td>8995000.0</td></tr><tr><td>District of Columbia</td><td>Washington</td><td>2.0E7</td></tr><tr><td>District of Columbia</td><td>Washington</td><td>1.65E7</td></tr><tr><td>District of Columbia</td><td>Washington</td><td>1.45E7</td></tr><tr><td>Florida</td><td>Miami</td><td>1.5E8</td></tr><tr><td>Florida</td><td>Palm Beach</td><td>1.5E8</td></tr><tr><td>Florida</td><td>Palm Beach</td><td>1.15E8</td></tr><tr><td>Georgia</td><td>Atlanta</td><td>2.815E8</td></tr><tr><td>Georgia</td><td>Union City</td><td>1.62627E8</td></tr><tr><td>Georgia</td><td>Bolingbroke</td><td>4.525E7</td></tr><tr><td>Guam</td><td>Dededo</td><td>3.0E7</td></tr><tr><td>Guam</td><td>Tumon</td><td>1.11E7</td></tr><tr><td>Guam</td><td>Tumon</td><td>8300000.0</td></tr><tr><td>Hawaii</td><td>Lihue</td><td>7.9E7</td></tr><tr><td>Hawaii</td><td>Lahaina</td><td>5.95E7</td></tr><tr><td>Hawaii</td><td>Kailua Kona</td><td>3.8E7</td></tr><tr><td>Idaho</td><td>Blaine County</td><td>2.8E7</td></tr><tr><td>Idaho</td><td>Kuna</td><td>2.5E7</td></tr><tr><td>Idaho</td><td>Eagle</td><td>2.5E7</td></tr><tr><td>Illinois</td><td>Wayne City</td><td>1.299E8</td></tr><tr><td>Illinois</td><td>Oswego</td><td>2.4383E7</td></tr><tr><td>Illinois</td><td>Chicago</td><td>1.85E7</td></tr><tr><td>Indiana</td><td>Columbus</td><td>3.0E7</td></tr><tr><td>Indiana</td><td>Whitestown</td><td>2.31E7</td></tr><tr><td>Indiana</td><td>Culver</td><td>1.65E7</td></tr><tr><td>Iowa</td><td>Spirit Lake</td><td>1.19E7</td></tr><tr><td>Iowa</td><td>Council Bluffs</td><td>1.1518275E7</td></tr><tr><td>Iowa</td><td>Tiffin</td><td>1.1304909E7</td></tr><tr><td>Kansas</td><td>Eureka</td><td>1.0E9</td></tr><tr><td>Kansas</td><td>Sharon Springs</td><td>2.5E7</td></tr><tr><td>Kansas</td><td>Cottonwood Falls</td><td>1.5135035E7</td></tr><tr><td>Kentucky</td><td>Shelbyville</td><td>4.25E7</td></tr><tr><td>Kentucky</td><td>Whitesville</td><td>2.5E7</td></tr><tr><td>Kentucky</td><td>Midway</td><td>1.775E7</td></tr><tr><td>Louisiana</td><td>Lake Charles</td><td>2.1015958E7</td></tr><tr><td>Louisiana</td><td>Lafayette</td><td>1.45225E7</td></tr><tr><td>Louisiana</td><td>Baton Rouge</td><td>1.4E7</td></tr><tr><td>Maine</td><td>Brooklin</td><td>9000000.0</td></tr><tr><td>Maine</td><td>Bar Harbor</td><td>8900000.0</td></tr><tr><td>Maine</td><td>Camden</td><td>8500000.0</td></tr><tr><td>Maryland</td><td>East New Market</td><td>5.15E7</td></tr><tr><td>Maryland</td><td>Ellicott City</td><td>2.4E7</td></tr><tr><td>Maryland</td><td>Annapolis</td><td>1.9995E7</td></tr><tr><td>Massachusetts</td><td>Barnstable</td><td>3.0E7</td></tr><tr><td>Massachusetts</td><td>Nantucket</td><td>2.8E7</td></tr><tr><td>Massachusetts</td><td>Nantucket</td><td>2.65E7</td></tr><tr><td>Michigan</td><td>Alpena</td><td>1.8E7</td></tr><tr><td>Michigan</td><td>Shelby Township</td><td>1.28E7</td></tr><tr><td>Michigan</td><td>Montague</td><td>1.25E7</td></tr><tr><td>Minnesota</td><td>Prior Lake</td><td>5.2E7</td></tr><tr><td>Minnesota</td><td>Prior Lake</td><td>2.1E7</td></tr><tr><td>Minnesota</td><td>Prior Lake</td><td>1.9E7</td></tr><tr><td>Mississippi</td><td>Ocean Springs</td><td>1.27E7</td></tr><tr><td>Mississippi</td><td>Poplarville</td><td>1.225E7</td></tr><tr><td>Mississippi</td><td>Madison</td><td>1.16E7</td></tr><tr><td>Missouri</td><td>Bates City</td><td>3.965049E7</td></tr><tr><td>Missouri</td><td>Linn Creek</td><td>2.4E7</td></tr><tr><td>Missouri</td><td>Wentzville</td><td>2.0E7</td></tr><tr><td>Montana</td><td>Bozeman</td><td>4.0E7</td></tr><tr><td>Montana</td><td>Whitefish</td><td>3.0E7</td></tr><tr><td>Montana</td><td>Missoula</td><td>2.835E7</td></tr><tr><td>Nebraska</td><td>Grant</td><td>3.65E7</td></tr><tr><td>Nebraska</td><td>Crookston</td><td>2.75E7</td></tr><tr><td>Nebraska</td><td>Crookston</td><td>2.75E7</td></tr><tr><td>Nevada</td><td>Incline Village</td><td>4.75E7</td></tr><tr><td>Nevada</td><td>Incline Village</td><td>4.385E7</td></tr><tr><td>Nevada</td><td>Glenbrook</td><td>3.85E7</td></tr><tr><td>New Brunswick</td><td>Cedartown</td><td>2500.0</td></tr><tr><td>New Hampshire</td><td>Wolfeboro</td><td>1.95E7</td></tr><tr><td>New Hampshire</td><td>North Hampton</td><td>1.75E7</td></tr><tr><td>New Hampshire</td><td>North Hampton</td><td>1.25E7</td></tr><tr><td>New Jersey</td><td>Franklin Lakes</td><td>2.5E7</td></tr><tr><td>New Jersey</td><td>Alpine</td><td>2.5E7</td></tr><tr><td>New Jersey</td><td>Colts Neck</td><td>2.49E7</td></tr><tr><td>New Mexico</td><td>Stanley</td><td>2.75E7</td></tr><tr><td>New Mexico</td><td>Eagle Nest</td><td>2.3E7</td></tr><tr><td>New Mexico</td><td>Santa Fe</td><td>2.26E7</td></tr><tr><td>New York</td><td>Bronx</td><td>8.75E8</td></tr><tr><td>New York</td><td>New York City</td><td>1.69E8</td></tr><tr><td>New York</td><td>New York</td><td>1.35E8</td></tr><tr><td>North Carolina</td><td>Ferguson</td><td>3.75E7</td></tr><tr><td>North Carolina</td><td>Carolina Beach</td><td>3.5E7</td></tr><tr><td>North Carolina</td><td>Morehead City</td><td>3.45E7</td></tr><tr><td>North Dakota</td><td>Baldwin</td><td>7000000.0</td></tr><tr><td>North Dakota</td><td>Watford City</td><td>5760000.0</td></tr><tr><td>North Dakota</td><td>New Town</td><td>5424527.0</td></tr><tr><td>Ohio</td><td>Raymond</td><td>2.736074E7</td></tr><tr><td>Ohio</td><td>Elyria</td><td>2.59E7</td></tr><tr><td>Ohio</td><td>Saint Clairsville</td><td>2.4E7</td></tr><tr><td>Oklahoma</td><td>Hammon</td><td>1.5E7</td></tr><tr><td>Oklahoma</td><td>Sallisaw</td><td>1.4E7</td></tr><tr><td>Oklahoma</td><td>Boswell</td><td>1.08813E7</td></tr><tr><td>Oregon</td><td>Bend</td><td>1.27E8</td></tr><tr><td>Oregon</td><td>Prineville</td><td>6.5E7</td></tr><tr><td>Oregon</td><td>West Linn</td><td>4.2E7</td></tr><tr><td>Pennsylvania</td><td>West Chester</td><td>3.4E7</td></tr><tr><td>Pennsylvania</td><td>Newtown Square</td><td>2.99E7</td></tr><tr><td>Pennsylvania</td><td>Philadelphia</td><td>2.5E7</td></tr><tr><td>Puerto Rico</td><td>Isabela</td><td>2.5E7</td></tr><tr><td>Puerto Rico</td><td>Dorado</td><td>1.995E7</td></tr><tr><td>Puerto Rico</td><td>Dorado</td><td>1.95E7</td></tr><tr><td>Rhode Island</td><td>Newport</td><td>1.4E7</td></tr><tr><td>Rhode Island</td><td>Newport</td><td>1.2999E7</td></tr><tr><td>Rhode Island</td><td>Block Island</td><td>1.08E7</td></tr><tr><td>South Carolina</td><td>Ridgeville</td><td>3.5E7</td></tr><tr><td>South Carolina</td><td>Turbeville</td><td>2.25E7</td></tr><tr><td>South Carolina</td><td>Ridgeland</td><td>2.2E7</td></tr><tr><td>South Dakota</td><td>Belle Fourche</td><td>1.3325E7</td></tr><tr><td>South Dakota</td><td>Rapid City</td><td>1.1E7</td></tr><tr><td>South Dakota</td><td>Rapid City</td><td>1.0679865E7</td></tr><tr><td>Tennessee</td><td>Smyrna</td><td>3.5E7</td></tr><tr><td>Tennessee</td><td>Franklin</td><td>2.3E7</td></tr><tr><td>Tennessee</td><td>Somerville</td><td>2.252225E7</td></tr><tr><td>Texas</td><td>Kosse</td><td>2.125E8</td></tr><tr><td>Texas</td><td>Burnet</td><td>4.5E7</td></tr><tr><td>Texas</td><td>Austin</td><td>4.5E7</td></tr><tr><td>Utah</td><td>New Harmony</td><td>6.929851E7</td></tr><tr><td>Utah</td><td>New Harmony</td><td>6.929851E7</td></tr><tr><td>Utah</td><td>Springville</td><td>4.8E7</td></tr><tr><td>Vermont</td><td>Stowe</td><td>1.6E7</td></tr><tr><td>Vermont</td><td>Norwich</td><td>8000000.0</td></tr><tr><td>Vermont</td><td>Stowe</td><td>6750000.0</td></tr><tr><td>Virgin Islands</td><td>Christiansted</td><td>2.45E7</td></tr><tr><td>Virgin Islands</td><td>Saint Thomas</td><td>2.3E7</td></tr><tr><td>Virgin Islands</td><td>Christiansted</td><td>2.25E7</td></tr><tr><td>Virginia</td><td>Alexandria</td><td>6.0E7</td></tr><tr><td>Virginia</td><td>Scottsville</td><td>5.5E7</td></tr><tr><td>Virginia</td><td>Alexandria</td><td>4.5E7</td></tr><tr><td>Washington</td><td>Moses Lake</td><td>3.8E7</td></tr><tr><td>Washington</td><td>Bellevue</td><td>3.6E7</td></tr><tr><td>Washington</td><td>Royal City</td><td>3.3E7</td></tr><tr><td>West Virginia</td><td>Logan</td><td>1.1E8</td></tr><tr><td>West Virginia</td><td>Summersville</td><td>1.95E7</td></tr><tr><td>West Virginia</td><td>Harman</td><td>1.5E7</td></tr><tr><td>Wisconsin</td><td>Lake Geneva</td><td>3.925E7</td></tr><tr><td>Wisconsin</td><td>Lake Geneva</td><td>2.075E7</td></tr><tr><td>Wisconsin</td><td>Waterloo</td><td>9393000.0</td></tr><tr><td>Wyoming</td><td>Jackson</td><td>6.5E7</td></tr><tr><td>Wyoming</td><td>Wilson</td><td>5.0E7</td></tr><tr><td>Wyoming</td><td>Alpine</td><td>4.4E7</td></tr><tr><td>unknown</td><td>Binder</td><td>211990.0</td></tr><tr><td>unknown</td><td>Binder</td><td>207990.0</td></tr><tr><td>unknown</td><td>Binder</td><td>204990.0</td></tr></tbody></table></div>"
      ]
     },
     "metadata": {
      "application/vnd.databricks.v1+output": {
       "addedWidgets": {},
       "aggData": [],
       "aggError": "",
       "aggOverflow": false,
       "aggSchema": [],
       "aggSeriesLimitReached": false,
       "aggType": "",
       "arguments": {},
       "columnCustomDisplayInfos": {},
       "data": [
        [
         "Alabama",
         "Bay Minette",
         2.63055E7
        ],
        [
         "Alabama",
         "Gallion",
         1.9999E7
        ],
        [
         "Alabama",
         "Salem",
         1.9E7
        ],
        [
         "Alaska",
         "Homer",
         9000000.0
        ],
        [
         "Alaska",
         "Palmer",
         8950000.0
        ],
        [
         "Alaska",
         "Anchorage",
         6674025.0
        ],
        [
         "Arizona",
         "Paradise Valley",
         3.06E7
        ],
        [
         "Arizona",
         "Scottsdale",
         2.95E7
        ],
        [
         "Arizona",
         "Congress",
         2.5E7
        ],
        [
         "Arkansas",
         "Bentonville",
         1.878875E7
        ],
        [
         "Arkansas",
         "Rogers",
         1.418575E7
        ],
        [
         "Arkansas",
         "Fayetteville",
         1.05E7
        ],
        [
         "California",
         "International",
         2.1474836E9
        ],
        [
         "California",
         "San Diego",
         5.15E8
        ],
        [
         "California",
         "Los Angeles",
         2.95E8
        ],
        [
         "Colorado",
         "Glenwood Springs",
         8.0E7
        ],
        [
         "Colorado",
         "Aspen",
         5.5E7
        ],
        [
         "Colorado",
         "Clifton",
         5.5E7
        ],
        [
         "Connecticut",
         "Darien",
         1.0E8
        ],
        [
         "Connecticut",
         "Darien",
         1.0E8
        ],
        [
         "Connecticut",
         "Woodstock",
         6.0E7
        ],
        [
         "Delaware",
         "Dagsboro",
         2.1275E7
        ],
        [
         "Delaware",
         "Lewes",
         1.2881E7
        ],
        [
         "Delaware",
         "Milton",
         8995000.0
        ],
        [
         "District of Columbia",
         "Washington",
         2.0E7
        ],
        [
         "District of Columbia",
         "Washington",
         1.65E7
        ],
        [
         "District of Columbia",
         "Washington",
         1.45E7
        ],
        [
         "Florida",
         "Miami",
         1.5E8
        ],
        [
         "Florida",
         "Palm Beach",
         1.5E8
        ],
        [
         "Florida",
         "Palm Beach",
         1.15E8
        ],
        [
         "Georgia",
         "Atlanta",
         2.815E8
        ],
        [
         "Georgia",
         "Union City",
         1.62627E8
        ],
        [
         "Georgia",
         "Bolingbroke",
         4.525E7
        ],
        [
         "Guam",
         "Dededo",
         3.0E7
        ],
        [
         "Guam",
         "Tumon",
         1.11E7
        ],
        [
         "Guam",
         "Tumon",
         8300000.0
        ],
        [
         "Hawaii",
         "Lihue",
         7.9E7
        ],
        [
         "Hawaii",
         "Lahaina",
         5.95E7
        ],
        [
         "Hawaii",
         "Kailua Kona",
         3.8E7
        ],
        [
         "Idaho",
         "Blaine County",
         2.8E7
        ],
        [
         "Idaho",
         "Kuna",
         2.5E7
        ],
        [
         "Idaho",
         "Eagle",
         2.5E7
        ],
        [
         "Illinois",
         "Wayne City",
         1.299E8
        ],
        [
         "Illinois",
         "Oswego",
         2.4383E7
        ],
        [
         "Illinois",
         "Chicago",
         1.85E7
        ],
        [
         "Indiana",
         "Columbus",
         3.0E7
        ],
        [
         "Indiana",
         "Whitestown",
         2.31E7
        ],
        [
         "Indiana",
         "Culver",
         1.65E7
        ],
        [
         "Iowa",
         "Spirit Lake",
         1.19E7
        ],
        [
         "Iowa",
         "Council Bluffs",
         1.1518275E7
        ],
        [
         "Iowa",
         "Tiffin",
         1.1304909E7
        ],
        [
         "Kansas",
         "Eureka",
         1.0E9
        ],
        [
         "Kansas",
         "Sharon Springs",
         2.5E7
        ],
        [
         "Kansas",
         "Cottonwood Falls",
         1.5135035E7
        ],
        [
         "Kentucky",
         "Shelbyville",
         4.25E7
        ],
        [
         "Kentucky",
         "Whitesville",
         2.5E7
        ],
        [
         "Kentucky",
         "Midway",
         1.775E7
        ],
        [
         "Louisiana",
         "Lake Charles",
         2.1015958E7
        ],
        [
         "Louisiana",
         "Lafayette",
         1.45225E7
        ],
        [
         "Louisiana",
         "Baton Rouge",
         1.4E7
        ],
        [
         "Maine",
         "Brooklin",
         9000000.0
        ],
        [
         "Maine",
         "Bar Harbor",
         8900000.0
        ],
        [
         "Maine",
         "Camden",
         8500000.0
        ],
        [
         "Maryland",
         "East New Market",
         5.15E7
        ],
        [
         "Maryland",
         "Ellicott City",
         2.4E7
        ],
        [
         "Maryland",
         "Annapolis",
         1.9995E7
        ],
        [
         "Massachusetts",
         "Barnstable",
         3.0E7
        ],
        [
         "Massachusetts",
         "Nantucket",
         2.8E7
        ],
        [
         "Massachusetts",
         "Nantucket",
         2.65E7
        ],
        [
         "Michigan",
         "Alpena",
         1.8E7
        ],
        [
         "Michigan",
         "Shelby Township",
         1.28E7
        ],
        [
         "Michigan",
         "Montague",
         1.25E7
        ],
        [
         "Minnesota",
         "Prior Lake",
         5.2E7
        ],
        [
         "Minnesota",
         "Prior Lake",
         2.1E7
        ],
        [
         "Minnesota",
         "Prior Lake",
         1.9E7
        ],
        [
         "Mississippi",
         "Ocean Springs",
         1.27E7
        ],
        [
         "Mississippi",
         "Poplarville",
         1.225E7
        ],
        [
         "Mississippi",
         "Madison",
         1.16E7
        ],
        [
         "Missouri",
         "Bates City",
         3.965049E7
        ],
        [
         "Missouri",
         "Linn Creek",
         2.4E7
        ],
        [
         "Missouri",
         "Wentzville",
         2.0E7
        ],
        [
         "Montana",
         "Bozeman",
         4.0E7
        ],
        [
         "Montana",
         "Whitefish",
         3.0E7
        ],
        [
         "Montana",
         "Missoula",
         2.835E7
        ],
        [
         "Nebraska",
         "Grant",
         3.65E7
        ],
        [
         "Nebraska",
         "Crookston",
         2.75E7
        ],
        [
         "Nebraska",
         "Crookston",
         2.75E7
        ],
        [
         "Nevada",
         "Incline Village",
         4.75E7
        ],
        [
         "Nevada",
         "Incline Village",
         4.385E7
        ],
        [
         "Nevada",
         "Glenbrook",
         3.85E7
        ],
        [
         "New Brunswick",
         "Cedartown",
         2500.0
        ],
        [
         "New Hampshire",
         "Wolfeboro",
         1.95E7
        ],
        [
         "New Hampshire",
         "North Hampton",
         1.75E7
        ],
        [
         "New Hampshire",
         "North Hampton",
         1.25E7
        ],
        [
         "New Jersey",
         "Franklin Lakes",
         2.5E7
        ],
        [
         "New Jersey",
         "Alpine",
         2.5E7
        ],
        [
         "New Jersey",
         "Colts Neck",
         2.49E7
        ],
        [
         "New Mexico",
         "Stanley",
         2.75E7
        ],
        [
         "New Mexico",
         "Eagle Nest",
         2.3E7
        ],
        [
         "New Mexico",
         "Santa Fe",
         2.26E7
        ],
        [
         "New York",
         "Bronx",
         8.75E8
        ],
        [
         "New York",
         "New York City",
         1.69E8
        ],
        [
         "New York",
         "New York",
         1.35E8
        ],
        [
         "North Carolina",
         "Ferguson",
         3.75E7
        ],
        [
         "North Carolina",
         "Carolina Beach",
         3.5E7
        ],
        [
         "North Carolina",
         "Morehead City",
         3.45E7
        ],
        [
         "North Dakota",
         "Baldwin",
         7000000.0
        ],
        [
         "North Dakota",
         "Watford City",
         5760000.0
        ],
        [
         "North Dakota",
         "New Town",
         5424527.0
        ],
        [
         "Ohio",
         "Raymond",
         2.736074E7
        ],
        [
         "Ohio",
         "Elyria",
         2.59E7
        ],
        [
         "Ohio",
         "Saint Clairsville",
         2.4E7
        ],
        [
         "Oklahoma",
         "Hammon",
         1.5E7
        ],
        [
         "Oklahoma",
         "Sallisaw",
         1.4E7
        ],
        [
         "Oklahoma",
         "Boswell",
         1.08813E7
        ],
        [
         "Oregon",
         "Bend",
         1.27E8
        ],
        [
         "Oregon",
         "Prineville",
         6.5E7
        ],
        [
         "Oregon",
         "West Linn",
         4.2E7
        ],
        [
         "Pennsylvania",
         "West Chester",
         3.4E7
        ],
        [
         "Pennsylvania",
         "Newtown Square",
         2.99E7
        ],
        [
         "Pennsylvania",
         "Philadelphia",
         2.5E7
        ],
        [
         "Puerto Rico",
         "Isabela",
         2.5E7
        ],
        [
         "Puerto Rico",
         "Dorado",
         1.995E7
        ],
        [
         "Puerto Rico",
         "Dorado",
         1.95E7
        ],
        [
         "Rhode Island",
         "Newport",
         1.4E7
        ],
        [
         "Rhode Island",
         "Newport",
         1.2999E7
        ],
        [
         "Rhode Island",
         "Block Island",
         1.08E7
        ],
        [
         "South Carolina",
         "Ridgeville",
         3.5E7
        ],
        [
         "South Carolina",
         "Turbeville",
         2.25E7
        ],
        [
         "South Carolina",
         "Ridgeland",
         2.2E7
        ],
        [
         "South Dakota",
         "Belle Fourche",
         1.3325E7
        ],
        [
         "South Dakota",
         "Rapid City",
         1.1E7
        ],
        [
         "South Dakota",
         "Rapid City",
         1.0679865E7
        ],
        [
         "Tennessee",
         "Smyrna",
         3.5E7
        ],
        [
         "Tennessee",
         "Franklin",
         2.3E7
        ],
        [
         "Tennessee",
         "Somerville",
         2.252225E7
        ],
        [
         "Texas",
         "Kosse",
         2.125E8
        ],
        [
         "Texas",
         "Burnet",
         4.5E7
        ],
        [
         "Texas",
         "Austin",
         4.5E7
        ],
        [
         "Utah",
         "New Harmony",
         6.929851E7
        ],
        [
         "Utah",
         "New Harmony",
         6.929851E7
        ],
        [
         "Utah",
         "Springville",
         4.8E7
        ],
        [
         "Vermont",
         "Stowe",
         1.6E7
        ],
        [
         "Vermont",
         "Norwich",
         8000000.0
        ],
        [
         "Vermont",
         "Stowe",
         6750000.0
        ],
        [
         "Virgin Islands",
         "Christiansted",
         2.45E7
        ],
        [
         "Virgin Islands",
         "Saint Thomas",
         2.3E7
        ],
        [
         "Virgin Islands",
         "Christiansted",
         2.25E7
        ],
        [
         "Virginia",
         "Alexandria",
         6.0E7
        ],
        [
         "Virginia",
         "Scottsville",
         5.5E7
        ],
        [
         "Virginia",
         "Alexandria",
         4.5E7
        ],
        [
         "Washington",
         "Moses Lake",
         3.8E7
        ],
        [
         "Washington",
         "Bellevue",
         3.6E7
        ],
        [
         "Washington",
         "Royal City",
         3.3E7
        ],
        [
         "West Virginia",
         "Logan",
         1.1E8
        ],
        [
         "West Virginia",
         "Summersville",
         1.95E7
        ],
        [
         "West Virginia",
         "Harman",
         1.5E7
        ],
        [
         "Wisconsin",
         "Lake Geneva",
         3.925E7
        ],
        [
         "Wisconsin",
         "Lake Geneva",
         2.075E7
        ],
        [
         "Wisconsin",
         "Waterloo",
         9393000.0
        ],
        [
         "Wyoming",
         "Jackson",
         6.5E7
        ],
        [
         "Wyoming",
         "Wilson",
         5.0E7
        ],
        [
         "Wyoming",
         "Alpine",
         4.4E7
        ],
        [
         "unknown",
         "Binder",
         211990.0
        ],
        [
         "unknown",
         "Binder",
         207990.0
        ],
        [
         "unknown",
         "Binder",
         204990.0
        ]
       ],
       "datasetInfos": [],
       "dbfsResultPath": null,
       "isJsonSchema": true,
       "metadata": {},
       "overflow": false,
       "plotOptions": {
        "customPlotOptions": {},
        "displayType": "table",
        "pivotAggregation": null,
        "pivotColumns": null,
        "xColumns": null,
        "yColumns": null
       },
       "removedWidgets": [],
       "schema": [
        {
         "metadata": "{}",
         "name": "state",
         "type": "\"string\""
        },
        {
         "metadata": "{}",
         "name": "city",
         "type": "\"string\""
        },
        {
         "metadata": "{}",
         "name": "price",
         "type": "\"double\""
        }
       ],
       "type": "table"
      }
     },
     "output_type": "display_data"
    }
   ],
   "source": [
    "display(spark.sql(\"\"\"\n",
    "-- 6. Top 3 most expensive listings by state\n",
    "SELECT state, city, price\n",
    "FROM (\n",
    "    SELECT *,\n",
    "           ROW_NUMBER() OVER (PARTITION BY state ORDER BY price DESC) AS rank\n",
    "    FROM usa_housing.clean2_data\n",
    ")\n",
    "WHERE rank <= 3\n",
    "\"\"\"))\n"
   ]
  },
  {
   "cell_type": "code",
   "execution_count": 0,
   "metadata": {
    "application/vnd.databricks.v1+cell": {
     "cellMetadata": {
      "byteLimit": 2048000,
      "rowLimit": 10000
     },
     "inputWidgets": {},
     "nuid": "06a6f5a9-10a9-4bb0-9310-e519c8eb78fd",
     "showTitle": false,
     "tableResultSettingsMap": {},
     "title": ""
    }
   },
   "outputs": [
    {
     "output_type": "display_data",
     "data": {
      "text/html": [
       "<style scoped>\n",
       "  .table-result-container {\n",
       "    max-height: 300px;\n",
       "    overflow: auto;\n",
       "  }\n",
       "  table, th, td {\n",
       "    border: 1px solid black;\n",
       "    border-collapse: collapse;\n",
       "  }\n",
       "  th, td {\n",
       "    padding: 5px;\n",
       "  }\n",
       "  th {\n",
       "    text-align: left;\n",
       "  }\n",
       "</style><div class='table-result-container'><table class='table-result'><thead style='background-color: white'><tr><th>brokered_by</th><th>price</th><th>bed</th><th>bath</th><th>acre_lot</th><th>street</th><th>city</th><th>state</th><th>zip_code</th><th>house_size</th><th>price_per_sqft</th></tr></thead><tbody><tr><td>23826.0</td><td>2.1474836E9</td><td>2</td><td>2</td><td>0.12</td><td>11355.0</td><td>International</td><td>California</td><td>-1</td><td>885.0</td><td>2426535.1412429377</td></tr><tr><td>13872.0</td><td>5.15E8</td><td>2</td><td>2</td><td>2.59</td><td>1658312.0</td><td>San Diego</td><td>California</td><td>92119</td><td>1048.0</td><td>491412.213740458</td></tr><tr><td>98430.0</td><td>1850000.0</td><td>4</td><td>4</td><td>0.0</td><td>699459.0</td><td>Laurel</td><td>New York</td><td>11948</td><td>4.0</td><td>462500.0</td></tr><tr><td>100472.0</td><td>8.75E8</td><td>9</td><td>2</td><td>0.0</td><td>1811391.0</td><td>Bronx</td><td>New York</td><td>10458</td><td>2440.0</td><td>358606.5573770492</td></tr><tr><td>43753.0</td><td>9.5E7</td><td>0</td><td>0</td><td>120.0</td><td>362431.0</td><td>Beverly Hills</td><td>California</td><td>90210</td><td>741.0</td><td>128205.1282051282</td></tr><tr><td>41839.0</td><td>5.0E7</td><td>1</td><td>1</td><td>650.0</td><td>169262.0</td><td>Snowmass</td><td>Colorado</td><td>81654</td><td>1092.0</td><td>45787.54578754579</td></tr><tr><td>79515.0</td><td>5.5E7</td><td>3</td><td>2</td><td>0.0</td><td>1002957.0</td><td>Clifton</td><td>Colorado</td><td>81520</td><td>1248.0</td><td>44070.51282051282</td></tr><tr><td>16829.0</td><td>1.09E8</td><td>3</td><td>4</td><td>4.21</td><td>904983.0</td><td>Carpinteria</td><td>California</td><td>93013</td><td>2514.0</td><td>43357.19968178202</td></tr><tr><td>97348.0</td><td>2954050.0</td><td>0</td><td>0</td><td>118.16</td><td>3720.0</td><td>Bertram</td><td>Texas</td><td>78605</td><td>100.0</td><td>29540.5</td></tr><tr><td>23592.0</td><td>1.0E8</td><td>5</td><td>5</td><td>8.0</td><td>484175.0</td><td>Atherton</td><td>California</td><td>94027</td><td>3731.0</td><td>26802.46582685607</td></tr><tr><td>32437.0</td><td>1.295E7</td><td>8</td><td>6</td><td>5.0</td><td>293522.0</td><td>Wellington</td><td>Florida</td><td>33414</td><td>500.0</td><td>25900.0</td></tr><tr><td>55152.0</td><td>3.4E7</td><td>0</td><td>0</td><td>308.97</td><td>1319924.0</td><td>West Chester</td><td>Pennsylvania</td><td>19382</td><td>1379.0</td><td>24655.547498187094</td></tr><tr><td>18836.0</td><td>6.5E7</td><td>3</td><td>2</td><td>40040.0</td><td>868377.0</td><td>Prineville</td><td>Oregon</td><td>97754</td><td>2832.0</td><td>22951.977401129945</td></tr><tr><td>4302.0</td><td>5450000.0</td><td>1</td><td>1</td><td>0.85</td><td>1572453.0</td><td>Encinitas</td><td>California</td><td>92024</td><td>250.0</td><td>21800.0</td></tr><tr><td>81672.0</td><td>7818187.0</td><td>1</td><td>1</td><td>1281.67</td><td>286102.0</td><td>Louise</td><td>Texas</td><td>77455</td><td>375.0</td><td>20848.498666666666</td></tr><tr><td>88180.0</td><td>1.69E8</td><td>6</td><td>9</td><td>0.79</td><td>1218873.0</td><td>New York City</td><td>New York</td><td>10022</td><td>8255.0</td><td>20472.44094488189</td></tr><tr><td>29499.0</td><td>2000000.0</td><td>0</td><td>0</td><td>132.0</td><td>1880945.0</td><td>Bartlett</td><td>Texas</td><td>76511</td><td>100.0</td><td>20000.0</td></tr><tr><td>82978.0</td><td>6000000.0</td><td>1</td><td>1</td><td>100.99</td><td>718774.0</td><td>Lockhart</td><td>Texas</td><td>78644</td><td>300.0</td><td>20000.0</td></tr><tr><td>70572.0</td><td>9.5E7</td><td>10</td><td>14</td><td>6.67</td><td>13718.0</td><td>Key Largo</td><td>Florida</td><td>33037</td><td>5000.0</td><td>19000.0</td></tr><tr><td>70565.0</td><td>9.5E7</td><td>10</td><td>12</td><td>26.0</td><td>13718.0</td><td>Key Largo</td><td>Florida</td><td>33037</td><td>5000.0</td><td>19000.0</td></tr><tr><td>5144.0</td><td>7891000.0</td><td>1</td><td>1</td><td>1400.0</td><td>183928.0</td><td>Riggins</td><td>Idaho</td><td>83549</td><td>450.0</td><td>17535.555555555555</td></tr><tr><td>5145.0</td><td>7891000.0</td><td>1</td><td>1</td><td>1400.0</td><td>183927.0</td><td>Riggins</td><td>Idaho</td><td>83549</td><td>450.0</td><td>17535.555555555555</td></tr><tr><td>32472.0</td><td>1.35E8</td><td>5</td><td>6</td><td>0.0</td><td>1218872.0</td><td>New York</td><td>New York</td><td>10022</td><td>8055.0</td><td>16759.77653631285</td></tr><tr><td>32406.0</td><td>2.1E7</td><td>3</td><td>2</td><td>24633.0</td><td>1218045.0</td><td>unknown</td><td>California</td><td>93647</td><td>1283.0</td><td>16367.88776305534</td></tr><tr><td>31411.0</td><td>1.6E7</td><td>2</td><td>1</td><td>0.24</td><td>321135.0</td><td>Cottonwood</td><td>Idaho</td><td>83522</td><td>1000.0</td><td>16000.0</td></tr><tr><td>50342.0</td><td>1.1E7</td><td>2</td><td>1</td><td>3178.57</td><td>53627.0</td><td>Chemult</td><td>Oregon</td><td>97731</td><td>700.0</td><td>15714.285714285714</td></tr><tr><td>42981.0</td><td>7.8E7</td><td>14</td><td>19</td><td>9.4</td><td>101589.0</td><td>Southampton</td><td>New York</td><td>11968</td><td>5000.0</td><td>15600.0</td></tr><tr><td>92918.0</td><td>7.8E7</td><td>14</td><td>19</td><td>9.4</td><td>101623.0</td><td>Southampton</td><td>New York</td><td>11968</td><td>5000.0</td><td>15600.0</td></tr><tr><td>17457.0</td><td>1.09E7</td><td>1</td><td>1</td><td>1382.5</td><td>463485.0</td><td>Manchester</td><td>California</td><td>95459</td><td>700.0</td><td>15571.42857142857</td></tr><tr><td>45444.0</td><td>1.5E7</td><td>99</td><td>30</td><td>0.56</td><td>560818.0</td><td>Somerville</td><td>Massachusetts</td><td>2143</td><td>999.0</td><td>15015.015015015015</td></tr><tr><td>77505.0</td><td>1.15E7</td><td>3</td><td>1</td><td>660.0</td><td>1480835.0</td><td>Olney</td><td>Montana</td><td>59927</td><td>773.0</td><td>14877.102199223804</td></tr><tr><td>32456.0</td><td>9250000.0</td><td>5</td><td>1</td><td>20.67</td><td>1411940.0</td><td>Wellington</td><td>Florida</td><td>33449</td><td>637.0</td><td>14521.193092621665</td></tr><tr><td>16829.0</td><td>4.65E7</td><td>7</td><td>6</td><td>3.7</td><td>996007.0</td><td>Laguna Beach</td><td>California</td><td>92651</td><td>3243.0</td><td>14338.575393154486</td></tr><tr><td>2366.0</td><td>1.16E7</td><td>96</td><td>1</td><td>2.39</td><td>317940.0</td><td>Antioch</td><td>California</td><td>94509</td><td>816.0</td><td>14215.686274509804</td></tr><tr><td>92884.0</td><td>1.675E7</td><td>2</td><td>3</td><td>1.8</td><td>595555.0</td><td>Sag Harbor</td><td>New York</td><td>11963</td><td>1220.0</td><td>13729.508196721312</td></tr><tr><td>72654.0</td><td>1.9995E7</td><td>3</td><td>2</td><td>16.5</td><td>1542090.0</td><td>Rancho Santa Fe</td><td>California</td><td>92067</td><td>1460.0</td><td>13695.205479452055</td></tr><tr><td>22611.0</td><td>9.95E7</td><td>4</td><td>6</td><td>3.18</td><td>1019784.0</td><td>Malibu</td><td>California</td><td>90265</td><td>7450.0</td><td>13355.704697986577</td></tr><tr><td>29024.0</td><td>4.95E7</td><td>4</td><td>4</td><td>32.0</td><td>521886.0</td><td>Sagaponack</td><td>New York</td><td>11962</td><td>3800.0</td><td>13026.315789473685</td></tr><tr><td>15341.0</td><td>1.5E7</td><td>3</td><td>0</td><td>0.03</td><td>1535090.0</td><td>Philadelphia</td><td>Pennsylvania</td><td>19138</td><td>1152.0</td><td>13020.833333333334</td></tr><tr><td>91531.0</td><td>1.5E7</td><td>1</td><td>1</td><td>33.0</td><td>1428766.0</td><td>Stateline</td><td>Nevada</td><td>89449</td><td>1188.0</td><td>12626.262626262625</td></tr><tr><td>16829.0</td><td>4.75E7</td><td>4</td><td>4</td><td>2.55</td><td>1109329.0</td><td>Bridgehampton</td><td>New York</td><td>11932</td><td>3846.0</td><td>12350.49401976079</td></tr><tr><td>25021.0</td><td>2.49E7</td><td>0</td><td>0</td><td>800.0</td><td>1127512.0</td><td>Montgomery</td><td>Texas</td><td>77316</td><td>2050.0</td><td>12146.341463414634</td></tr><tr><td>41609.0</td><td>3.5E7</td><td>3</td><td>5</td><td>0.47</td><td>683900.0</td><td>Bal Harbour</td><td>Florida</td><td>33154</td><td>2970.0</td><td>11784.511784511784</td></tr><tr><td>23667.0</td><td>1.5E7</td><td>2</td><td>1</td><td>85.0</td><td>1644126.0</td><td>Jackson</td><td>Wyoming</td><td>83001</td><td>1288.0</td><td>11645.962732919255</td></tr><tr><td>15341.0</td><td>1.5E7</td><td>2</td><td>0</td><td>0.05</td><td>450491.0</td><td>Philadelphia</td><td>Pennsylvania</td><td>19149</td><td>1288.0</td><td>11645.962732919255</td></tr><tr><td>92918.0</td><td>4.495E7</td><td>11</td><td>13</td><td>5.18</td><td>101445.0</td><td>Southampton</td><td>New York</td><td>11968</td><td>3900.0</td><td>11525.641025641025</td></tr><tr><td>98034.0</td><td>1.6E8</td><td>10</td><td>21</td><td>22.0</td><td>867426.0</td><td>Carpinteria</td><td>California</td><td>93013</td><td>14189.0</td><td>11276.340827401507</td></tr><tr><td>22360.0</td><td>1.1E7</td><td>2</td><td>2</td><td>0.55</td><td>931346.0</td><td>Kihei</td><td>Hawaii</td><td>96753</td><td>976.0</td><td>11270.491803278688</td></tr><tr><td>29034.0</td><td>4.5E7</td><td>4</td><td>4</td><td>0.0</td><td>385340.0</td><td>New York City</td><td>New York</td><td>10023</td><td>4024.0</td><td>11182.902584493042</td></tr><tr><td>78337.0</td><td>1.1979E7</td><td>0</td><td>0</td><td>68.75</td><td>1909879.0</td><td>Prairie View</td><td>Texas</td><td>77445</td><td>1098.0</td><td>10909.83606557377</td></tr></tbody></table></div>"
      ]
     },
     "metadata": {
      "application/vnd.databricks.v1+output": {
       "addedWidgets": {},
       "aggData": [],
       "aggError": "",
       "aggOverflow": false,
       "aggSchema": [],
       "aggSeriesLimitReached": false,
       "aggType": "",
       "arguments": {},
       "columnCustomDisplayInfos": {},
       "data": [
        [
         23826.0,
         2.1474836E9,
         2,
         2,
         0.12,
         11355.0,
         "International",
         "California",
         -1,
         885.0,
         2426535.1412429377
        ],
        [
         13872.0,
         5.15E8,
         2,
         2,
         2.59,
         1658312.0,
         "San Diego",
         "California",
         92119,
         1048.0,
         491412.213740458
        ],
        [
         98430.0,
         1850000.0,
         4,
         4,
         0.0,
         699459.0,
         "Laurel",
         "New York",
         11948,
         4.0,
         462500.0
        ],
        [
         100472.0,
         8.75E8,
         9,
         2,
         0.0,
         1811391.0,
         "Bronx",
         "New York",
         10458,
         2440.0,
         358606.5573770492
        ],
        [
         43753.0,
         9.5E7,
         0,
         0,
         120.0,
         362431.0,
         "Beverly Hills",
         "California",
         90210,
         741.0,
         128205.1282051282
        ],
        [
         41839.0,
         5.0E7,
         1,
         1,
         650.0,
         169262.0,
         "Snowmass",
         "Colorado",
         81654,
         1092.0,
         45787.54578754579
        ],
        [
         79515.0,
         5.5E7,
         3,
         2,
         0.0,
         1002957.0,
         "Clifton",
         "Colorado",
         81520,
         1248.0,
         44070.51282051282
        ],
        [
         16829.0,
         1.09E8,
         3,
         4,
         4.21,
         904983.0,
         "Carpinteria",
         "California",
         93013,
         2514.0,
         43357.19968178202
        ],
        [
         97348.0,
         2954050.0,
         0,
         0,
         118.16,
         3720.0,
         "Bertram",
         "Texas",
         78605,
         100.0,
         29540.5
        ],
        [
         23592.0,
         1.0E8,
         5,
         5,
         8.0,
         484175.0,
         "Atherton",
         "California",
         94027,
         3731.0,
         26802.46582685607
        ],
        [
         32437.0,
         1.295E7,
         8,
         6,
         5.0,
         293522.0,
         "Wellington",
         "Florida",
         33414,
         500.0,
         25900.0
        ],
        [
         55152.0,
         3.4E7,
         0,
         0,
         308.97,
         1319924.0,
         "West Chester",
         "Pennsylvania",
         19382,
         1379.0,
         24655.547498187094
        ],
        [
         18836.0,
         6.5E7,
         3,
         2,
         40040.0,
         868377.0,
         "Prineville",
         "Oregon",
         97754,
         2832.0,
         22951.977401129945
        ],
        [
         4302.0,
         5450000.0,
         1,
         1,
         0.85,
         1572453.0,
         "Encinitas",
         "California",
         92024,
         250.0,
         21800.0
        ],
        [
         81672.0,
         7818187.0,
         1,
         1,
         1281.67,
         286102.0,
         "Louise",
         "Texas",
         77455,
         375.0,
         20848.498666666666
        ],
        [
         88180.0,
         1.69E8,
         6,
         9,
         0.79,
         1218873.0,
         "New York City",
         "New York",
         10022,
         8255.0,
         20472.44094488189
        ],
        [
         29499.0,
         2000000.0,
         0,
         0,
         132.0,
         1880945.0,
         "Bartlett",
         "Texas",
         76511,
         100.0,
         20000.0
        ],
        [
         82978.0,
         6000000.0,
         1,
         1,
         100.99,
         718774.0,
         "Lockhart",
         "Texas",
         78644,
         300.0,
         20000.0
        ],
        [
         70572.0,
         9.5E7,
         10,
         14,
         6.67,
         13718.0,
         "Key Largo",
         "Florida",
         33037,
         5000.0,
         19000.0
        ],
        [
         70565.0,
         9.5E7,
         10,
         12,
         26.0,
         13718.0,
         "Key Largo",
         "Florida",
         33037,
         5000.0,
         19000.0
        ],
        [
         5144.0,
         7891000.0,
         1,
         1,
         1400.0,
         183928.0,
         "Riggins",
         "Idaho",
         83549,
         450.0,
         17535.555555555555
        ],
        [
         5145.0,
         7891000.0,
         1,
         1,
         1400.0,
         183927.0,
         "Riggins",
         "Idaho",
         83549,
         450.0,
         17535.555555555555
        ],
        [
         32472.0,
         1.35E8,
         5,
         6,
         0.0,
         1218872.0,
         "New York",
         "New York",
         10022,
         8055.0,
         16759.77653631285
        ],
        [
         32406.0,
         2.1E7,
         3,
         2,
         24633.0,
         1218045.0,
         "unknown",
         "California",
         93647,
         1283.0,
         16367.88776305534
        ],
        [
         31411.0,
         1.6E7,
         2,
         1,
         0.24,
         321135.0,
         "Cottonwood",
         "Idaho",
         83522,
         1000.0,
         16000.0
        ],
        [
         50342.0,
         1.1E7,
         2,
         1,
         3178.57,
         53627.0,
         "Chemult",
         "Oregon",
         97731,
         700.0,
         15714.285714285714
        ],
        [
         42981.0,
         7.8E7,
         14,
         19,
         9.4,
         101589.0,
         "Southampton",
         "New York",
         11968,
         5000.0,
         15600.0
        ],
        [
         92918.0,
         7.8E7,
         14,
         19,
         9.4,
         101623.0,
         "Southampton",
         "New York",
         11968,
         5000.0,
         15600.0
        ],
        [
         17457.0,
         1.09E7,
         1,
         1,
         1382.5,
         463485.0,
         "Manchester",
         "California",
         95459,
         700.0,
         15571.42857142857
        ],
        [
         45444.0,
         1.5E7,
         99,
         30,
         0.56,
         560818.0,
         "Somerville",
         "Massachusetts",
         2143,
         999.0,
         15015.015015015015
        ],
        [
         77505.0,
         1.15E7,
         3,
         1,
         660.0,
         1480835.0,
         "Olney",
         "Montana",
         59927,
         773.0,
         14877.102199223804
        ],
        [
         32456.0,
         9250000.0,
         5,
         1,
         20.67,
         1411940.0,
         "Wellington",
         "Florida",
         33449,
         637.0,
         14521.193092621665
        ],
        [
         16829.0,
         4.65E7,
         7,
         6,
         3.7,
         996007.0,
         "Laguna Beach",
         "California",
         92651,
         3243.0,
         14338.575393154486
        ],
        [
         2366.0,
         1.16E7,
         96,
         1,
         2.39,
         317940.0,
         "Antioch",
         "California",
         94509,
         816.0,
         14215.686274509804
        ],
        [
         92884.0,
         1.675E7,
         2,
         3,
         1.8,
         595555.0,
         "Sag Harbor",
         "New York",
         11963,
         1220.0,
         13729.508196721312
        ],
        [
         72654.0,
         1.9995E7,
         3,
         2,
         16.5,
         1542090.0,
         "Rancho Santa Fe",
         "California",
         92067,
         1460.0,
         13695.205479452055
        ],
        [
         22611.0,
         9.95E7,
         4,
         6,
         3.18,
         1019784.0,
         "Malibu",
         "California",
         90265,
         7450.0,
         13355.704697986577
        ],
        [
         29024.0,
         4.95E7,
         4,
         4,
         32.0,
         521886.0,
         "Sagaponack",
         "New York",
         11962,
         3800.0,
         13026.315789473685
        ],
        [
         15341.0,
         1.5E7,
         3,
         0,
         0.03,
         1535090.0,
         "Philadelphia",
         "Pennsylvania",
         19138,
         1152.0,
         13020.833333333334
        ],
        [
         91531.0,
         1.5E7,
         1,
         1,
         33.0,
         1428766.0,
         "Stateline",
         "Nevada",
         89449,
         1188.0,
         12626.262626262625
        ],
        [
         16829.0,
         4.75E7,
         4,
         4,
         2.55,
         1109329.0,
         "Bridgehampton",
         "New York",
         11932,
         3846.0,
         12350.49401976079
        ],
        [
         25021.0,
         2.49E7,
         0,
         0,
         800.0,
         1127512.0,
         "Montgomery",
         "Texas",
         77316,
         2050.0,
         12146.341463414634
        ],
        [
         41609.0,
         3.5E7,
         3,
         5,
         0.47,
         683900.0,
         "Bal Harbour",
         "Florida",
         33154,
         2970.0,
         11784.511784511784
        ],
        [
         23667.0,
         1.5E7,
         2,
         1,
         85.0,
         1644126.0,
         "Jackson",
         "Wyoming",
         83001,
         1288.0,
         11645.962732919255
        ],
        [
         15341.0,
         1.5E7,
         2,
         0,
         0.05,
         450491.0,
         "Philadelphia",
         "Pennsylvania",
         19149,
         1288.0,
         11645.962732919255
        ],
        [
         92918.0,
         4.495E7,
         11,
         13,
         5.18,
         101445.0,
         "Southampton",
         "New York",
         11968,
         3900.0,
         11525.641025641025
        ],
        [
         98034.0,
         1.6E8,
         10,
         21,
         22.0,
         867426.0,
         "Carpinteria",
         "California",
         93013,
         14189.0,
         11276.340827401507
        ],
        [
         22360.0,
         1.1E7,
         2,
         2,
         0.55,
         931346.0,
         "Kihei",
         "Hawaii",
         96753,
         976.0,
         11270.491803278688
        ],
        [
         29034.0,
         4.5E7,
         4,
         4,
         0.0,
         385340.0,
         "New York City",
         "New York",
         10023,
         4024.0,
         11182.902584493042
        ],
        [
         78337.0,
         1.1979E7,
         0,
         0,
         68.75,
         1909879.0,
         "Prairie View",
         "Texas",
         77445,
         1098.0,
         10909.83606557377
        ]
       ],
       "datasetInfos": [],
       "dbfsResultPath": null,
       "isJsonSchema": true,
       "metadata": {},
       "overflow": false,
       "plotOptions": {
        "customPlotOptions": {},
        "displayType": "table",
        "pivotAggregation": null,
        "pivotColumns": null,
        "xColumns": null,
        "yColumns": null
       },
       "removedWidgets": [],
       "schema": [
        {
         "metadata": "{}",
         "name": "brokered_by",
         "type": "\"double\""
        },
        {
         "metadata": "{}",
         "name": "price",
         "type": "\"double\""
        },
        {
         "metadata": "{}",
         "name": "bed",
         "type": "\"long\""
        },
        {
         "metadata": "{}",
         "name": "bath",
         "type": "\"long\""
        },
        {
         "metadata": "{}",
         "name": "acre_lot",
         "type": "\"double\""
        },
        {
         "metadata": "{}",
         "name": "street",
         "type": "\"double\""
        },
        {
         "metadata": "{}",
         "name": "city",
         "type": "\"string\""
        },
        {
         "metadata": "{}",
         "name": "state",
         "type": "\"string\""
        },
        {
         "metadata": "{}",
         "name": "zip_code",
         "type": "\"long\""
        },
        {
         "metadata": "{}",
         "name": "house_size",
         "type": "\"double\""
        },
        {
         "metadata": "{}",
         "name": "price_per_sqft",
         "type": "\"double\""
        }
       ],
       "type": "table"
      }
     },
     "output_type": "display_data"
    }
   ],
   "source": [
    "display(spark.sql(\"\"\"\n",
    "-- 7. Top 50 most expensive states by price per sqft\n",
    "SELECT *,\n",
    "       CASE WHEN house_size > 0 THEN price / house_size ELSE NULL END AS price_per_sqft\n",
    "FROM usa_housing.clean2_data\n",
    "ORDER BY price_per_sqft DESC\n",
    "LIMIT 50\n",
    "\"\"\"))\n"
   ]
  },
  {
   "cell_type": "code",
   "execution_count": 0,
   "metadata": {
    "application/vnd.databricks.v1+cell": {
     "cellMetadata": {
      "byteLimit": 2048000,
      "rowLimit": 10000
     },
     "inputWidgets": {},
     "nuid": "8379d44d-ef9a-46c0-a549-56df2f829786",
     "showTitle": false,
     "tableResultSettingsMap": {},
     "title": ""
    }
   },
   "outputs": [
    {
     "output_type": "display_data",
     "data": {
      "text/html": [
       "<style scoped>\n",
       "  .table-result-container {\n",
       "    max-height: 300px;\n",
       "    overflow: auto;\n",
       "  }\n",
       "  table, th, td {\n",
       "    border: 1px solid black;\n",
       "    border-collapse: collapse;\n",
       "  }\n",
       "  th, td {\n",
       "    padding: 5px;\n",
       "  }\n",
       "  th {\n",
       "    text-align: left;\n",
       "  }\n",
       "</style><div class='table-result-container'><table class='table-result'><thead style='background-color: white'><tr><th>city</th><th>state</th><th>listings</th><th>price</th></tr></thead><tbody><tr><td>New York City</td><td>New York</td><td>12634</td><td>2.8628921743E10</td></tr><tr><td>Los Angeles</td><td>California</td><td>8984</td><td>1.7224385241E10</td></tr><tr><td>New York</td><td>New York</td><td>5353</td><td>1.5843133188E10</td></tr><tr><td>Houston</td><td>Texas</td><td>23603</td><td>1.1220531504E10</td></tr><tr><td>Chicago</td><td>Illinois</td><td>18238</td><td>8.975090754E9</td></tr><tr><td>Miami</td><td>Florida</td><td>9616</td><td>8.286651959E9</td></tr><tr><td>San Francisco</td><td>California</td><td>4605</td><td>8.155128354E9</td></tr><tr><td>San Diego</td><td>California</td><td>7059</td><td>7.70378736E9</td></tr><tr><td>Naples</td><td>Florida</td><td>5910</td><td>7.230144398E9</td></tr><tr><td>Brooklyn</td><td>New York</td><td>5750</td><td>6.603006472E9</td></tr></tbody></table></div>"
      ]
     },
     "metadata": {
      "application/vnd.databricks.v1+output": {
       "addedWidgets": {},
       "aggData": [],
       "aggError": "",
       "aggOverflow": false,
       "aggSchema": [],
       "aggSeriesLimitReached": false,
       "aggType": "",
       "arguments": {},
       "columnCustomDisplayInfos": {},
       "data": [
        [
         "New York City",
         "New York",
         12634,
         2.8628921743E10
        ],
        [
         "Los Angeles",
         "California",
         8984,
         1.7224385241E10
        ],
        [
         "New York",
         "New York",
         5353,
         1.5843133188E10
        ],
        [
         "Houston",
         "Texas",
         23603,
         1.1220531504E10
        ],
        [
         "Chicago",
         "Illinois",
         18238,
         8.975090754E9
        ],
        [
         "Miami",
         "Florida",
         9616,
         8.286651959E9
        ],
        [
         "San Francisco",
         "California",
         4605,
         8.155128354E9
        ],
        [
         "San Diego",
         "California",
         7059,
         7.70378736E9
        ],
        [
         "Naples",
         "Florida",
         5910,
         7.230144398E9
        ],
        [
         "Brooklyn",
         "New York",
         5750,
         6.603006472E9
        ]
       ],
       "datasetInfos": [],
       "dbfsResultPath": null,
       "isJsonSchema": true,
       "metadata": {},
       "overflow": false,
       "plotOptions": {
        "customPlotOptions": {},
        "displayType": "table",
        "pivotAggregation": null,
        "pivotColumns": null,
        "xColumns": null,
        "yColumns": null
       },
       "removedWidgets": [],
       "schema": [
        {
         "metadata": "{}",
         "name": "city",
         "type": "\"string\""
        },
        {
         "metadata": "{}",
         "name": "state",
         "type": "\"string\""
        },
        {
         "metadata": "{}",
         "name": "listings",
         "type": "\"long\""
        },
        {
         "metadata": "{}",
         "name": "price",
         "type": "\"double\""
        }
       ],
       "type": "table"
      }
     },
     "output_type": "display_data"
    }
   ],
   "source": [
    "display(spark.sql(\"\"\"\n",
    "-- 8. Top 10 cities with most sales\n",
    "SELECT city, state, COUNT(*) AS listings, SUM(price) AS price\n",
    "FROM usa_housing.clean2_data\n",
    "GROUP BY city, state\n",
    "ORDER BY price DESC\n",
    "LIMIT 10\n",
    "\"\"\"))"
   ]
  },
  {
   "cell_type": "code",
   "execution_count": 0,
   "metadata": {
    "application/vnd.databricks.v1+cell": {
     "cellMetadata": {
      "byteLimit": 2048000,
      "rowLimit": 10000
     },
     "inputWidgets": {},
     "nuid": "a4766279-66bf-4bc5-8987-e4bbaa507483",
     "showTitle": false,
     "tableResultSettingsMap": {},
     "title": ""
    }
   },
   "outputs": [
    {
     "output_type": "display_data",
     "data": {
      "text/html": [
       "<style scoped>\n",
       "  .table-result-container {\n",
       "    max-height: 300px;\n",
       "    overflow: auto;\n",
       "  }\n",
       "  table, th, td {\n",
       "    border: 1px solid black;\n",
       "    border-collapse: collapse;\n",
       "  }\n",
       "  th, td {\n",
       "    padding: 5px;\n",
       "  }\n",
       "  th {\n",
       "    text-align: left;\n",
       "  }\n",
       "</style><div class='table-result-container'><table class='table-result'><thead style='background-color: white'><tr><th>city</th><th>state</th><th>listings</th><th>price</th></tr></thead><tbody><tr><td>North 27th Saint</td><td>Nebraska</td><td>1</td><td>1.0</td></tr><tr><td>Holy Cross</td><td>Iowa</td><td>1</td><td>1.0</td></tr><tr><td>Bernard</td><td>Iowa</td><td>1</td><td>1.0</td></tr><tr><td>Curoe Rd</td><td>Iowa</td><td>1</td><td>1.0</td></tr><tr><td>Greenville</td><td>Iowa</td><td>1</td><td>1.0</td></tr><tr><td>Wadena</td><td>Iowa</td><td>1</td><td>1.0</td></tr><tr><td>King Ave</td><td>Iowa</td><td>1</td><td>1.0</td></tr><tr><td>L Ave</td><td>Iowa</td><td>1</td><td>1.0</td></tr><tr><td>Sparkman</td><td>Arkansas</td><td>1</td><td>1.0</td></tr><tr><td>Killbuck</td><td>Ohio</td><td>1</td><td>1.0</td></tr></tbody></table></div>"
      ]
     },
     "metadata": {
      "application/vnd.databricks.v1+output": {
       "addedWidgets": {},
       "aggData": [],
       "aggError": "",
       "aggOverflow": false,
       "aggSchema": [],
       "aggSeriesLimitReached": false,
       "aggType": "",
       "arguments": {},
       "columnCustomDisplayInfos": {},
       "data": [
        [
         "North 27th Saint",
         "Nebraska",
         1,
         1.0
        ],
        [
         "Holy Cross",
         "Iowa",
         1,
         1.0
        ],
        [
         "Bernard",
         "Iowa",
         1,
         1.0
        ],
        [
         "Curoe Rd",
         "Iowa",
         1,
         1.0
        ],
        [
         "Greenville",
         "Iowa",
         1,
         1.0
        ],
        [
         "Wadena",
         "Iowa",
         1,
         1.0
        ],
        [
         "King Ave",
         "Iowa",
         1,
         1.0
        ],
        [
         "L Ave",
         "Iowa",
         1,
         1.0
        ],
        [
         "Sparkman",
         "Arkansas",
         1,
         1.0
        ],
        [
         "Killbuck",
         "Ohio",
         1,
         1.0
        ]
       ],
       "datasetInfos": [],
       "dbfsResultPath": null,
       "isJsonSchema": true,
       "metadata": {},
       "overflow": false,
       "plotOptions": {
        "customPlotOptions": {},
        "displayType": "table",
        "pivotAggregation": null,
        "pivotColumns": null,
        "xColumns": null,
        "yColumns": null
       },
       "removedWidgets": [],
       "schema": [
        {
         "metadata": "{}",
         "name": "city",
         "type": "\"string\""
        },
        {
         "metadata": "{}",
         "name": "state",
         "type": "\"string\""
        },
        {
         "metadata": "{}",
         "name": "listings",
         "type": "\"long\""
        },
        {
         "metadata": "{}",
         "name": "price",
         "type": "\"double\""
        }
       ],
       "type": "table"
      }
     },
     "output_type": "display_data"
    }
   ],
   "source": [
    "display(spark.sql(\"\"\"\n",
    "-- 9. Top 10 cities with least sales\n",
    "SELECT city, state, COUNT(*) AS listings, SUM(price) AS price\n",
    "FROM usa_housing.clean2_data\n",
    "WHERE price > 0\n",
    "GROUP BY city, state\n",
    "ORDER BY price ASC\n",
    "LIMIT 10\n",
    "\"\"\"))"
   ]
  },
  {
   "cell_type": "code",
   "execution_count": 0,
   "metadata": {
    "application/vnd.databricks.v1+cell": {
     "cellMetadata": {
      "byteLimit": 2048000,
      "rowLimit": 10000
     },
     "inputWidgets": {},
     "nuid": "4376aeb0-c4b7-42d3-a552-10174d679b43",
     "showTitle": false,
     "tableResultSettingsMap": {},
     "title": ""
    }
   },
   "outputs": [
    {
     "output_type": "display_data",
     "data": {
      "text/html": [
       "<style scoped>\n",
       "  .table-result-container {\n",
       "    max-height: 300px;\n",
       "    overflow: auto;\n",
       "  }\n",
       "  table, th, td {\n",
       "    border: 1px solid black;\n",
       "    border-collapse: collapse;\n",
       "  }\n",
       "  th, td {\n",
       "    padding: 5px;\n",
       "  }\n",
       "  th {\n",
       "    text-align: left;\n",
       "  }\n",
       "</style><div class='table-result-container'><table class='table-result'><thead style='background-color: white'><tr><th>zip_code</th><th>avg_lot_size</th></tr></thead><tbody><tr><td>81029</td><td>23413.75</td></tr><tr><td>69212</td><td>15300.0</td></tr><tr><td>6353</td><td>13762.785</td></tr><tr><td>15436</td><td>13025.724285714286</td></tr><tr><td>59713</td><td>11100.0</td></tr><tr><td>59520</td><td>11002.62</td></tr><tr><td>59077</td><td>9296.14</td></tr><tr><td>12022</td><td>8347.449166666667</td></tr><tr><td>97711</td><td>7176.344</td></tr><tr><td>12838</td><td>6673.593333333333</td></tr></tbody></table></div>"
      ]
     },
     "metadata": {
      "application/vnd.databricks.v1+output": {
       "addedWidgets": {},
       "aggData": [],
       "aggError": "",
       "aggOverflow": false,
       "aggSchema": [],
       "aggSeriesLimitReached": false,
       "aggType": "",
       "arguments": {},
       "columnCustomDisplayInfos": {},
       "data": [
        [
         81029,
         23413.75
        ],
        [
         69212,
         15300.0
        ],
        [
         6353,
         13762.785
        ],
        [
         15436,
         13025.724285714286
        ],
        [
         59713,
         11100.0
        ],
        [
         59520,
         11002.62
        ],
        [
         59077,
         9296.14
        ],
        [
         12022,
         8347.449166666667
        ],
        [
         97711,
         7176.344
        ],
        [
         12838,
         6673.593333333333
        ]
       ],
       "datasetInfos": [],
       "dbfsResultPath": null,
       "isJsonSchema": true,
       "metadata": {},
       "overflow": false,
       "plotOptions": {
        "customPlotOptions": {},
        "displayType": "table",
        "pivotAggregation": null,
        "pivotColumns": null,
        "xColumns": null,
        "yColumns": null
       },
       "removedWidgets": [],
       "schema": [
        {
         "metadata": "{}",
         "name": "zip_code",
         "type": "\"long\""
        },
        {
         "metadata": "{}",
         "name": "avg_lot_size",
         "type": "\"double\""
        }
       ],
       "type": "table"
      }
     },
     "output_type": "display_data"
    }
   ],
   "source": [
    "display(spark.sql(\"\"\"\n",
    "-- 10. Top 10 zip codes with largest lots\n",
    "SELECT zip_code, AVG(acre_lot) AS avg_lot_size\n",
    "FROM usa_housing.clean2_data\n",
    "GROUP BY zip_code\n",
    "ORDER BY avg_lot_size DESC\n",
    "LIMIT 10\n",
    "\"\"\"))\n"
   ]
  },
  {
   "cell_type": "code",
   "execution_count": 0,
   "metadata": {
    "application/vnd.databricks.v1+cell": {
     "cellMetadata": {
      "byteLimit": 2048000,
      "rowLimit": 10000
     },
     "inputWidgets": {},
     "nuid": "569ed3a5-778f-4f67-923f-5136bc8bb241",
     "showTitle": false,
     "tableResultSettingsMap": {},
     "title": ""
    }
   },
   "outputs": [
    {
     "output_type": "display_data",
     "data": {
      "text/html": [
       "<style scoped>\n",
       "  .table-result-container {\n",
       "    max-height: 300px;\n",
       "    overflow: auto;\n",
       "  }\n",
       "  table, th, td {\n",
       "    border: 1px solid black;\n",
       "    border-collapse: collapse;\n",
       "  }\n",
       "  th, td {\n",
       "    padding: 5px;\n",
       "  }\n",
       "  th {\n",
       "    text-align: left;\n",
       "  }\n",
       "</style><div class='table-result-container'><table class='table-result'><thead style='background-color: white'><tr><th>zip_code</th><th>avg_lot_size</th></tr></thead><tbody><tr><td>89595</td><td>0.01</td></tr><tr><td>12509</td><td>0.01</td></tr><tr><td>33867</td><td>0.01</td></tr><tr><td>8444</td><td>0.01</td></tr><tr><td>8862</td><td>0.01</td></tr><tr><td>10975</td><td>0.01</td></tr><tr><td>95113</td><td>0.015</td></tr><tr><td>43217</td><td>0.015</td></tr><tr><td>93634</td><td>0.0175</td></tr><tr><td>37201</td><td>0.01875</td></tr></tbody></table></div>"
      ]
     },
     "metadata": {
      "application/vnd.databricks.v1+output": {
       "addedWidgets": {},
       "aggData": [],
       "aggError": "",
       "aggOverflow": false,
       "aggSchema": [],
       "aggSeriesLimitReached": false,
       "aggType": "",
       "arguments": {},
       "columnCustomDisplayInfos": {},
       "data": [
        [
         89595,
         0.01
        ],
        [
         12509,
         0.01
        ],
        [
         33867,
         0.01
        ],
        [
         8444,
         0.01
        ],
        [
         8862,
         0.01
        ],
        [
         10975,
         0.01
        ],
        [
         95113,
         0.015
        ],
        [
         43217,
         0.015
        ],
        [
         93634,
         0.0175
        ],
        [
         37201,
         0.01875
        ]
       ],
       "datasetInfos": [],
       "dbfsResultPath": null,
       "isJsonSchema": true,
       "metadata": {},
       "overflow": false,
       "plotOptions": {
        "customPlotOptions": {},
        "displayType": "table",
        "pivotAggregation": null,
        "pivotColumns": null,
        "xColumns": null,
        "yColumns": null
       },
       "removedWidgets": [],
       "schema": [
        {
         "metadata": "{}",
         "name": "zip_code",
         "type": "\"long\""
        },
        {
         "metadata": "{}",
         "name": "avg_lot_size",
         "type": "\"double\""
        }
       ],
       "type": "table"
      }
     },
     "output_type": "display_data"
    }
   ],
   "source": [
    "display(spark.sql(\"\"\"\n",
    "-- 11. Top 10 zip codes with smallest lots\n",
    "SELECT zip_code, AVG(acre_lot) AS avg_lot_size\n",
    "FROM usa_housing.clean2_data\n",
    "WHERE acre_lot > 0\n",
    "GROUP BY zip_code\n",
    "ORDER BY avg_lot_size ASC\n",
    "LIMIT 10\n",
    "\"\"\"))\n"
   ]
  },
  {
   "cell_type": "code",
   "execution_count": 0,
   "metadata": {
    "application/vnd.databricks.v1+cell": {
     "cellMetadata": {
      "byteLimit": 2048000,
      "rowLimit": 10000
     },
     "inputWidgets": {},
     "nuid": "123432cd-9298-4a4f-a22b-73eaab5526ea",
     "showTitle": false,
     "tableResultSettingsMap": {},
     "title": ""
    }
   },
   "outputs": [
    {
     "output_type": "display_data",
     "data": {
      "text/html": [
       "<style scoped>\n",
       "  .table-result-container {\n",
       "    max-height: 300px;\n",
       "    overflow: auto;\n",
       "  }\n",
       "  table, th, td {\n",
       "    border: 1px solid black;\n",
       "    border-collapse: collapse;\n",
       "  }\n",
       "  th, td {\n",
       "    padding: 5px;\n",
       "  }\n",
       "  th {\n",
       "    text-align: left;\n",
       "  }\n",
       "</style><div class='table-result-container'><table class='table-result'><thead style='background-color: white'><tr><th>brokered_by</th><th>num_listings</th></tr></thead><tbody><tr><td>22611.0</td><td>45658</td></tr><tr><td>16829.0</td><td>27732</td></tr><tr><td>53016.0</td><td>21709</td></tr><tr><td>23592.0</td><td>9176</td></tr><tr><td>30807.0</td><td>8464</td></tr><tr><td>33714.0</td><td>6928</td></tr><tr><td>57595.0</td><td>6410</td></tr><tr><td>84534.0</td><td>5502</td></tr><tr><td>109978.0</td><td>5365</td></tr><tr><td>109914.0</td><td>5231</td></tr></tbody></table></div>"
      ]
     },
     "metadata": {
      "application/vnd.databricks.v1+output": {
       "addedWidgets": {},
       "aggData": [],
       "aggError": "",
       "aggOverflow": false,
       "aggSchema": [],
       "aggSeriesLimitReached": false,
       "aggType": "",
       "arguments": {},
       "columnCustomDisplayInfos": {},
       "data": [
        [
         22611.0,
         45658
        ],
        [
         16829.0,
         27732
        ],
        [
         53016.0,
         21709
        ],
        [
         23592.0,
         9176
        ],
        [
         30807.0,
         8464
        ],
        [
         33714.0,
         6928
        ],
        [
         57595.0,
         6410
        ],
        [
         84534.0,
         5502
        ],
        [
         109978.0,
         5365
        ],
        [
         109914.0,
         5231
        ]
       ],
       "datasetInfos": [],
       "dbfsResultPath": null,
       "isJsonSchema": true,
       "metadata": {},
       "overflow": false,
       "plotOptions": {
        "customPlotOptions": {},
        "displayType": "table",
        "pivotAggregation": null,
        "pivotColumns": null,
        "xColumns": null,
        "yColumns": null
       },
       "removedWidgets": [],
       "schema": [
        {
         "metadata": "{}",
         "name": "brokered_by",
         "type": "\"double\""
        },
        {
         "metadata": "{}",
         "name": "num_listings",
         "type": "\"long\""
        }
       ],
       "type": "table"
      }
     },
     "output_type": "display_data"
    }
   ],
   "source": [
    "display(spark.sql(\"\"\"\n",
    "-- 12. Top 10 brokers with most listings\n",
    "SELECT brokered_by, COUNT(*) AS num_listings\n",
    "FROM usa_housing.clean2_data\n",
    "GROUP BY brokered_by\n",
    "ORDER BY num_listings DESC\n",
    "LIMIT 10\n",
    "\"\"\"))\n"
   ]
  },
  {
   "cell_type": "code",
   "execution_count": 0,
   "metadata": {
    "application/vnd.databricks.v1+cell": {
     "cellMetadata": {
      "byteLimit": 2048000,
      "rowLimit": 10000
     },
     "inputWidgets": {},
     "nuid": "ebf5c11b-6275-4cd2-8b0e-70bcf36d6ccf",
     "showTitle": false,
     "tableResultSettingsMap": {},
     "title": ""
    }
   },
   "outputs": [
    {
     "output_type": "display_data",
     "data": {
      "text/html": [
       "<style scoped>\n",
       "  .table-result-container {\n",
       "    max-height: 300px;\n",
       "    overflow: auto;\n",
       "  }\n",
       "  table, th, td {\n",
       "    border: 1px solid black;\n",
       "    border-collapse: collapse;\n",
       "  }\n",
       "  th, td {\n",
       "    padding: 5px;\n",
       "  }\n",
       "  th {\n",
       "    text-align: left;\n",
       "  }\n",
       "</style><div class='table-result-container'><table class='table-result'><thead style='background-color: white'><tr><th>brokered_by</th><th>num_listings</th></tr></thead><tbody><tr><td>80661.0</td><td>1</td></tr><tr><td>98818.0</td><td>1</td></tr><tr><td>77629.0</td><td>1</td></tr><tr><td>38269.0</td><td>1</td></tr><tr><td>37986.0</td><td>1</td></tr><tr><td>7150.0</td><td>1</td></tr><tr><td>99178.0</td><td>1</td></tr><tr><td>12408.0</td><td>1</td></tr><tr><td>8311.0</td><td>1</td></tr><tr><td>88463.0</td><td>1</td></tr></tbody></table></div>"
      ]
     },
     "metadata": {
      "application/vnd.databricks.v1+output": {
       "addedWidgets": {},
       "aggData": [],
       "aggError": "",
       "aggOverflow": false,
       "aggSchema": [],
       "aggSeriesLimitReached": false,
       "aggType": "",
       "arguments": {},
       "columnCustomDisplayInfos": {},
       "data": [
        [
         80661.0,
         1
        ],
        [
         98818.0,
         1
        ],
        [
         77629.0,
         1
        ],
        [
         38269.0,
         1
        ],
        [
         37986.0,
         1
        ],
        [
         7150.0,
         1
        ],
        [
         99178.0,
         1
        ],
        [
         12408.0,
         1
        ],
        [
         8311.0,
         1
        ],
        [
         88463.0,
         1
        ]
       ],
       "datasetInfos": [],
       "dbfsResultPath": null,
       "isJsonSchema": true,
       "metadata": {},
       "overflow": false,
       "plotOptions": {
        "customPlotOptions": {},
        "displayType": "table",
        "pivotAggregation": null,
        "pivotColumns": null,
        "xColumns": null,
        "yColumns": null
       },
       "removedWidgets": [],
       "schema": [
        {
         "metadata": "{}",
         "name": "brokered_by",
         "type": "\"double\""
        },
        {
         "metadata": "{}",
         "name": "num_listings",
         "type": "\"long\""
        }
       ],
       "type": "table"
      }
     },
     "output_type": "display_data"
    }
   ],
   "source": [
    "display(spark.sql(\"\"\"\n",
    "-- 13. Top 10 brokers with least listings\n",
    "SELECT brokered_by, COUNT(*) AS num_listings\n",
    "FROM usa_housing.clean2_data\n",
    "GROUP BY brokered_by\n",
    "ORDER BY num_listings ASC\n",
    "LIMIT 10\n",
    "\"\"\"))\n"
   ]
  },
  {
   "cell_type": "code",
   "execution_count": 0,
   "metadata": {
    "application/vnd.databricks.v1+cell": {
     "cellMetadata": {
      "byteLimit": 2048000,
      "rowLimit": 10000
     },
     "inputWidgets": {},
     "nuid": "4a878887-920a-474b-93f2-4a3db23ef532",
     "showTitle": false,
     "tableResultSettingsMap": {
      "0": {
       "dataGridStateBlob": "{\"version\":1,\"tableState\":{\"columnPinning\":{\"left\":[\"#row_number#\"],\"right\":[]},\"columnSizing\":{},\"columnVisibility\":{}},\"settings\":{\"columns\":{}},\"syncTimestamp\":1753176665093}",
       "filterBlob": null,
       "queryPlanFiltersBlob": null,
       "tableResultIndex": 0
      }
     },
     "title": ""
    }
   },
   "outputs": [
    {
     "output_type": "display_data",
     "data": {
      "text/html": [
       "<style scoped>\n",
       "  .table-result-container {\n",
       "    max-height: 300px;\n",
       "    overflow: auto;\n",
       "  }\n",
       "  table, th, td {\n",
       "    border: 1px solid black;\n",
       "    border-collapse: collapse;\n",
       "  }\n",
       "  th, td {\n",
       "    padding: 5px;\n",
       "  }\n",
       "  th {\n",
       "    text-align: left;\n",
       "  }\n",
       "</style><div class='table-result-container'><table class='table-result'><thead style='background-color: white'><tr><th>brokered_by</th><th>price</th><th>bed</th><th>bath</th><th>acre_lot</th><th>street</th><th>city</th><th>state</th><th>zip_code</th><th>house_size</th></tr></thead><tbody><tr><td>88715.0</td><td>585000.0</td><td>4</td><td>4</td><td>100000.0</td><td>1930360.0</td><td>San Juan</td><td>Puerto Rico</td><td>926</td><td>3300.0</td></tr><tr><td>10554.0</td><td>150000.0</td><td>0</td><td>0</td><td>99999.0</td><td>595393.0</td><td>Simsbury</td><td>Connecticut</td><td>6070</td><td>0.0</td></tr><tr><td>10560.0</td><td>5700000.0</td><td>0</td><td>0</td><td>99999.0</td><td>1106245.0</td><td>Middletown</td><td>Connecticut</td><td>6457</td><td>99999.0</td></tr><tr><td>76006.0</td><td>250000.0</td><td>3</td><td>3</td><td>18817.0</td><td>1670131.0</td><td>Narragansett</td><td>Rhode Island</td><td>2882</td><td>1532.0</td></tr><tr><td>42180.0</td><td>319000.0</td><td>3</td><td>1</td><td>13697.0</td><td>1407338.0</td><td>Portland</td><td>Maine</td><td>4108</td><td>992.0</td></tr><tr><td>82261.0</td><td>129000.0</td><td>2</td><td>1</td><td>100000.0</td><td>598202.0</td><td>Whitehall</td><td>New York</td><td>12887</td><td>1352.0</td></tr><tr><td>91618.0</td><td>264900.0</td><td>3</td><td>2</td><td>99999.0</td><td>1137811.0</td><td>Montville</td><td>Connecticut</td><td>6353</td><td>1485.0</td></tr><tr><td>67217.0</td><td>520000.0</td><td>0</td><td>0</td><td>49299.44</td><td>677424.0</td><td>Newark</td><td>New Jersey</td><td>7112</td><td>0.0</td></tr><tr><td>80298.0</td><td>399000.0</td><td>3</td><td>2</td><td>58100.0</td><td>1001569.0</td><td>Kearny</td><td>New Jersey</td><td>7032</td><td>0.0</td></tr><tr><td>67217.0</td><td>485000.0</td><td>4</td><td>3</td><td>100000.0</td><td>1081800.0</td><td>Scotch Plains</td><td>New Jersey</td><td>7076</td><td>0.0</td></tr><tr><td>81181.0</td><td>679000.0</td><td>4</td><td>4</td><td>12800.0</td><td>11636.0</td><td>Sayreville</td><td>New Jersey</td><td>8872</td><td>0.0</td></tr><tr><td>105748.0</td><td>449000.0</td><td>4</td><td>3</td><td>36914.83</td><td>269480.0</td><td>Woodbridge Proper</td><td>New Jersey</td><td>7095</td><td>0.0</td></tr><tr><td>22611.0</td><td>379900.0</td><td>3</td><td>3</td><td>11236.0</td><td>1760281.0</td><td>South Brunswick</td><td>New Jersey</td><td>8824</td><td>2263.0</td></tr><tr><td>52665.0</td><td>515000.0</td><td>4</td><td>3</td><td>18602.89</td><td>763663.0</td><td>Raritan</td><td>New Jersey</td><td>8822</td><td>2184.0</td></tr><tr><td>30807.0</td><td>285000.0</td><td>2</td><td>2</td><td>96120.0</td><td>481042.0</td><td>Whiting</td><td>New Jersey</td><td>8759</td><td>1219.0</td></tr><tr><td>106711.0</td><td>54900.0</td><td>0</td><td>0</td><td>27610.0</td><td>713728.0</td><td>Franklin Twp</td><td>New Jersey</td><td>7882</td><td>0.0</td></tr><tr><td>33781.0</td><td>99900.0</td><td>6</td><td>3</td><td>47130.0</td><td>1330803.0</td><td>Troy</td><td>New York</td><td>12180</td><td>2788.0</td></tr><tr><td>94424.0</td><td>143500.0</td><td>3</td><td>2</td><td>30100.0</td><td>997193.0</td><td>Troy</td><td>New York</td><td>12180</td><td>2024.0</td></tr><tr><td>70353.0</td><td>299900.0</td><td>6</td><td>3</td><td>44170.0</td><td>495096.0</td><td>Schenectady</td><td>New York</td><td>12304</td><td>2421.0</td></tr><tr><td>80016.0</td><td>99900.0</td><td>6</td><td>2</td><td>84140.0</td><td>301476.0</td><td>Schenectady</td><td>New York</td><td>12308</td><td>2818.0</td></tr><tr><td>22552.0</td><td>189900.0</td><td>3</td><td>2</td><td>75119.0</td><td>418106.0</td><td>Schenectady</td><td>New York</td><td>12308</td><td>1644.0</td></tr><tr><td>89945.0</td><td>143500.0</td><td>5</td><td>2</td><td>32100.0</td><td>1682705.0</td><td>Schenectady</td><td>New York</td><td>12307</td><td>2220.0</td></tr><tr><td>38445.0</td><td>179900.0</td><td>3</td><td>1</td><td>51101.0</td><td>1653337.0</td><td>Schenectady</td><td>New York</td><td>12304</td><td>984.0</td></tr><tr><td>38445.0</td><td>179000.0</td><td>4</td><td>2</td><td>31124.0</td><td>413761.0</td><td>Schenectady</td><td>New York</td><td>12308</td><td>1800.0</td></tr><tr><td>30849.0</td><td>30000.0</td><td>0</td><td>2</td><td>36100.0</td><td>50669.0</td><td>Schenectady</td><td>New York</td><td>12303</td><td>2256.0</td></tr><tr><td>30849.0</td><td>44999.0</td><td>4</td><td>2</td><td>30120.0</td><td>1577788.0</td><td>Schenectady</td><td>New York</td><td>12308</td><td>1626.0</td></tr><tr><td>80016.0</td><td>124900.0</td><td>6</td><td>2</td><td>33118.0</td><td>1324109.0</td><td>Schenectady</td><td>New York</td><td>12307</td><td>1840.0</td></tr><tr><td>29476.0</td><td>289000.0</td><td>4</td><td>3</td><td>10244.0</td><td>701658.0</td><td>Schenectady</td><td>New York</td><td>12306</td><td>2760.0</td></tr><tr><td>43196.0</td><td>139900.0</td><td>4</td><td>2</td><td>36125.0</td><td>129247.0</td><td>Schenectady</td><td>New York</td><td>12308</td><td>1708.0</td></tr><tr><td>11538.0</td><td>249999.0</td><td>5</td><td>2</td><td>10019.0</td><td>248834.0</td><td>Waterford</td><td>New York</td><td>12188</td><td>2927.0</td></tr><tr><td>10368.0</td><td>249900.0</td><td>6</td><td>2</td><td>60100.0</td><td>1025616.0</td><td>Albany</td><td>New York</td><td>12209</td><td>2634.0</td></tr><tr><td>40690.0</td><td>160000.0</td><td>3</td><td>2</td><td>100000.0</td><td>437002.0</td><td>Bethlehem</td><td>New York</td><td>12158</td><td>1396.0</td></tr><tr><td>100256.0</td><td>245500.0</td><td>3</td><td>2</td><td>54136.0</td><td>8188.0</td><td>Albany</td><td>New York</td><td>12208</td><td>1250.0</td></tr><tr><td>38575.0</td><td>149000.0</td><td>6</td><td>2</td><td>25122.0</td><td>1540166.0</td><td>Albany</td><td>New York</td><td>12202</td><td>1960.0</td></tr><tr><td>33781.0</td><td>285000.0</td><td>3</td><td>3</td><td>33100.0</td><td>409161.0</td><td>Rensselaer</td><td>New York</td><td>12144</td><td>2940.0</td></tr><tr><td>81604.0</td><td>144900.0</td><td>4</td><td>2</td><td>25100.0</td><td>1169913.0</td><td>Albany</td><td>New York</td><td>12209</td><td>1200.0</td></tr><tr><td>33781.0</td><td>99000.0</td><td>7</td><td>2</td><td>50198.0</td><td>532292.0</td><td>Albany</td><td>New York</td><td>12210</td><td>2200.0</td></tr><tr><td>22552.0</td><td>239900.0</td><td>3</td><td>2</td><td>80100.0</td><td>1867004.0</td><td>Fultonville</td><td>New York</td><td>12072</td><td>1360.0</td></tr><tr><td>104218.0</td><td>120000.0</td><td>5</td><td>2</td><td>40100.0</td><td>1259626.0</td><td>Glens Falls</td><td>New York</td><td>12801</td><td>1923.0</td></tr><tr><td>45690.0</td><td>344900.0</td><td>4</td><td>4</td><td>86139.0</td><td>1229395.0</td><td>Glens Falls</td><td>New York</td><td>12801</td><td>2993.0</td></tr><tr><td>104218.0</td><td>695000.0</td><td>3</td><td>3</td><td>37113.0</td><td>1449230.0</td><td>Kingsbury</td><td>New York</td><td>12839</td><td>1700.0</td></tr><tr><td>45690.0</td><td>198000.0</td><td>3</td><td>2</td><td>10592.0</td><td>668996.0</td><td>Queensbury</td><td>New York</td><td>12804</td><td>1970.0</td></tr><tr><td>41570.0</td><td>134500.0</td><td>0</td><td>0</td><td>91178.0</td><td>430623.0</td><td>Fairchance</td><td>Pennsylvania</td><td>15436</td><td>0.0</td></tr><tr><td>96651.0</td><td>107000.0</td><td>2</td><td>2</td><td>99999.0</td><td>1725022.0</td><td>Indiana</td><td>Pennsylvania</td><td>15701</td><td>1120.0</td></tr><tr><td>57145.0</td><td>185000.0</td><td>3</td><td>2</td><td>21780.0</td><td>1404366.0</td><td>Glen Burnie</td><td>Maryland</td><td>21061</td><td>1248.0</td></tr><tr><td>72236.0</td><td>499900.0</td><td>3</td><td>3</td><td>29678.0</td><td>478554.0</td><td>Macon</td><td>North Carolina</td><td>27551</td><td>2751.0</td></tr><tr><td>30276.0</td><td>364000.0</td><td>3</td><td>1</td><td>100000.0</td><td>395675.0</td><td>Sanford</td><td>North Carolina</td><td>27330</td><td>1250.0</td></tr><tr><td>78432.0</td><td>150000.0</td><td>0</td><td>0</td><td>54037.0</td><td>48801.0</td><td>Goldsboro</td><td>North Carolina</td><td>27534</td><td>0.0</td></tr><tr><td>34859.0</td><td>15000.0</td><td>0</td><td>0</td><td>20000.0</td><td>1944268.0</td><td>Mount Olive</td><td>North Carolina</td><td>28365</td><td>0.0</td></tr><tr><td>109987.0</td><td>131900.0</td><td>3</td><td>2</td><td>12197.0</td><td>499902.0</td><td>Fayetteville</td><td>North Carolina</td><td>28304</td><td>1150.0</td></tr><tr><td>100264.0</td><td>225000.0</td><td>4</td><td>3</td><td>14810.0</td><td>425610.0</td><td>Fayetteville</td><td>North Carolina</td><td>28303</td><td>2100.0</td></tr><tr><td>26450.0</td><td>205000.0</td><td>3</td><td>3</td><td>16553.0</td><td>1358029.0</td><td>Fayetteville</td><td>North Carolina</td><td>28306</td><td>1850.0</td></tr><tr><td>85647.0</td><td>7500.0</td><td>0</td><td>0</td><td>32485.65</td><td>1972435.0</td><td>Tabor City</td><td>North Carolina</td><td>28463</td><td>0.0</td></tr><tr><td>106351.0</td><td>1100000.0</td><td>2</td><td>2</td><td>29984.6</td><td>98775.0</td><td>Carolina Beach</td><td>North Carolina</td><td>28428</td><td>1300.0</td></tr><tr><td>15839.0</td><td>259900.0</td><td>3</td><td>2</td><td>100000.0</td><td>816353.0</td><td>Martinez</td><td>Georgia</td><td>30907</td><td>1974.0</td></tr><tr><td>17187.0</td><td>85000.0</td><td>0</td><td>0</td><td>90150.0</td><td>1710326.0</td><td>Evans</td><td>Georgia</td><td>30809</td><td>0.0</td></tr><tr><td>45189.0</td><td>275000.0</td><td>4</td><td>3</td><td>85150.0</td><td>991348.0</td><td>Martinez</td><td>Georgia</td><td>30907</td><td>1992.0</td></tr><tr><td>39463.0</td><td>318880.0</td><td>4</td><td>3</td><td>80135.0</td><td>1155912.0</td><td>Martinez</td><td>Georgia</td><td>30907</td><td>2364.0</td></tr><tr><td>51513.0</td><td>234900.0</td><td>4</td><td>2</td><td>10075.0</td><td>616594.0</td><td>Grovetown</td><td>Georgia</td><td>30813</td><td>2283.0</td></tr><tr><td>64006.0</td><td>289999.0</td><td>5</td><td>3</td><td>75100.0</td><td>1492920.0</td><td>Grovetown</td><td>Georgia</td><td>30813</td><td>2542.0</td></tr><tr><td>64008.0</td><td>364900.0</td><td>4</td><td>3</td><td>100000.0</td><td>1207934.0</td><td>Martinez</td><td>Georgia</td><td>30907</td><td>2898.0</td></tr><tr><td>64006.0</td><td>449000.0</td><td>4</td><td>3</td><td>100000.0</td><td>1101867.0</td><td>Martinez</td><td>Georgia</td><td>30907</td><td>3100.0</td></tr><tr><td>64006.0</td><td>165000.0</td><td>3</td><td>2</td><td>100000.0</td><td>880841.0</td><td>Hephzibah</td><td>Georgia</td><td>30815</td><td>1664.0</td></tr><tr><td>39463.0</td><td>270000.0</td><td>4</td><td>3</td><td>80150.0</td><td>1253503.0</td><td>Augusta</td><td>Georgia</td><td>30909</td><td>2000.0</td></tr><tr><td>105021.0</td><td>575000.0</td><td>5</td><td>3</td><td>21087.0</td><td>1270462.0</td><td>Lilburn</td><td>Georgia</td><td>30047</td><td>2950.0</td></tr><tr><td>90493.0</td><td>375000.0</td><td>3</td><td>3</td><td>17424.0</td><td>13647.0</td><td>Covington</td><td>Georgia</td><td>30014</td><td>2711.0</td></tr><tr><td>106242.0</td><td>574900.0</td><td>6</td><td>5</td><td>10890.0</td><td>1098928.0</td><td>Loganville</td><td>Georgia</td><td>30052</td><td>5592.0</td></tr><tr><td>80816.0</td><td>475000.0</td><td>3</td><td>3</td><td>13608.0</td><td>1012950.0</td><td>Atlanta</td><td>Georgia</td><td>30315</td><td>1680.0</td></tr><tr><td>19747.0</td><td>677172.0</td><td>5</td><td>4</td><td>14500.0</td><td>1280182.0</td><td>Canton</td><td>Georgia</td><td>30115</td><td>0.0</td></tr><tr><td>51528.0</td><td>795000.0</td><td>4</td><td>4</td><td>100000.0</td><td>1622244.0</td><td>Canton</td><td>Georgia</td><td>30114</td><td>0.0</td></tr><tr><td>109855.0</td><td>19900.0</td><td>0</td><td>0</td><td>17424.0</td><td>655067.0</td><td>Mableton</td><td>Georgia</td><td>30126</td><td>0.0</td></tr><tr><td>52535.0</td><td>245000.0</td><td>3</td><td>2</td><td>18905.0</td><td>1430062.0</td><td>Union City</td><td>Georgia</td><td>30291</td><td>1336.0</td></tr><tr><td>13420.0</td><td>319900.0</td><td>4</td><td>3</td><td>43560.0</td><td>1264503.0</td><td>Ellenwood</td><td>Georgia</td><td>30294</td><td>3079.0</td></tr><tr><td>59568.0</td><td>220000.0</td><td>4</td><td>2</td><td>15682.0</td><td>1524266.0</td><td>Atlanta</td><td>Georgia</td><td>30349</td><td>0.0</td></tr><tr><td>53085.0</td><td>299000.0</td><td>3</td><td>2</td><td>35719.0</td><td>826415.0</td><td>East Point</td><td>Georgia</td><td>30344</td><td>1807.0</td></tr><tr><td>2406.0</td><td>389000.0</td><td>3</td><td>2</td><td>47916.0</td><td>477660.0</td><td>Atlanta</td><td>Georgia</td><td>30316</td><td>0.0</td></tr><tr><td>62715.0</td><td>334900.0</td><td>3</td><td>2</td><td>22690.0</td><td>30452.0</td><td>Marietta</td><td>Georgia</td><td>30008</td><td>1758.0</td></tr><tr><td>53282.0</td><td>330000.0</td><td>5</td><td>3</td><td>14726.0</td><td>1074064.0</td><td>Douglasville</td><td>Georgia</td><td>30135</td><td>2199.0</td></tr><tr><td>51528.0</td><td>169000.0</td><td>2</td><td>1</td><td>44867.0</td><td>954312.0</td><td>Gainesville</td><td>Georgia</td><td>30501</td><td>0.0</td></tr><tr><td>33717.0</td><td>580000.0</td><td>5</td><td>4</td><td>35284.0</td><td>791075.0</td><td>Hoschton</td><td>Georgia</td><td>30548</td><td>3100.0</td></tr><tr><td>51834.0</td><td>359000.0</td><td>4</td><td>1</td><td>16164.0</td><td>824483.0</td><td>Rutledge</td><td>Georgia</td><td>30663</td><td>1920.0</td></tr><tr><td>72865.0</td><td>399283.0</td><td>4</td><td>3</td><td>38353.0</td><td>281714.0</td><td>Winder</td><td>Georgia</td><td>30680</td><td>2417.0</td></tr><tr><td>39959.0</td><td>120000.0</td><td>0</td><td>0</td><td>27180.0</td><td>1962728.0</td><td>unknown</td><td>Florida</td><td>32025</td><td>0.0</td></tr><tr><td>42327.0</td><td>1300000.0</td><td>0</td><td>0</td><td>64324.0</td><td>336995.0</td><td>Daytona Beach</td><td>Florida</td><td>32118</td><td>0.0</td></tr><tr><td>105483.0</td><td>225000.0</td><td>3</td><td>2</td><td>11670.0</td><td>594362.0</td><td>Orlando</td><td>Florida</td><td>32812</td><td>1192.0</td></tr><tr><td>15345.0</td><td>1995000.0</td><td>3</td><td>3</td><td>100000.0</td><td>34558.0</td><td>Islamorada</td><td>Florida</td><td>33036</td><td>2026.0</td></tr><tr><td>9492.0</td><td>6500000.0</td><td>4</td><td>6</td><td>21425.0</td><td>870065.0</td><td>Key Largo</td><td>Florida</td><td>33037</td><td>5431.0</td></tr><tr><td>54226.0</td><td>50000.0</td><td>0</td><td>0</td><td>54450.0</td><td>-1.0</td><td>Clewiston</td><td>Florida</td><td>33440</td><td>0.0</td></tr><tr><td>79629.0</td><td>159900.0</td><td>2</td><td>2</td><td>99999.0</td><td>1424836.0</td><td>Saint Petersburg</td><td>Florida</td><td>33709</td><td>1140.0</td></tr><tr><td>21736.0</td><td>660000.0</td><td>2</td><td>2</td><td>36422.0</td><td>1611190.0</td><td>South Pasadena</td><td>Florida</td><td>33707</td><td>1375.0</td></tr><tr><td>79629.0</td><td>139900.0</td><td>1</td><td>1</td><td>99999.0</td><td>1415306.0</td><td>Saint Petersburg</td><td>Florida</td><td>33709</td><td>1055.0</td></tr><tr><td>82846.0</td><td>184600.0</td><td>2</td><td>1</td><td>100000.0</td><td>162797.0</td><td>Saint Petersburg</td><td>Florida</td><td>33716</td><td>885.0</td></tr><tr><td>79629.0</td><td>262000.0</td><td>2</td><td>2</td><td>100000.0</td><td>1419752.0</td><td>Saint Petersburg</td><td>Florida</td><td>33709</td><td>1245.0</td></tr><tr><td>84543.0</td><td>160000.0</td><td>2</td><td>2</td><td>100000.0</td><td>319800.0</td><td>Seminole</td><td>Florida</td><td>33776</td><td>865.0</td></tr><tr><td>38825.0</td><td>160000.0</td><td>0</td><td>0</td><td>16205.0</td><td>448604.0</td><td>unknown</td><td>Florida</td><td>33981</td><td>0.0</td></tr><tr><td>105203.0</td><td>99000.0</td><td>0</td><td>0</td><td>10250.0</td><td>1007252.0</td><td>unknown</td><td>Florida</td><td>33852</td><td>0.0</td></tr><tr><td>55306.0</td><td>59900.0</td><td>0</td><td>0</td><td>10629.0</td><td>156193.0</td><td>Cape Coral</td><td>Florida</td><td>33993</td><td>0.0</td></tr><tr><td>89551.0</td><td>150000.0</td><td>2</td><td>1</td><td>23031.0</td><td>1061976.0</td><td>Bradenton</td><td>Florida</td><td>34205</td><td>1040.0</td></tr><tr><td>22611.0</td><td>289900.0</td><td>3</td><td>2</td><td>100000.0</td><td>1558561.0</td><td>Bradenton</td><td>Florida</td><td>34203</td><td>1352.0</td></tr><tr><td>30456.0</td><td>215000.0</td><td>2</td><td>2</td><td>10862.0</td><td>1238948.0</td><td>Sarasota</td><td>Florida</td><td>34231</td><td>835.0</td></tr><tr><td>89572.0</td><td>4500000.0</td><td>3</td><td>3</td><td>94457.0</td><td>708472.0</td><td>Sarasota</td><td>Florida</td><td>34242</td><td>2970.0</td></tr><tr><td>88619.0</td><td>2550000.0</td><td>2</td><td>3</td><td>10899.0</td><td>1384496.0</td><td>Sarasota</td><td>Florida</td><td>34242</td><td>1437.0</td></tr><tr><td>105811.0</td><td>220000.0</td><td>2</td><td>2</td><td>60075.0</td><td>1111786.0</td><td>Bradenton</td><td>Florida</td><td>34209</td><td>1008.0</td></tr><tr><td>27587.0</td><td>449000.0</td><td>3</td><td>2</td><td>100000.0</td><td>472465.0</td><td>Sarasota</td><td>Florida</td><td>34231</td><td>1283.0</td></tr><tr><td>94044.0</td><td>29995.0</td><td>0</td><td>0</td><td>23541.0</td><td>1959054.0</td><td>Ocala</td><td>Florida</td><td>34473</td><td>0.0</td></tr><tr><td>14531.0</td><td>269900.0</td><td>8</td><td>5</td><td>13504.0</td><td>642781.0</td><td>Talladega</td><td>Alabama</td><td>35160</td><td>6668.0</td></tr><tr><td>86312.0</td><td>105000.0</td><td>0</td><td>0</td><td>12059.0</td><td>1895432.0</td><td>Tuscumbia</td><td>Alabama</td><td>35674</td><td>0.0</td></tr><tr><td>56393.0</td><td>29900.0</td><td>0</td><td>0</td><td>32670.0</td><td>1296962.0</td><td>Holladay</td><td>Tennessee</td><td>38341</td><td>0.0</td></tr><tr><td>107767.0</td><td>127000.0</td><td>3</td><td>2</td><td>10399.0</td><td>343191.0</td><td>Corinth</td><td>Mississippi</td><td>38834</td><td>1356.0</td></tr><tr><td>40740.0</td><td>60000.0</td><td>0</td><td>0</td><td>100000.0</td><td>825988.0</td><td>Pascagoula</td><td>Mississippi</td><td>39567</td><td>0.0</td></tr><tr><td>62953.0</td><td>269900.0</td><td>3</td><td>2</td><td>100000.0</td><td>700856.0</td><td>Starkville</td><td>Mississippi</td><td>39759</td><td>1771.0</td></tr><tr><td>103694.0</td><td>403325.0</td><td>4</td><td>4</td><td>12214.0</td><td>1007464.0</td><td>Shelbyville</td><td>Kentucky</td><td>40065</td><td>2456.0</td></tr><tr><td>106062.0</td><td>1750000.0</td><td>4</td><td>5</td><td>79279.27</td><td>838037.0</td><td>Lexington</td><td>Kentucky</td><td>40502</td><td>5200.0</td></tr><tr><td>32650.0</td><td>167500.0</td><td>2</td><td>1</td><td>11934.0</td><td>406298.0</td><td>Hamilton</td><td>Ohio</td><td>45013</td><td>1136.0</td></tr><tr><td>22611.0</td><td>389900.0</td><td>3</td><td>3</td><td>12371.0</td><td>225625.0</td><td>Wyoming</td><td>Ohio</td><td>45215</td><td>1594.0</td></tr><tr><td>807.0</td><td>205000.0</td><td>6</td><td>4</td><td>12197.0</td><td>681325.0</td><td>Howard City</td><td>Michigan</td><td>49329</td><td>2280.0</td></tr><tr><td>35524.0</td><td>265000.0</td><td>0</td><td>0</td><td>21210.0</td><td>1693594.0</td><td>Norton Shores</td><td>Michigan</td><td>49456</td><td>0.0</td></tr><tr><td>44760.0</td><td>159500.0</td><td>2</td><td>3</td><td>10530.0</td><td>120239.0</td><td>Manchester</td><td>Iowa</td><td>52057</td><td>1200.0</td></tr><tr><td>79072.0</td><td>40000.0</td><td>0</td><td>0</td><td>19240.0</td><td>396.0</td><td>Breda</td><td>Iowa</td><td>51436</td><td>0.0</td></tr><tr><td>81710.0</td><td>375000.0</td><td>4</td><td>3</td><td>10735.0</td><td>49486.0</td><td>Papillion</td><td>Nebraska</td><td>68046</td><td>2436.0</td></tr><tr><td>85485.0</td><td>184900.0</td><td>3</td><td>2</td><td>22956.84</td><td>1078642.0</td><td>Island Lake</td><td>Illinois</td><td>60042</td><td>1500.0</td></tr><tr><td>58476.0</td><td>237900.0</td><td>3</td><td>3</td><td>17300.56</td><td>888963.0</td><td>Wauconda</td><td>Illinois</td><td>60084</td><td>1838.0</td></tr><tr><td>31348.0</td><td>360000.0</td><td>2</td><td>1</td><td>10800.0</td><td>1616193.0</td><td>Brooklyn Park</td><td>Minnesota</td><td>55443</td><td>1957.0</td></tr><tr><td>42755.0</td><td>2.75E7</td><td>0</td><td>0</td><td>15300.0</td><td>-1.0</td><td>Crookston</td><td>Nebraska</td><td>69212</td><td>0.0</td></tr><tr><td>34720.0</td><td>1.3325E7</td><td>0</td><td>0</td><td>11698.0</td><td>510696.0</td><td>Belle Fourche</td><td>South Dakota</td><td>57717</td><td>0.0</td></tr><tr><td>92822.0</td><td>1.3995E7</td><td>3</td><td>1</td><td>14565.0</td><td>1193759.0</td><td>Miles City</td><td>Montana</td><td>59301</td><td>0.0</td></tr><tr><td>77505.0</td><td>6350000.0</td><td>4</td><td>3</td><td>10361.0</td><td>767080.0</td><td>Billings</td><td>Montana</td><td>59015</td><td>3337.0</td></tr><tr><td>32298.0</td><td>2588000.0</td><td>0</td><td>0</td><td>12852.0</td><td>294185.0</td><td>Gallatin Gateway</td><td>Montana</td><td>59730</td><td>0.0</td></tr><tr><td>16132.0</td><td>7495000.0</td><td>4</td><td>1</td><td>11074.0</td><td>1665257.0</td><td>Miles City</td><td>Montana</td><td>59301</td><td>1650.0</td></tr><tr><td>10532.0</td><td>1.745E7</td><td>6</td><td>4</td><td>25876.0</td><td>1189373.0</td><td>Big Sandy</td><td>Montana</td><td>59520</td><td>2496.0</td></tr><tr><td>8161.0</td><td>1.745E7</td><td>6</td><td>4</td><td>18134.0</td><td>1213496.0</td><td>Big Sandy</td><td>Montana</td><td>59520</td><td>4000.0</td></tr><tr><td>34715.0</td><td>2.475E7</td><td>6</td><td>4</td><td>11100.0</td><td>1933010.0</td><td>Avon</td><td>Montana</td><td>59713</td><td>0.0</td></tr><tr><td>10537.0</td><td>325000.0</td><td>3</td><td>1</td><td>10184.0</td><td>972139.0</td><td>Stevensville</td><td>Montana</td><td>59870</td><td>1392.0</td></tr><tr><td>58476.0</td><td>240000.0</td><td>3</td><td>2</td><td>57736.97</td><td>1514592.0</td><td>Matteson</td><td>Illinois</td><td>60443</td><td>1668.0</td></tr><tr><td>20029.0</td><td>430000.0</td><td>3</td><td>3</td><td>98135.0</td><td>877824.0</td><td>Joplin</td><td>Missouri</td><td>64801</td><td>2054.0</td></tr><tr><td>69082.0</td><td>99900.0</td><td>3</td><td>2</td><td>100000.0</td><td>1208865.0</td><td>Carl Junction</td><td>Missouri</td><td>64834</td><td>1124.0</td></tr><tr><td>69082.0</td><td>359900.0</td><td>4</td><td>3</td><td>90124.0</td><td>658093.0</td><td>Joplin</td><td>Missouri</td><td>64801</td><td>2589.0</td></tr><tr><td>92727.0</td><td>65000.0</td><td>3</td><td>2</td><td>50120.0</td><td>612951.0</td><td>Miami</td><td>Oklahoma</td><td>74354</td><td>1288.0</td></tr><tr><td>4117.0</td><td>139500.0</td><td>3</td><td>2</td><td>10625.0</td><td>625539.0</td><td>Gas</td><td>Kansas</td><td>66742</td><td>1200.0</td></tr><tr><td>89110.0</td><td>228900.0</td><td>3</td><td>2</td><td>11248.0</td><td>1342782.0</td><td>Solomon</td><td>Kansas</td><td>67480</td><td>1526.0</td></tr><tr><td>42755.0</td><td>4.5E7</td><td>7</td><td>7</td><td>45039.0</td><td>791672.0</td><td>Campo</td><td>Colorado</td><td>81029</td><td>7000.0</td></tr><tr><td>44370.0</td><td>57000.0</td><td>0</td><td>0</td><td>15233.0</td><td>1905210.0</td><td>Kearney</td><td>Nebraska</td><td>68847</td><td>0.0</td></tr><tr><td>22350.0</td><td>90000.0</td><td>0</td><td>0</td><td>12184.0</td><td>705627.0</td><td>Lake Charles</td><td>Louisiana</td><td>-1</td><td>0.0</td></tr><tr><td>34131.0</td><td>129000.0</td><td>3</td><td>2</td><td>23940.0</td><td>360092.0</td><td>Moss Bluff</td><td>Louisiana</td><td>70611</td><td>1680.0</td></tr><tr><td>22350.0</td><td>449000.0</td><td>3</td><td>2</td><td>100000.0</td><td>581638.0</td><td>Sulphur</td><td>Louisiana</td><td>70665</td><td>1977.0</td></tr><tr><td>58539.0</td><td>8900.0</td><td>0</td><td>0</td><td>75150.0</td><td>1935953.0</td><td>Clarksville</td><td>Arkansas</td><td>72830</td><td>0.0</td></tr><tr><td>11802.0</td><td>35000.0</td><td>0</td><td>0</td><td>100000.0</td><td>1943332.0</td><td>Afton</td><td>Oklahoma</td><td>74331</td><td>0.0</td></tr><tr><td>63088.0</td><td>159000.0</td><td>0</td><td>0</td><td>20913.0</td><td>1907566.0</td><td>Langley</td><td>Oklahoma</td><td>74350</td><td>0.0</td></tr><tr><td>97887.0</td><td>2.6785E7</td><td>3</td><td>4</td><td>11671.0</td><td>1177082.0</td><td>Sonora</td><td>Texas</td><td>76950</td><td>6315.0</td></tr><tr><td>97887.0</td><td>2.6785E7</td><td>0</td><td>0</td><td>11671.0</td><td>1177081.0</td><td>Sonora</td><td>Texas</td><td>76950</td><td>6315.0</td></tr><tr><td>97887.0</td><td>2.6785E7</td><td>3</td><td>4</td><td>11671.0</td><td>1177083.0</td><td>Sonora</td><td>Texas</td><td>76950</td><td>0.0</td></tr><tr><td>97887.0</td><td>2.6785E7</td><td>0</td><td>0</td><td>11671.0</td><td>1177082.0</td><td>Sonora</td><td>Texas</td><td>76950</td><td>0.0</td></tr><tr><td>36763.0</td><td>8150000.0</td><td>0</td><td>0</td><td>13812.0</td><td>1955423.0</td><td>Ozona</td><td>Texas</td><td>76943</td><td>0.0</td></tr><tr><td>11668.0</td><td>0.0</td><td>0</td><td>0</td><td>10686.0</td><td>91378.0</td><td>Bay City</td><td>Texas</td><td>77414</td><td>0.0</td></tr><tr><td>76453.0</td><td>55000.0</td><td>3</td><td>1</td><td>16200.0</td><td>1494811.0</td><td>Robstown</td><td>Texas</td><td>78380</td><td>660.0</td></tr><tr><td>102851.0</td><td>337900.0</td><td>4</td><td>2</td><td>24306.48</td><td>614266.0</td><td>Orange Grove</td><td>Texas</td><td>78372</td><td>2076.0</td></tr><tr><td>69112.0</td><td>799000.0</td><td>0</td><td>0</td><td>76652.0</td><td>1882242.0</td><td>Brownsville</td><td>Texas</td><td>78526</td><td>0.0</td></tr><tr><td>53016.0</td><td>7271875.0</td><td>3</td><td>2</td><td>22375.0</td><td>1947107.0</td><td>Del Rio</td><td>Texas</td><td>78871</td><td>1000.0</td></tr><tr><td>78793.0</td><td>45000.0</td><td>0</td><td>0</td><td>13000.0</td><td>204165.0</td><td>Lubbock</td><td>Texas</td><td>79401</td><td>0.0</td></tr><tr><td>74748.0</td><td>149900.0</td><td>0</td><td>0</td><td>16442.0</td><td>313039.0</td><td>Odessa</td><td>Texas</td><td>79765</td><td>0.0</td></tr><tr><td>74748.0</td><td>149900.0</td><td>0</td><td>0</td><td>15307.0</td><td>237247.0</td><td>Odessa</td><td>Texas</td><td>79765</td><td>0.0</td></tr><tr><td>81949.0</td><td>6990000.0</td><td>0</td><td>0</td><td>23436.07</td><td>203643.0</td><td>Terlingua</td><td>Texas</td><td>79852</td><td>0.0</td></tr><tr><td>44642.0</td><td>420000.0</td><td>3</td><td>2</td><td>13485.0</td><td>397736.0</td><td>Denver</td><td>Colorado</td><td>80239</td><td>1703.0</td></tr><tr><td>67924.0</td><td>1.445E7</td><td>7</td><td>9</td><td>13521.0</td><td>1598457.0</td><td>Breckenridge</td><td>Colorado</td><td>80424</td><td>6221.0</td></tr><tr><td>23829.0</td><td>2.65E7</td><td>0</td><td>0</td><td>100000.0</td><td>741741.0</td><td>Hartsel</td><td>Colorado</td><td>80449</td><td>0.0</td></tr><tr><td>42755.0</td><td>1.54785E7</td><td>0</td><td>0</td><td>12459.0</td><td>555251.0</td><td>Akron</td><td>Colorado</td><td>80720</td><td>0.0</td></tr><tr><td>42755.0</td><td>7800000.0</td><td>9</td><td>6</td><td>10681.0</td><td>504412.0</td><td>Ramah</td><td>Colorado</td><td>80832</td><td>6968.0</td></tr><tr><td>42755.0</td><td>1.39E7</td><td>3</td><td>3</td><td>22450.0</td><td>779211.0</td><td>Craig</td><td>Colorado</td><td>81625</td><td>2700.0</td></tr><tr><td>88721.0</td><td>5750000.0</td><td>3</td><td>2</td><td>14486.0</td><td>1376429.0</td><td>Natrona</td><td>Wyoming</td><td>82646</td><td>0.0</td></tr><tr><td>73855.0</td><td>2.0E7</td><td>3</td><td>1</td><td>100000.0</td><td>1031630.0</td><td>Boulder</td><td>Wyoming</td><td>82923</td><td>0.0</td></tr><tr><td>95207.0</td><td>1.79E7</td><td>0</td><td>0</td><td>40820.0</td><td>1648547.0</td><td>Grouse Creek</td><td>Utah</td><td>84313</td><td>0.0</td></tr><tr><td>107244.0</td><td>779900.0</td><td>4</td><td>3</td><td>90522.0</td><td>880961.0</td><td>Queen Creek</td><td>Arizona</td><td>85143</td><td>3025.0</td></tr><tr><td>55597.0</td><td>299900.0</td><td>2</td><td>2</td><td>87120.0</td><td>533839.0</td><td>Blythe</td><td>California</td><td>92225</td><td>1560.0</td></tr><tr><td>63716.0</td><td>526820.0</td><td>5</td><td>3</td><td>17220.16</td><td>1295796.0</td><td>Goodyear</td><td>Arizona</td><td>85395</td><td>2528.0</td></tr><tr><td>103127.0</td><td>2800000.0</td><td>0</td><td>0</td><td>23092.0</td><td>1988381.0</td><td>Virden</td><td>New Mexico</td><td>88045</td><td>0.0</td></tr><tr><td>14500.0</td><td>3750000.0</td><td>5</td><td>4</td><td>19925.0</td><td>34259.0</td><td>Elgin</td><td>Arizona</td><td>85611</td><td>4636.0</td></tr><tr><td>59597.0</td><td>170000.0</td><td>5</td><td>2</td><td>41382.0</td><td>100141.0</td><td>Nogales</td><td>Arizona</td><td>85621</td><td>2088.0</td></tr><tr><td>88127.0</td><td>2500000.0</td><td>5</td><td>2</td><td>18680.0</td><td>1283068.0</td><td>Snowflake</td><td>Arizona</td><td>85937</td><td>2100.0</td></tr><tr><td>59143.0</td><td>1.6E7</td><td>0</td><td>0</td><td>41535.0</td><td>1544829.0</td><td>Holbrook</td><td>Arizona</td><td>86025</td><td>0.0</td></tr><tr><td>42755.0</td><td>3990000.0</td><td>3</td><td>2</td><td>10025.0</td><td>437811.0</td><td>Grants</td><td>New Mexico</td><td>87020</td><td>2000.0</td></tr><tr><td>42755.0</td><td>3990000.0</td><td>7</td><td>5</td><td>35081.0</td><td>1166411.0</td><td>Grants</td><td>New Mexico</td><td>87020</td><td>0.0</td></tr><tr><td>92912.0</td><td>1.7E7</td><td>0</td><td>0</td><td>11140.0</td><td>704630.0</td><td>Stanley</td><td>New Mexico</td><td>87056</td><td>0.0</td></tr><tr><td>43654.0</td><td>2.1248E7</td><td>0</td><td>0</td><td>12532.0</td><td>1917492.0</td><td>Los Lunas</td><td>New Mexico</td><td>87031</td><td>0.0</td></tr><tr><td>42755.0</td><td>5942000.0</td><td>5</td><td>4</td><td>14640.0</td><td>1110393.0</td><td>Quemado</td><td>New Mexico</td><td>87829</td><td>0.0</td></tr><tr><td>69268.0</td><td>2600000.0</td><td>0</td><td>0</td><td>29098.0</td><td>467127.0</td><td>Truth or Consequences</td><td>New Mexico</td><td>87901</td><td>0.0</td></tr><tr><td>33948.0</td><td>7500000.0</td><td>0</td><td>0</td><td>28059.0</td><td>1271193.0</td><td>Fort Sumner</td><td>New Mexico</td><td>88119</td><td>0.0</td></tr><tr><td>102686.0</td><td>4500000.0</td><td>0</td><td>0</td><td>72670.0</td><td>64609.0</td><td>Carlsbad</td><td>New Mexico</td><td>88220</td><td>0.0</td></tr><tr><td>80328.0</td><td>598000.0</td><td>2</td><td>2</td><td>100000.0</td><td>1836217.0</td><td>Alhambra</td><td>California</td><td>91801</td><td>1110.0</td></tr><tr><td>29791.0</td><td>465000.0</td><td>2</td><td>2</td><td>100000.0</td><td>1727752.0</td><td>Paramount</td><td>California</td><td>90723</td><td>1193.0</td></tr><tr><td>83394.0</td><td>377777.0</td><td>1</td><td>1</td><td>43560.0</td><td>1144131.0</td><td>Fullerton</td><td>California</td><td>92831</td><td>677.0</td></tr><tr><td>82595.0</td><td>625000.0</td><td>1</td><td>1</td><td>69317.0</td><td>1725958.0</td><td>Long Beach</td><td>California</td><td>90802</td><td>881.0</td></tr><tr><td>100791.0</td><td>699000.0</td><td>3</td><td>3</td><td>29681.89</td><td>1794988.0</td><td>Northridge</td><td>California</td><td>91324</td><td>1300.0</td></tr><tr><td>36741.0</td><td>649000.0</td><td>1</td><td>1</td><td>22956.84</td><td>1487846.0</td><td>Redondo Beach</td><td>California</td><td>90277</td><td>619.0</td></tr><tr><td>51923.0</td><td>69000.0</td><td>0</td><td>0</td><td>100000.0</td><td>1629496.0</td><td>Lancaster</td><td>California</td><td>93536</td><td>0.0</td></tr><tr><td>81187.0</td><td>1499900.0</td><td>4</td><td>2</td><td>59600.0</td><td>294532.0</td><td>Ontario</td><td>California</td><td>91762</td><td>2209.0</td></tr><tr><td>82455.0</td><td>200000.0</td><td>0</td><td>0</td><td>100000.0</td><td>595102.0</td><td>Jamul</td><td>California</td><td>91935</td><td>0.0</td></tr><tr><td>44690.0</td><td>1189000.0</td><td>3</td><td>3</td><td>38083.0</td><td>928294.0</td><td>Oceanside</td><td>California</td><td>92054</td><td>1909.0</td></tr><tr><td>22611.0</td><td>678000.0</td><td>3</td><td>2</td><td>100000.0</td><td>1802048.0</td><td>San Marcos</td><td>California</td><td>92078</td><td>1342.0</td></tr><tr><td>53016.0</td><td>679000.0</td><td>2</td><td>3</td><td>100000.0</td><td>1445377.0</td><td>San Diego</td><td>California</td><td>92110</td><td>1160.0</td></tr><tr><td>16675.0</td><td>389000.0</td><td>4</td><td>2</td><td>49312.0</td><td>1738082.0</td><td>Phelan</td><td>California</td><td>92371</td><td>1914.0</td></tr><tr><td>97358.0</td><td>650000.0</td><td>3</td><td>2</td><td>95832.0</td><td>707110.0</td><td>Moreno Valley</td><td>California</td><td>92557</td><td>100.0</td></tr><tr><td>36748.0</td><td>529999.0</td><td>4</td><td>4</td><td>100000.0</td><td>1474785.0</td><td>Anza</td><td>California</td><td>92539</td><td>3429.0</td></tr><tr><td>81355.0</td><td>230000.0</td><td>2</td><td>2</td><td>100000.0</td><td>662048.0</td><td>Oxnard</td><td>California</td><td>93033</td><td>1248.0</td></tr><tr><td>15623.0</td><td>1100000.0</td><td>5</td><td>4</td><td>20003.0</td><td>380376.0</td><td>Santa Paula</td><td>California</td><td>93060</td><td>3407.0</td></tr><tr><td>79438.0</td><td>229000.0</td><td>2</td><td>2</td><td>12197.0</td><td>1253226.0</td><td>California Hot Springs</td><td>California</td><td>93207</td><td>1500.0</td></tr><tr><td>32406.0</td><td>2.1E7</td><td>3</td><td>2</td><td>24633.0</td><td>1218045.0</td><td>unknown</td><td>California</td><td>93647</td><td>1283.0</td></tr><tr><td>72990.0</td><td>999990.0</td><td>4</td><td>3</td><td>40176.0</td><td>786207.0</td><td>Acton</td><td>California</td><td>93510</td><td>2374.0</td></tr><tr><td>22096.0</td><td>87000.0</td><td>0</td><td>0</td><td>10018.0</td><td>1855275.0</td><td>California City</td><td>California</td><td>93505</td><td>0.0</td></tr><tr><td>104340.0</td><td>125000.0</td><td>3</td><td>2</td><td>11025.0</td><td>1723336.0</td><td>Trona</td><td>California</td><td>93562</td><td>950.0</td></tr><tr><td>53069.0</td><td>175000.0</td><td>0</td><td>0</td><td>31979.0</td><td>1942365.0</td><td>Pearblossom</td><td>California</td><td>93553</td><td>0.0</td></tr><tr><td>44607.0</td><td>46000.0</td><td>0</td><td>0</td><td>39407.0</td><td>1842271.0</td><td>Lake Los Angeles</td><td>California</td><td>93591</td><td>0.0</td></tr><tr><td>87970.0</td><td>7990000.0</td><td>0</td><td>0</td><td>10314.0</td><td>1433177.0</td><td>Firebaugh</td><td>California</td><td>93622</td><td>0.0</td></tr><tr><td>87970.0</td><td>7990000.0</td><td>0</td><td>0</td><td>10314.0</td><td>1910632.0</td><td>Los Banos</td><td>California</td><td>93635</td><td>0.0</td></tr><tr><td>21119.0</td><td>3.75E7</td><td>0</td><td>0</td><td>14141.0</td><td>1063384.0</td><td>Carmel Valley</td><td>California</td><td>93924</td><td>0.0</td></tr><tr><td>87970.0</td><td>7990000.0</td><td>0</td><td>0</td><td>10314.0</td><td>1910632.0</td><td>Paicines</td><td>California</td><td>95043</td><td>0.0</td></tr><tr><td>35346.0</td><td>3.0E7</td><td>0</td><td>0</td><td>18300.0</td><td>1840857.0</td><td>unknown</td><td>California</td><td>95043</td><td>0.0</td></tr><tr><td>87970.0</td><td>7990000.0</td><td>2</td><td>1</td><td>10314.0</td><td>1910632.0</td><td>Paicines</td><td>California</td><td>95043</td><td>1527.0</td></tr><tr><td>80423.0</td><td>529900.0</td><td>3</td><td>2</td><td>10454.0</td><td>1021137.0</td><td>Arnold</td><td>California</td><td>95223</td><td>2310.0</td></tr><tr><td>72148.0</td><td>49999.0</td><td>0</td><td>0</td><td>20311.0</td><td>636694.0</td><td>Groveland</td><td>California</td><td>95321</td><td>0.0</td></tr><tr><td>61696.0</td><td>1137500.0</td><td>0</td><td>0</td><td>39910.0</td><td>498449.0</td><td>Linda</td><td>California</td><td>95901</td><td>6712.0</td></tr><tr><td>33946.0</td><td>75000.0</td><td>0</td><td>0</td><td>100000.0</td><td>1252283.0</td><td>McArthur</td><td>California</td><td>96056</td><td>0.0</td></tr><tr><td>17457.0</td><td>1.0E7</td><td>3</td><td>3</td><td>10005.4</td><td>1987684.0</td><td>Red Bluff</td><td>California</td><td>96080</td><td>1200.0</td></tr><tr><td>14988.0</td><td>9950000.0</td><td>0</td><td>0</td><td>16000.0</td><td>1925823.0</td><td>Susanville</td><td>California</td><td>96130</td><td>0.0</td></tr><tr><td>18836.0</td><td>2.447075E7</td><td>3</td><td>2</td><td>23455.0</td><td>1404132.0</td><td>Prineville</td><td>Oregon</td><td>97754</td><td>2357.0</td></tr><tr><td>75249.0</td><td>1.27E8</td><td>0</td><td>0</td><td>32995.0</td><td>1517138.0</td><td>Bend</td><td>Oregon</td><td>97701</td><td>0.0</td></tr><tr><td>34715.0</td><td>2.85E7</td><td>0</td><td>0</td><td>32270.5</td><td>1838998.0</td><td>Prineville</td><td>Oregon</td><td>97754</td><td>0.0</td></tr><tr><td>18836.0</td><td>6.5E7</td><td>3</td><td>2</td><td>40040.0</td><td>868377.0</td><td>Prineville</td><td>Oregon</td><td>97754</td><td>2832.0</td></tr><tr><td>34715.0</td><td>2.85E7</td><td>0</td><td>0</td><td>32270.5</td><td>-1.0</td><td>Prineville</td><td>Oregon</td><td>97754</td><td>0.0</td></tr><tr><td>56505.0</td><td>1.45E7</td><td>5</td><td>2</td><td>11661.0</td><td>1855072.0</td><td>Pilot Rock</td><td>Oregon</td><td>97868</td><td>1864.0</td></tr><tr><td>56506.0</td><td>1.45E7</td><td>5</td><td>2</td><td>11661.0</td><td>1855072.0</td><td>Ukiah</td><td>Oregon</td><td>97880</td><td>1864.0</td></tr><tr><td>37400.0</td><td>110000.0</td><td>3</td><td>2</td><td>100000.0</td><td>18479.0</td><td>Bayamon</td><td>Puerto Rico</td><td>956</td><td>0.0</td></tr><tr><td>10368.0</td><td>99999.0</td><td>3</td><td>2</td><td>100000.0</td><td>360928.0</td><td>Berlin</td><td>New York</td><td>12022</td><td>1805.0</td></tr><tr><td>22552.0</td><td>255000.0</td><td>4</td><td>3</td><td>100000.0</td><td>1654462.0</td><td>Hartford</td><td>New York</td><td>12838</td><td>2960.0</td></tr><tr><td>16419.0</td><td>379000.0</td><td>3</td><td>2</td><td>58100.0</td><td>898285.0</td><td>Kearny</td><td>New Jersey</td><td>7032</td><td>0.0</td></tr><tr><td>14344.0</td><td>588245.0</td><td>2</td><td>2</td><td>54727.0</td><td>1449018.0</td><td>New Scotland</td><td>New York</td><td>12186</td><td>2150.0</td></tr><tr><td>22550.0</td><td>137000.0</td><td>5</td><td>2</td><td>66108.0</td><td>551083.0</td><td>Amsterdam</td><td>New York</td><td>12010</td><td>2257.0</td></tr><tr><td>22552.0</td><td>498000.0</td><td>4</td><td>3</td><td>24632.0</td><td>140606.0</td><td>Niskayuna</td><td>New York</td><td>12309</td><td>3000.0</td></tr><tr><td>22552.0</td><td>164900.0</td><td>2</td><td>1</td><td>80200.0</td><td>507399.0</td><td>Schenectady</td><td>New York</td><td>12308</td><td>1134.0</td></tr><tr><td>33781.0</td><td>170000.0</td><td>8</td><td>3</td><td>50200.0</td><td>136649.0</td><td>Schenectady</td><td>New York</td><td>12303</td><td>2080.0</td></tr><tr><td>22552.0</td><td>158310.0</td><td>2</td><td>1</td><td>40250.0</td><td>734463.0</td><td>Glenville</td><td>New York</td><td>12302</td><td>772.0</td></tr><tr><td>41099.0</td><td>89999.0</td><td>6</td><td>2</td><td>25100.0</td><td>809941.0</td><td>Troy</td><td>New York</td><td>12180</td><td>2388.0</td></tr><tr><td>104218.0</td><td>95000.0</td><td>4</td><td>2</td><td>40100.0</td><td>1815159.0</td><td>Fort Edward Village</td><td>New York</td><td>12828</td><td>2248.0</td></tr><tr><td>81604.0</td><td>104900.0</td><td>3</td><td>2</td><td>25133.0</td><td>1205295.0</td><td>Albany</td><td>New York</td><td>12206</td><td>4112.0</td></tr><tr><td>52568.0</td><td>309900.0</td><td>5</td><td>5</td><td>30115.0</td><td>1383520.0</td><td>Albany</td><td>New York</td><td>12209</td><td>5592.0</td></tr><tr><td>45868.0</td><td>235000.0</td><td>3</td><td>2</td><td>40100.0</td><td>821755.0</td><td>Albany</td><td>New York</td><td>12203</td><td>2800.0</td></tr><tr><td>45690.0</td><td>179900.0</td><td>4</td><td>1</td><td>80110.0</td><td>44548.0</td><td>Rotterdam</td><td>New York</td><td>12303</td><td>1355.0</td></tr><tr><td>70867.0</td><td>209900.0</td><td>3</td><td>2</td><td>50150.0</td><td>26204.0</td><td>Rotterdam</td><td>New York</td><td>12306</td><td>1481.0</td></tr><tr><td>54351.0</td><td>174900.0</td><td>5</td><td>2</td><td>40140.0</td><td>382808.0</td><td>Schenectady</td><td>New York</td><td>12308</td><td>2472.0</td></tr><tr><td>22552.0</td><td>133400.0</td><td>4</td><td>2</td><td>30103.0</td><td>287957.0</td><td>Schenectady</td><td>New York</td><td>12303</td><td>1408.0</td></tr><tr><td>10211.0</td><td>529900.0</td><td>6</td><td>6</td><td>50200.0</td><td>1486533.0</td><td>Albany</td><td>New York</td><td>12203</td><td>8494.0</td></tr><tr><td>65800.0</td><td>239900.0</td><td>4</td><td>3</td><td>40151.0</td><td>1725441.0</td><td>Albany</td><td>New York</td><td>12208</td><td>3264.0</td></tr><tr><td>2577.0</td><td>269900.0</td><td>3</td><td>2</td><td>100000.0</td><td>480995.0</td><td>Guilderland</td><td>New York</td><td>12203</td><td>1296.0</td></tr><tr><td>30849.0</td><td>25000.0</td><td>4</td><td>2</td><td>25100.0</td><td>128006.0</td><td>Schenectady</td><td>New York</td><td>12304</td><td>2272.0</td></tr><tr><td>60591.0</td><td>259900.0</td><td>4</td><td>3</td><td>40130.0</td><td>319448.0</td><td>Niskayuna</td><td>New York</td><td>12309</td><td>1851.0</td></tr><tr><td>10368.0</td><td>179900.0</td><td>6</td><td>2</td><td>44100.0</td><td>1273175.0</td><td>Albany</td><td>New York</td><td>12209</td><td>2648.0</td></tr><tr><td>101424.0</td><td>418598.0</td><td>4</td><td>6</td><td>39468.0</td><td>699173.0</td><td>Guilderland</td><td>New York</td><td>12303</td><td>2733.0</td></tr><tr><td>45690.0</td><td>119000.0</td><td>5</td><td>1</td><td>50109.0</td><td>200616.0</td><td>Schenectady</td><td>New York</td><td>12308</td><td>2760.0</td></tr><tr><td>21072.0</td><td>134900.0</td><td>2</td><td>2</td><td>32100.0</td><td>116001.0</td><td>Albany</td><td>New York</td><td>12209</td><td>952.0</td></tr><tr><td>10211.0</td><td>375000.0</td><td>5</td><td>4</td><td>48136.0</td><td>152808.0</td><td>Schenectady</td><td>New York</td><td>12305</td><td>4424.0</td></tr><tr><td>81604.0</td><td>144900.0</td><td>4</td><td>2</td><td>25100.0</td><td>1169913.0</td><td>Albany</td><td>New York</td><td>12209</td><td>1200.0</td></tr><tr><td>22549.0</td><td>54900.0</td><td>5</td><td>2</td><td>30152.0</td><td>1539644.0</td><td>Gloversville</td><td>New York</td><td>12078</td><td>2080.0</td></tr><tr><td>33781.0</td><td>425000.0</td><td>5</td><td>5</td><td>31181.0</td><td>438425.0</td><td>Albany</td><td>New York</td><td>12203</td><td>4148.0</td></tr><tr><td>22552.0</td><td>149000.0</td><td>3</td><td>1</td><td>60150.0</td><td>1202017.0</td><td>Schenectady</td><td>New York</td><td>12304</td><td>900.0</td></tr><tr><td>14793.0</td><td>179900.0</td><td>2</td><td>1</td><td>12000.0</td><td>1031950.0</td><td>Guilderland</td><td>New York</td><td>12303</td><td>990.0</td></tr><tr><td>22552.0</td><td>389900.0</td><td>5</td><td>3</td><td>100000.0</td><td>224263.0</td><td>Niskayuna</td><td>New York</td><td>12309</td><td>3000.0</td></tr><tr><td>45690.0</td><td>299000.0</td><td>4</td><td>3</td><td>50208.0</td><td>1815444.0</td><td>Albany</td><td>New York</td><td>12203</td><td>2614.0</td></tr><tr><td>45690.0</td><td>44000.0</td><td>0</td><td>2</td><td>60140.0</td><td>1407747.0</td><td>Gloversville</td><td>New York</td><td>12078</td><td>1888.0</td></tr><tr><td>10368.0</td><td>159900.0</td><td>3</td><td>1</td><td>84166.0</td><td>1449087.0</td><td>Johnstown</td><td>New York</td><td>12095</td><td>1684.0</td></tr><tr><td>52568.0</td><td>367500.0</td><td>2</td><td>2</td><td>42112.0</td><td>1455805.0</td><td>North Greenbush</td><td>New York</td><td>12180</td><td>2722.0</td></tr><tr><td>52568.0</td><td>394500.0</td><td>3</td><td>3</td><td>42112.0</td><td>1458308.0</td><td>North Greenbush</td><td>New York</td><td>12180</td><td>3250.0</td></tr><tr><td>104467.0</td><td>299000.0</td><td>3</td><td>3</td><td>50100.0</td><td>752879.0</td><td>Troy</td><td>New York</td><td>12180</td><td>3876.0</td></tr><tr><td>41099.0</td><td>194900.0</td><td>7</td><td>2</td><td>46200.0</td><td>449005.0</td><td>Troy</td><td>New York</td><td>12180</td><td>2716.0</td></tr><tr><td>85922.0</td><td>179900.0</td><td>4</td><td>1</td><td>60100.0</td><td>1566045.0</td><td>Troy</td><td>New York</td><td>12180</td><td>1313.0</td></tr><tr><td>41099.0</td><td>194900.0</td><td>13</td><td>3</td><td>35120.0</td><td>1759043.0</td><td>Troy</td><td>New York</td><td>12180</td><td>0.0</td></tr><tr><td>22552.0</td><td>139900.0</td><td>3</td><td>2</td><td>30100.0</td><td>299236.0</td><td>Watervliet</td><td>New York</td><td>12189</td><td>1263.0</td></tr><tr><td>109987.0</td><td>94800.0</td><td>3</td><td>1</td><td>10454.0</td><td>1765852.0</td><td>Troy</td><td>New York</td><td>12182</td><td>2496.0</td></tr><tr><td>60591.0</td><td>199900.0</td><td>3</td><td>1</td><td>42123.0</td><td>1637938.0</td><td>Albany</td><td>New York</td><td>12209</td><td>2244.0</td></tr><tr><td>45690.0</td><td>215000.0</td><td>2</td><td>2</td><td>35125.0</td><td>1053055.0</td><td>Albany</td><td>New York</td><td>12203</td><td>1250.0</td></tr><tr><td>14044.0</td><td>198000.0</td><td>3</td><td>2</td><td>30100.0</td><td>269285.0</td><td>Green Island</td><td>New York</td><td>12183</td><td>3510.0</td></tr><tr><td>10368.0</td><td>189900.0</td><td>2</td><td>1</td><td>40120.0</td><td>1169428.0</td><td>Albany</td><td>New York</td><td>12203</td><td>1066.0</td></tr><tr><td>45690.0</td><td>150000.0</td><td>3</td><td>2</td><td>100000.0</td><td>603390.0</td><td>Hudson Falls</td><td>New York</td><td>12839</td><td>1452.0</td></tr><tr><td>45795.0</td><td>179000.0</td><td>5</td><td>2</td><td>50125.0</td><td>1141323.0</td><td>Amsterdam</td><td>New York</td><td>12010</td><td>2196.0</td></tr><tr><td>65800.0</td><td>480000.0</td><td>4</td><td>4</td><td>18106.0</td><td>766289.0</td><td>Albany</td><td>New York</td><td>12210</td><td>3334.0</td></tr><tr><td>8976.0</td><td>144900.0</td><td>2</td><td>1</td><td>12480.0</td><td>998586.0</td><td>Rotterdam</td><td>New York</td><td>12306</td><td>728.0</td></tr><tr><td>45690.0</td><td>309900.0</td><td>3</td><td>2</td><td>100000.0</td><td>931101.0</td><td>Guilderland</td><td>New York</td><td>12303</td><td>1748.0</td></tr><tr><td>38445.0</td><td>169001.0</td><td>7</td><td>2</td><td>31124.0</td><td>558165.0</td><td>Albany</td><td>New York</td><td>12202</td><td>2640.0</td></tr><tr><td>45690.0</td><td>249900.0</td><td>2</td><td>1</td><td>14400.0</td><td>1530865.0</td><td>Albany</td><td>New York</td><td>12203</td><td>1350.0</td></tr><tr><td>38445.0</td><td>179000.0</td><td>4</td><td>2</td><td>31124.0</td><td>413761.0</td><td>Schenectady</td><td>New York</td><td>12308</td><td>1800.0</td></tr><tr><td>14793.0</td><td>425900.0</td><td>2</td><td>2</td><td>50120.0</td><td>1011531.0</td><td>Malta</td><td>New York</td><td>12020</td><td>1750.0</td></tr><tr><td>33781.0</td><td>175000.0</td><td>9</td><td>3</td><td>36120.0</td><td>1001491.0</td><td>Troy</td><td>New York</td><td>12180</td><td>3864.0</td></tr><tr><td>104218.0</td><td>120000.0</td><td>5</td><td>2</td><td>40100.0</td><td>1259626.0</td><td>Glens Falls</td><td>New York</td><td>12801</td><td>1923.0</td></tr><tr><td>26103.0</td><td>99000.0</td><td>3</td><td>2</td><td>100000.0</td><td>207225.0</td><td>Granville</td><td>New York</td><td>12832</td><td>1104.0</td></tr><tr><td>22552.0</td><td>125000.0</td><td>3</td><td>1</td><td>100000.0</td><td>1130010.0</td><td>Hebron</td><td>New York</td><td>12865</td><td>1609.0</td></tr><tr><td>2939.0</td><td>109900.0</td><td>2</td><td>1</td><td>66150.0</td><td>598570.0</td><td>Hudson Falls</td><td>New York</td><td>12839</td><td>940.0</td></tr><tr><td>45690.0</td><td>62500.0</td><td>1</td><td>1</td><td>100000.0</td><td>1645706.0</td><td>Fort Edward</td><td>New York</td><td>12828</td><td>440.0</td></tr><tr><td>11376.0</td><td>199000.0</td><td>2</td><td>1</td><td>76150.0</td><td>1128885.0</td><td>Queensbury</td><td>New York</td><td>12804</td><td>842.0</td></tr><tr><td>52568.0</td><td>139500.0</td><td>4</td><td>2</td><td>50149.0</td><td>1141849.0</td><td>Hudson Falls</td><td>New York</td><td>12839</td><td>2500.0</td></tr><tr><td>83608.0</td><td>39900.0</td><td>4</td><td>3</td><td>15682.0</td><td>1592142.0</td><td>Ballston Spa</td><td>New York</td><td>12863</td><td>1500.0</td></tr><tr><td>39459.0</td><td>159800.0</td><td>3</td><td>2</td><td>100000.0</td><td>951097.0</td><td>Simpsonville</td><td>South Carolina</td><td>29680</td><td>0.0</td></tr><tr><td>72261.0</td><td>81900.0</td><td>3</td><td>1</td><td>50105.0</td><td>610455.0</td><td>Augusta</td><td>Georgia</td><td>30901</td><td>1020.0</td></tr><tr><td>93149.0</td><td>679000.0</td><td>5</td><td>5</td><td>100000.0</td><td>418768.0</td><td>Evans</td><td>Georgia</td><td>30809</td><td>3497.0</td></tr><tr><td>93149.0</td><td>399900.0</td><td>4</td><td>3</td><td>65145.0</td><td>626048.0</td><td>Evans</td><td>Georgia</td><td>30809</td><td>2659.0</td></tr><tr><td>51513.0</td><td>234900.0</td><td>4</td><td>2</td><td>10075.0</td><td>616594.0</td><td>Grovetown</td><td>Georgia</td><td>30813</td><td>2283.0</td></tr><tr><td>45189.0</td><td>275000.0</td><td>4</td><td>3</td><td>85150.0</td><td>991348.0</td><td>Martinez</td><td>Georgia</td><td>30907</td><td>1992.0</td></tr><tr><td>72261.0</td><td>169900.0</td><td>3</td><td>2</td><td>50105.0</td><td>1438343.0</td><td>Harlem</td><td>Georgia</td><td>30814</td><td>1351.0</td></tr><tr><td>61247.0</td><td>425000.0</td><td>4</td><td>3</td><td>12197.0</td><td>1066441.0</td><td>Loganville</td><td>Georgia</td><td>30052</td><td>2564.0</td></tr><tr><td>12600.0</td><td>470000.0</td><td>4</td><td>3</td><td>10454.0</td><td>1198117.0</td><td>Duluth</td><td>Georgia</td><td>30097</td><td>2496.0</td></tr><tr><td>18084.0</td><td>324990.0</td><td>4</td><td>3</td><td>14520.0</td><td>790965.0</td><td>Ellenwood</td><td>Georgia</td><td>30294</td><td>2253.0</td></tr><tr><td>24325.0</td><td>425000.0</td><td>3</td><td>3</td><td>13860.0</td><td>1047261.0</td><td>College Park</td><td>Georgia</td><td>30337</td><td>2088.0</td></tr><tr><td>67643.0</td><td>301000.0</td><td>3</td><td>3</td><td>10454.0</td><td>603729.0</td><td>Atlanta</td><td>Georgia</td><td>30349</td><td>1816.0</td></tr><tr><td>93149.0</td><td>289900.0</td><td>3</td><td>3</td><td>11045.0</td><td>1796481.0</td><td>Evans</td><td>Georgia</td><td>30809</td><td>1807.0</td></tr><tr><td>93149.0</td><td>728000.0</td><td>4</td><td>4</td><td>60140.0</td><td>1361975.0</td><td>Evans</td><td>Georgia</td><td>30809</td><td>3668.0</td></tr><tr><td>79629.0</td><td>164900.0</td><td>2</td><td>2</td><td>99999.0</td><td>1415305.0</td><td>Saint Petersburg</td><td>Florida</td><td>33709</td><td>1140.0</td></tr><tr><td>92980.0</td><td>379000.0</td><td>2</td><td>2</td><td>100000.0</td><td>1479717.0</td><td>Saint Petersburg</td><td>Florida</td><td>33715</td><td>1145.0</td></tr><tr><td>105811.0</td><td>220000.0</td><td>2</td><td>2</td><td>60075.0</td><td>1111786.0</td><td>Bradenton</td><td>Florida</td><td>34209</td><td>1008.0</td></tr><tr><td>89452.0</td><td>289000.0</td><td>3</td><td>2</td><td>100000.0</td><td>289581.0</td><td>Mount Sterling</td><td>Kentucky</td><td>40353</td><td>1794.0</td></tr><tr><td>78500.0</td><td>310000.0</td><td>4</td><td>3</td><td>11761.21</td><td>968936.0</td><td>Lexington</td><td>Kentucky</td><td>40511</td><td>2453.0</td></tr><tr><td>15973.0</td><td>15000.0</td><td>0</td><td>0</td><td>40155.0</td><td>610970.0</td><td>Owensboro</td><td>Kentucky</td><td>42303</td><td>0.0</td></tr><tr><td>16979.0</td><td>227500.0</td><td>3</td><td>2</td><td>11060.0</td><td>614401.0</td><td>Detroit Lakes</td><td>Minnesota</td><td>56501</td><td>1364.0</td></tr><tr><td>92822.0</td><td>1.3995E7</td><td>3</td><td>1</td><td>14565.0</td><td>1193759.0</td><td>Miles City</td><td>Montana</td><td>59301</td><td>0.0</td></tr><tr><td>39012.0</td><td>59500.0</td><td>3</td><td>1</td><td>15000.0</td><td>626208.0</td><td>Biggsville</td><td>Illinois</td><td>61418</td><td>1195.0</td></tr><tr><td>16699.0</td><td>199000.0</td><td>3</td><td>2</td><td>11238.0</td><td>339248.0</td><td>Washington</td><td>Missouri</td><td>63090</td><td>1008.0</td></tr><tr><td>4117.0</td><td>145000.0</td><td>2</td><td>2</td><td>15000.0</td><td>1352918.0</td><td>Iola</td><td>Kansas</td><td>66749</td><td>1640.0</td></tr><tr><td>108707.0</td><td>159900.0</td><td>3</td><td>2</td><td>16375.0</td><td>141628.0</td><td>Parsons</td><td>Kansas</td><td>67357</td><td>1808.0</td></tr><tr><td>75435.0</td><td>210000.0</td><td>4</td><td>2</td><td>13033.0</td><td>823323.0</td><td>Hebron</td><td>Nebraska</td><td>68370</td><td>1728.0</td></tr><tr><td>42755.0</td><td>2.75E7</td><td>0</td><td>0</td><td>15300.0</td><td>-1.0</td><td>Crookston</td><td>Nebraska</td><td>69212</td><td>0.0</td></tr><tr><td>33748.0</td><td>70000.0</td><td>0</td><td>0</td><td>22041.36</td><td>1271914.0</td><td>Bullard</td><td>Texas</td><td>75757</td><td>0.0</td></tr><tr><td>81949.0</td><td>6990000.0</td><td>0</td><td>0</td><td>23436.07</td><td>203643.0</td><td>Terlingua</td><td>Texas</td><td>79852</td><td>0.0</td></tr><tr><td>80328.0</td><td>598000.0</td><td>2</td><td>2</td><td>100000.0</td><td>1836217.0</td><td>Alhambra</td><td>California</td><td>91801</td><td>1110.0</td></tr><tr><td>22611.0</td><td>1020000.0</td><td>1</td><td>3</td><td>93248.0</td><td>65318.0</td><td>Los Angeles</td><td>California</td><td>90024</td><td>2182.0</td></tr><tr><td>100791.0</td><td>699000.0</td><td>3</td><td>3</td><td>29681.89</td><td>1794988.0</td><td>Northridge</td><td>California</td><td>91324</td><td>1300.0</td></tr><tr><td>22611.0</td><td>1550000.0</td><td>5</td><td>6</td><td>49658.0</td><td>173096.0</td><td>Santa Rosa</td><td>California</td><td>93012</td><td>3973.0</td></tr><tr><td>81849.0</td><td>625000.0</td><td>1</td><td>1</td><td>69317.0</td><td>1725958.0</td><td>Long Beach</td><td>California</td><td>90802</td><td>881.0</td></tr><tr><td>100724.0</td><td>683000.0</td><td>2</td><td>2</td><td>10560.02</td><td>1736715.0</td><td>Huntington Beach</td><td>California</td><td>92646</td><td>1056.0</td></tr><tr><td>81871.0</td><td>525000.0</td><td>2</td><td>3</td><td>47313.0</td><td>42116.0</td><td>Tujunga</td><td>California</td><td>91042</td><td>1409.0</td></tr><tr><td>16829.0</td><td>5895000.0</td><td>5</td><td>7</td><td>50314.0</td><td>1099908.0</td><td>Pasadena</td><td>California</td><td>91105</td><td>7339.0</td></tr><tr><td>81871.0</td><td>510000.0</td><td>3</td><td>3</td><td>17082.0</td><td>72815.0</td><td>Sunland</td><td>California</td><td>91040</td><td>1236.0</td></tr><tr><td>69480.0</td><td>2995000.0</td><td>0</td><td>0</td><td>22673.0</td><td>1556329.0</td><td>Sierra Madre</td><td>California</td><td>91024</td><td>5489.0</td></tr><tr><td>109978.0</td><td>349000.0</td><td>1</td><td>1</td><td>43140.0</td><td>122783.0</td><td>North Hollywood</td><td>California</td><td>91606</td><td>696.0</td></tr><tr><td>81187.0</td><td>1499900.0</td><td>4</td><td>2</td><td>59600.0</td><td>294532.0</td><td>Ontario</td><td>California</td><td>91762</td><td>2209.0</td></tr><tr><td>109978.0</td><td>545000.0</td><td>2</td><td>2</td><td>100000.0</td><td>683187.0</td><td>Chula Vista</td><td>California</td><td>91914</td><td>1061.0</td></tr><tr><td>22611.0</td><td>678000.0</td><td>3</td><td>2</td><td>100000.0</td><td>1802048.0</td><td>San Marcos</td><td>California</td><td>92078</td><td>1342.0</td></tr><tr><td>72531.0</td><td>590000.0</td><td>3</td><td>2</td><td>47797.0</td><td>1153470.0</td><td>Oceanside</td><td>California</td><td>92057</td><td>1346.0</td></tr><tr><td>92601.0</td><td>545000.0</td><td>2</td><td>2</td><td>25866.0</td><td>1225924.0</td><td>Oceanside</td><td>California</td><td>92056</td><td>1236.0</td></tr><tr><td>44690.0</td><td>374999.0</td><td>2</td><td>2</td><td>100000.0</td><td>606175.0</td><td>Vista</td><td>California</td><td>92081</td><td>1600.0</td></tr><tr><td>109978.0</td><td>355000.0</td><td>1</td><td>1</td><td>85442.0</td><td>714299.0</td><td>San Diego</td><td>California</td><td>92108</td><td>682.0</td></tr><tr><td>14956.0</td><td>439000.0</td><td>2</td><td>1</td><td>100000.0</td><td>1180888.0</td><td>San Diego</td><td>California</td><td>92111</td><td>920.0</td></tr><tr><td>53505.0</td><td>695900.0</td><td>5</td><td>4</td><td>12214.0</td><td>930880.0</td><td>San Diego</td><td>California</td><td>92105</td><td>1785.0</td></tr><tr><td>39226.0</td><td>1800000.0</td><td>3</td><td>2</td><td>23086.0</td><td>703040.0</td><td>Encinitas</td><td>California</td><td>92024</td><td>1652.0</td></tr><tr><td>53175.0</td><td>110000.0</td><td>3</td><td>2</td><td>100000.0</td><td>287316.0</td><td>El Cajon</td><td>California</td><td>92021</td><td>1680.0</td></tr><tr><td>22611.0</td><td>795000.0</td><td>4</td><td>3</td><td>47915.0</td><td>1538913.0</td><td>San Diego</td><td>California</td><td>92115</td><td>1872.0</td></tr><tr><td>86848.0</td><td>659000.0</td><td>2</td><td>2</td><td>38863.0</td><td>1363906.0</td><td>San Diego</td><td>California</td><td>92101</td><td>1112.0</td></tr><tr><td>83476.0</td><td>459900.0</td><td>3</td><td>2</td><td>12294.0</td><td>954547.0</td><td>Lake Havasu City</td><td>Arizona</td><td>86406</td><td>1589.0</td></tr><tr><td>16675.0</td><td>389000.0</td><td>4</td><td>2</td><td>49312.0</td><td>1738082.0</td><td>Phelan</td><td>California</td><td>92371</td><td>1914.0</td></tr><tr><td>18750.0</td><td>699999.0</td><td>5</td><td>3</td><td>91040.0</td><td>908567.0</td><td>Menifee</td><td>California</td><td>92585</td><td>3076.0</td></tr><tr><td>15623.0</td><td>975000.0</td><td>5</td><td>4</td><td>20003.0</td><td>364211.0</td><td>Santa Paula</td><td>California</td><td>93060</td><td>3407.0</td></tr><tr><td>99588.0</td><td>685000.0</td><td>12</td><td>8</td><td>10454.0</td><td>1035173.0</td><td>Bakersfield</td><td>California</td><td>93313</td><td>4597.0</td></tr><tr><td>53081.0</td><td>399000.0</td><td>3</td><td>2</td><td>39077.0</td><td>1250202.0</td><td>Quartz Hill</td><td>California</td><td>93536</td><td>1239.0</td></tr><tr><td>65227.0</td><td>589000.0</td><td>0</td><td>0</td><td>14733.0</td><td>669875.0</td><td>Tehachapi</td><td>California</td><td>93561</td><td>3360.0</td></tr><tr><td>65337.0</td><td>138000.0</td><td>0</td><td>0</td><td>43996.0</td><td>547688.0</td><td>Grass Valley</td><td>California</td><td>95949</td><td>0.0</td></tr><tr><td>18836.0</td><td>1.555E7</td><td>2</td><td>1</td><td>28274.29</td><td>1227775.0</td><td>Ashwood</td><td>Oregon</td><td>97711</td><td>2330.0</td></tr></tbody></table></div>"
      ]
     },
     "metadata": {
      "application/vnd.databricks.v1+output": {
       "addedWidgets": {},
       "aggData": [],
       "aggError": "",
       "aggOverflow": false,
       "aggSchema": [],
       "aggSeriesLimitReached": false,
       "aggType": "",
       "arguments": {},
       "columnCustomDisplayInfos": {},
       "data": [
        [
         88715.0,
         585000.0,
         4,
         4,
         100000.0,
         1930360.0,
         "San Juan",
         "Puerto Rico",
         926,
         3300.0
        ],
        [
         10554.0,
         150000.0,
         0,
         0,
         99999.0,
         595393.0,
         "Simsbury",
         "Connecticut",
         6070,
         0.0
        ],
        [
         10560.0,
         5700000.0,
         0,
         0,
         99999.0,
         1106245.0,
         "Middletown",
         "Connecticut",
         6457,
         99999.0
        ],
        [
         76006.0,
         250000.0,
         3,
         3,
         18817.0,
         1670131.0,
         "Narragansett",
         "Rhode Island",
         2882,
         1532.0
        ],
        [
         42180.0,
         319000.0,
         3,
         1,
         13697.0,
         1407338.0,
         "Portland",
         "Maine",
         4108,
         992.0
        ],
        [
         82261.0,
         129000.0,
         2,
         1,
         100000.0,
         598202.0,
         "Whitehall",
         "New York",
         12887,
         1352.0
        ],
        [
         91618.0,
         264900.0,
         3,
         2,
         99999.0,
         1137811.0,
         "Montville",
         "Connecticut",
         6353,
         1485.0
        ],
        [
         67217.0,
         520000.0,
         0,
         0,
         49299.44,
         677424.0,
         "Newark",
         "New Jersey",
         7112,
         0.0
        ],
        [
         80298.0,
         399000.0,
         3,
         2,
         58100.0,
         1001569.0,
         "Kearny",
         "New Jersey",
         7032,
         0.0
        ],
        [
         67217.0,
         485000.0,
         4,
         3,
         100000.0,
         1081800.0,
         "Scotch Plains",
         "New Jersey",
         7076,
         0.0
        ],
        [
         81181.0,
         679000.0,
         4,
         4,
         12800.0,
         11636.0,
         "Sayreville",
         "New Jersey",
         8872,
         0.0
        ],
        [
         105748.0,
         449000.0,
         4,
         3,
         36914.83,
         269480.0,
         "Woodbridge Proper",
         "New Jersey",
         7095,
         0.0
        ],
        [
         22611.0,
         379900.0,
         3,
         3,
         11236.0,
         1760281.0,
         "South Brunswick",
         "New Jersey",
         8824,
         2263.0
        ],
        [
         52665.0,
         515000.0,
         4,
         3,
         18602.89,
         763663.0,
         "Raritan",
         "New Jersey",
         8822,
         2184.0
        ],
        [
         30807.0,
         285000.0,
         2,
         2,
         96120.0,
         481042.0,
         "Whiting",
         "New Jersey",
         8759,
         1219.0
        ],
        [
         106711.0,
         54900.0,
         0,
         0,
         27610.0,
         713728.0,
         "Franklin Twp",
         "New Jersey",
         7882,
         0.0
        ],
        [
         33781.0,
         99900.0,
         6,
         3,
         47130.0,
         1330803.0,
         "Troy",
         "New York",
         12180,
         2788.0
        ],
        [
         94424.0,
         143500.0,
         3,
         2,
         30100.0,
         997193.0,
         "Troy",
         "New York",
         12180,
         2024.0
        ],
        [
         70353.0,
         299900.0,
         6,
         3,
         44170.0,
         495096.0,
         "Schenectady",
         "New York",
         12304,
         2421.0
        ],
        [
         80016.0,
         99900.0,
         6,
         2,
         84140.0,
         301476.0,
         "Schenectady",
         "New York",
         12308,
         2818.0
        ],
        [
         22552.0,
         189900.0,
         3,
         2,
         75119.0,
         418106.0,
         "Schenectady",
         "New York",
         12308,
         1644.0
        ],
        [
         89945.0,
         143500.0,
         5,
         2,
         32100.0,
         1682705.0,
         "Schenectady",
         "New York",
         12307,
         2220.0
        ],
        [
         38445.0,
         179900.0,
         3,
         1,
         51101.0,
         1653337.0,
         "Schenectady",
         "New York",
         12304,
         984.0
        ],
        [
         38445.0,
         179000.0,
         4,
         2,
         31124.0,
         413761.0,
         "Schenectady",
         "New York",
         12308,
         1800.0
        ],
        [
         30849.0,
         30000.0,
         0,
         2,
         36100.0,
         50669.0,
         "Schenectady",
         "New York",
         12303,
         2256.0
        ],
        [
         30849.0,
         44999.0,
         4,
         2,
         30120.0,
         1577788.0,
         "Schenectady",
         "New York",
         12308,
         1626.0
        ],
        [
         80016.0,
         124900.0,
         6,
         2,
         33118.0,
         1324109.0,
         "Schenectady",
         "New York",
         12307,
         1840.0
        ],
        [
         29476.0,
         289000.0,
         4,
         3,
         10244.0,
         701658.0,
         "Schenectady",
         "New York",
         12306,
         2760.0
        ],
        [
         43196.0,
         139900.0,
         4,
         2,
         36125.0,
         129247.0,
         "Schenectady",
         "New York",
         12308,
         1708.0
        ],
        [
         11538.0,
         249999.0,
         5,
         2,
         10019.0,
         248834.0,
         "Waterford",
         "New York",
         12188,
         2927.0
        ],
        [
         10368.0,
         249900.0,
         6,
         2,
         60100.0,
         1025616.0,
         "Albany",
         "New York",
         12209,
         2634.0
        ],
        [
         40690.0,
         160000.0,
         3,
         2,
         100000.0,
         437002.0,
         "Bethlehem",
         "New York",
         12158,
         1396.0
        ],
        [
         100256.0,
         245500.0,
         3,
         2,
         54136.0,
         8188.0,
         "Albany",
         "New York",
         12208,
         1250.0
        ],
        [
         38575.0,
         149000.0,
         6,
         2,
         25122.0,
         1540166.0,
         "Albany",
         "New York",
         12202,
         1960.0
        ],
        [
         33781.0,
         285000.0,
         3,
         3,
         33100.0,
         409161.0,
         "Rensselaer",
         "New York",
         12144,
         2940.0
        ],
        [
         81604.0,
         144900.0,
         4,
         2,
         25100.0,
         1169913.0,
         "Albany",
         "New York",
         12209,
         1200.0
        ],
        [
         33781.0,
         99000.0,
         7,
         2,
         50198.0,
         532292.0,
         "Albany",
         "New York",
         12210,
         2200.0
        ],
        [
         22552.0,
         239900.0,
         3,
         2,
         80100.0,
         1867004.0,
         "Fultonville",
         "New York",
         12072,
         1360.0
        ],
        [
         104218.0,
         120000.0,
         5,
         2,
         40100.0,
         1259626.0,
         "Glens Falls",
         "New York",
         12801,
         1923.0
        ],
        [
         45690.0,
         344900.0,
         4,
         4,
         86139.0,
         1229395.0,
         "Glens Falls",
         "New York",
         12801,
         2993.0
        ],
        [
         104218.0,
         695000.0,
         3,
         3,
         37113.0,
         1449230.0,
         "Kingsbury",
         "New York",
         12839,
         1700.0
        ],
        [
         45690.0,
         198000.0,
         3,
         2,
         10592.0,
         668996.0,
         "Queensbury",
         "New York",
         12804,
         1970.0
        ],
        [
         41570.0,
         134500.0,
         0,
         0,
         91178.0,
         430623.0,
         "Fairchance",
         "Pennsylvania",
         15436,
         0.0
        ],
        [
         96651.0,
         107000.0,
         2,
         2,
         99999.0,
         1725022.0,
         "Indiana",
         "Pennsylvania",
         15701,
         1120.0
        ],
        [
         57145.0,
         185000.0,
         3,
         2,
         21780.0,
         1404366.0,
         "Glen Burnie",
         "Maryland",
         21061,
         1248.0
        ],
        [
         72236.0,
         499900.0,
         3,
         3,
         29678.0,
         478554.0,
         "Macon",
         "North Carolina",
         27551,
         2751.0
        ],
        [
         30276.0,
         364000.0,
         3,
         1,
         100000.0,
         395675.0,
         "Sanford",
         "North Carolina",
         27330,
         1250.0
        ],
        [
         78432.0,
         150000.0,
         0,
         0,
         54037.0,
         48801.0,
         "Goldsboro",
         "North Carolina",
         27534,
         0.0
        ],
        [
         34859.0,
         15000.0,
         0,
         0,
         20000.0,
         1944268.0,
         "Mount Olive",
         "North Carolina",
         28365,
         0.0
        ],
        [
         109987.0,
         131900.0,
         3,
         2,
         12197.0,
         499902.0,
         "Fayetteville",
         "North Carolina",
         28304,
         1150.0
        ],
        [
         100264.0,
         225000.0,
         4,
         3,
         14810.0,
         425610.0,
         "Fayetteville",
         "North Carolina",
         28303,
         2100.0
        ],
        [
         26450.0,
         205000.0,
         3,
         3,
         16553.0,
         1358029.0,
         "Fayetteville",
         "North Carolina",
         28306,
         1850.0
        ],
        [
         85647.0,
         7500.0,
         0,
         0,
         32485.65,
         1972435.0,
         "Tabor City",
         "North Carolina",
         28463,
         0.0
        ],
        [
         106351.0,
         1100000.0,
         2,
         2,
         29984.6,
         98775.0,
         "Carolina Beach",
         "North Carolina",
         28428,
         1300.0
        ],
        [
         15839.0,
         259900.0,
         3,
         2,
         100000.0,
         816353.0,
         "Martinez",
         "Georgia",
         30907,
         1974.0
        ],
        [
         17187.0,
         85000.0,
         0,
         0,
         90150.0,
         1710326.0,
         "Evans",
         "Georgia",
         30809,
         0.0
        ],
        [
         45189.0,
         275000.0,
         4,
         3,
         85150.0,
         991348.0,
         "Martinez",
         "Georgia",
         30907,
         1992.0
        ],
        [
         39463.0,
         318880.0,
         4,
         3,
         80135.0,
         1155912.0,
         "Martinez",
         "Georgia",
         30907,
         2364.0
        ],
        [
         51513.0,
         234900.0,
         4,
         2,
         10075.0,
         616594.0,
         "Grovetown",
         "Georgia",
         30813,
         2283.0
        ],
        [
         64006.0,
         289999.0,
         5,
         3,
         75100.0,
         1492920.0,
         "Grovetown",
         "Georgia",
         30813,
         2542.0
        ],
        [
         64008.0,
         364900.0,
         4,
         3,
         100000.0,
         1207934.0,
         "Martinez",
         "Georgia",
         30907,
         2898.0
        ],
        [
         64006.0,
         449000.0,
         4,
         3,
         100000.0,
         1101867.0,
         "Martinez",
         "Georgia",
         30907,
         3100.0
        ],
        [
         64006.0,
         165000.0,
         3,
         2,
         100000.0,
         880841.0,
         "Hephzibah",
         "Georgia",
         30815,
         1664.0
        ],
        [
         39463.0,
         270000.0,
         4,
         3,
         80150.0,
         1253503.0,
         "Augusta",
         "Georgia",
         30909,
         2000.0
        ],
        [
         105021.0,
         575000.0,
         5,
         3,
         21087.0,
         1270462.0,
         "Lilburn",
         "Georgia",
         30047,
         2950.0
        ],
        [
         90493.0,
         375000.0,
         3,
         3,
         17424.0,
         13647.0,
         "Covington",
         "Georgia",
         30014,
         2711.0
        ],
        [
         106242.0,
         574900.0,
         6,
         5,
         10890.0,
         1098928.0,
         "Loganville",
         "Georgia",
         30052,
         5592.0
        ],
        [
         80816.0,
         475000.0,
         3,
         3,
         13608.0,
         1012950.0,
         "Atlanta",
         "Georgia",
         30315,
         1680.0
        ],
        [
         19747.0,
         677172.0,
         5,
         4,
         14500.0,
         1280182.0,
         "Canton",
         "Georgia",
         30115,
         0.0
        ],
        [
         51528.0,
         795000.0,
         4,
         4,
         100000.0,
         1622244.0,
         "Canton",
         "Georgia",
         30114,
         0.0
        ],
        [
         109855.0,
         19900.0,
         0,
         0,
         17424.0,
         655067.0,
         "Mableton",
         "Georgia",
         30126,
         0.0
        ],
        [
         52535.0,
         245000.0,
         3,
         2,
         18905.0,
         1430062.0,
         "Union City",
         "Georgia",
         30291,
         1336.0
        ],
        [
         13420.0,
         319900.0,
         4,
         3,
         43560.0,
         1264503.0,
         "Ellenwood",
         "Georgia",
         30294,
         3079.0
        ],
        [
         59568.0,
         220000.0,
         4,
         2,
         15682.0,
         1524266.0,
         "Atlanta",
         "Georgia",
         30349,
         0.0
        ],
        [
         53085.0,
         299000.0,
         3,
         2,
         35719.0,
         826415.0,
         "East Point",
         "Georgia",
         30344,
         1807.0
        ],
        [
         2406.0,
         389000.0,
         3,
         2,
         47916.0,
         477660.0,
         "Atlanta",
         "Georgia",
         30316,
         0.0
        ],
        [
         62715.0,
         334900.0,
         3,
         2,
         22690.0,
         30452.0,
         "Marietta",
         "Georgia",
         30008,
         1758.0
        ],
        [
         53282.0,
         330000.0,
         5,
         3,
         14726.0,
         1074064.0,
         "Douglasville",
         "Georgia",
         30135,
         2199.0
        ],
        [
         51528.0,
         169000.0,
         2,
         1,
         44867.0,
         954312.0,
         "Gainesville",
         "Georgia",
         30501,
         0.0
        ],
        [
         33717.0,
         580000.0,
         5,
         4,
         35284.0,
         791075.0,
         "Hoschton",
         "Georgia",
         30548,
         3100.0
        ],
        [
         51834.0,
         359000.0,
         4,
         1,
         16164.0,
         824483.0,
         "Rutledge",
         "Georgia",
         30663,
         1920.0
        ],
        [
         72865.0,
         399283.0,
         4,
         3,
         38353.0,
         281714.0,
         "Winder",
         "Georgia",
         30680,
         2417.0
        ],
        [
         39959.0,
         120000.0,
         0,
         0,
         27180.0,
         1962728.0,
         "unknown",
         "Florida",
         32025,
         0.0
        ],
        [
         42327.0,
         1300000.0,
         0,
         0,
         64324.0,
         336995.0,
         "Daytona Beach",
         "Florida",
         32118,
         0.0
        ],
        [
         105483.0,
         225000.0,
         3,
         2,
         11670.0,
         594362.0,
         "Orlando",
         "Florida",
         32812,
         1192.0
        ],
        [
         15345.0,
         1995000.0,
         3,
         3,
         100000.0,
         34558.0,
         "Islamorada",
         "Florida",
         33036,
         2026.0
        ],
        [
         9492.0,
         6500000.0,
         4,
         6,
         21425.0,
         870065.0,
         "Key Largo",
         "Florida",
         33037,
         5431.0
        ],
        [
         54226.0,
         50000.0,
         0,
         0,
         54450.0,
         -1.0,
         "Clewiston",
         "Florida",
         33440,
         0.0
        ],
        [
         79629.0,
         159900.0,
         2,
         2,
         99999.0,
         1424836.0,
         "Saint Petersburg",
         "Florida",
         33709,
         1140.0
        ],
        [
         21736.0,
         660000.0,
         2,
         2,
         36422.0,
         1611190.0,
         "South Pasadena",
         "Florida",
         33707,
         1375.0
        ],
        [
         79629.0,
         139900.0,
         1,
         1,
         99999.0,
         1415306.0,
         "Saint Petersburg",
         "Florida",
         33709,
         1055.0
        ],
        [
         82846.0,
         184600.0,
         2,
         1,
         100000.0,
         162797.0,
         "Saint Petersburg",
         "Florida",
         33716,
         885.0
        ],
        [
         79629.0,
         262000.0,
         2,
         2,
         100000.0,
         1419752.0,
         "Saint Petersburg",
         "Florida",
         33709,
         1245.0
        ],
        [
         84543.0,
         160000.0,
         2,
         2,
         100000.0,
         319800.0,
         "Seminole",
         "Florida",
         33776,
         865.0
        ],
        [
         38825.0,
         160000.0,
         0,
         0,
         16205.0,
         448604.0,
         "unknown",
         "Florida",
         33981,
         0.0
        ],
        [
         105203.0,
         99000.0,
         0,
         0,
         10250.0,
         1007252.0,
         "unknown",
         "Florida",
         33852,
         0.0
        ],
        [
         55306.0,
         59900.0,
         0,
         0,
         10629.0,
         156193.0,
         "Cape Coral",
         "Florida",
         33993,
         0.0
        ],
        [
         89551.0,
         150000.0,
         2,
         1,
         23031.0,
         1061976.0,
         "Bradenton",
         "Florida",
         34205,
         1040.0
        ],
        [
         22611.0,
         289900.0,
         3,
         2,
         100000.0,
         1558561.0,
         "Bradenton",
         "Florida",
         34203,
         1352.0
        ],
        [
         30456.0,
         215000.0,
         2,
         2,
         10862.0,
         1238948.0,
         "Sarasota",
         "Florida",
         34231,
         835.0
        ],
        [
         89572.0,
         4500000.0,
         3,
         3,
         94457.0,
         708472.0,
         "Sarasota",
         "Florida",
         34242,
         2970.0
        ],
        [
         88619.0,
         2550000.0,
         2,
         3,
         10899.0,
         1384496.0,
         "Sarasota",
         "Florida",
         34242,
         1437.0
        ],
        [
         105811.0,
         220000.0,
         2,
         2,
         60075.0,
         1111786.0,
         "Bradenton",
         "Florida",
         34209,
         1008.0
        ],
        [
         27587.0,
         449000.0,
         3,
         2,
         100000.0,
         472465.0,
         "Sarasota",
         "Florida",
         34231,
         1283.0
        ],
        [
         94044.0,
         29995.0,
         0,
         0,
         23541.0,
         1959054.0,
         "Ocala",
         "Florida",
         34473,
         0.0
        ],
        [
         14531.0,
         269900.0,
         8,
         5,
         13504.0,
         642781.0,
         "Talladega",
         "Alabama",
         35160,
         6668.0
        ],
        [
         86312.0,
         105000.0,
         0,
         0,
         12059.0,
         1895432.0,
         "Tuscumbia",
         "Alabama",
         35674,
         0.0
        ],
        [
         56393.0,
         29900.0,
         0,
         0,
         32670.0,
         1296962.0,
         "Holladay",
         "Tennessee",
         38341,
         0.0
        ],
        [
         107767.0,
         127000.0,
         3,
         2,
         10399.0,
         343191.0,
         "Corinth",
         "Mississippi",
         38834,
         1356.0
        ],
        [
         40740.0,
         60000.0,
         0,
         0,
         100000.0,
         825988.0,
         "Pascagoula",
         "Mississippi",
         39567,
         0.0
        ],
        [
         62953.0,
         269900.0,
         3,
         2,
         100000.0,
         700856.0,
         "Starkville",
         "Mississippi",
         39759,
         1771.0
        ],
        [
         103694.0,
         403325.0,
         4,
         4,
         12214.0,
         1007464.0,
         "Shelbyville",
         "Kentucky",
         40065,
         2456.0
        ],
        [
         106062.0,
         1750000.0,
         4,
         5,
         79279.27,
         838037.0,
         "Lexington",
         "Kentucky",
         40502,
         5200.0
        ],
        [
         32650.0,
         167500.0,
         2,
         1,
         11934.0,
         406298.0,
         "Hamilton",
         "Ohio",
         45013,
         1136.0
        ],
        [
         22611.0,
         389900.0,
         3,
         3,
         12371.0,
         225625.0,
         "Wyoming",
         "Ohio",
         45215,
         1594.0
        ],
        [
         807.0,
         205000.0,
         6,
         4,
         12197.0,
         681325.0,
         "Howard City",
         "Michigan",
         49329,
         2280.0
        ],
        [
         35524.0,
         265000.0,
         0,
         0,
         21210.0,
         1693594.0,
         "Norton Shores",
         "Michigan",
         49456,
         0.0
        ],
        [
         44760.0,
         159500.0,
         2,
         3,
         10530.0,
         120239.0,
         "Manchester",
         "Iowa",
         52057,
         1200.0
        ],
        [
         79072.0,
         40000.0,
         0,
         0,
         19240.0,
         396.0,
         "Breda",
         "Iowa",
         51436,
         0.0
        ],
        [
         81710.0,
         375000.0,
         4,
         3,
         10735.0,
         49486.0,
         "Papillion",
         "Nebraska",
         68046,
         2436.0
        ],
        [
         85485.0,
         184900.0,
         3,
         2,
         22956.84,
         1078642.0,
         "Island Lake",
         "Illinois",
         60042,
         1500.0
        ],
        [
         58476.0,
         237900.0,
         3,
         3,
         17300.56,
         888963.0,
         "Wauconda",
         "Illinois",
         60084,
         1838.0
        ],
        [
         31348.0,
         360000.0,
         2,
         1,
         10800.0,
         1616193.0,
         "Brooklyn Park",
         "Minnesota",
         55443,
         1957.0
        ],
        [
         42755.0,
         2.75E7,
         0,
         0,
         15300.0,
         -1.0,
         "Crookston",
         "Nebraska",
         69212,
         0.0
        ],
        [
         34720.0,
         1.3325E7,
         0,
         0,
         11698.0,
         510696.0,
         "Belle Fourche",
         "South Dakota",
         57717,
         0.0
        ],
        [
         92822.0,
         1.3995E7,
         3,
         1,
         14565.0,
         1193759.0,
         "Miles City",
         "Montana",
         59301,
         0.0
        ],
        [
         77505.0,
         6350000.0,
         4,
         3,
         10361.0,
         767080.0,
         "Billings",
         "Montana",
         59015,
         3337.0
        ],
        [
         32298.0,
         2588000.0,
         0,
         0,
         12852.0,
         294185.0,
         "Gallatin Gateway",
         "Montana",
         59730,
         0.0
        ],
        [
         16132.0,
         7495000.0,
         4,
         1,
         11074.0,
         1665257.0,
         "Miles City",
         "Montana",
         59301,
         1650.0
        ],
        [
         10532.0,
         1.745E7,
         6,
         4,
         25876.0,
         1189373.0,
         "Big Sandy",
         "Montana",
         59520,
         2496.0
        ],
        [
         8161.0,
         1.745E7,
         6,
         4,
         18134.0,
         1213496.0,
         "Big Sandy",
         "Montana",
         59520,
         4000.0
        ],
        [
         34715.0,
         2.475E7,
         6,
         4,
         11100.0,
         1933010.0,
         "Avon",
         "Montana",
         59713,
         0.0
        ],
        [
         10537.0,
         325000.0,
         3,
         1,
         10184.0,
         972139.0,
         "Stevensville",
         "Montana",
         59870,
         1392.0
        ],
        [
         58476.0,
         240000.0,
         3,
         2,
         57736.97,
         1514592.0,
         "Matteson",
         "Illinois",
         60443,
         1668.0
        ],
        [
         20029.0,
         430000.0,
         3,
         3,
         98135.0,
         877824.0,
         "Joplin",
         "Missouri",
         64801,
         2054.0
        ],
        [
         69082.0,
         99900.0,
         3,
         2,
         100000.0,
         1208865.0,
         "Carl Junction",
         "Missouri",
         64834,
         1124.0
        ],
        [
         69082.0,
         359900.0,
         4,
         3,
         90124.0,
         658093.0,
         "Joplin",
         "Missouri",
         64801,
         2589.0
        ],
        [
         92727.0,
         65000.0,
         3,
         2,
         50120.0,
         612951.0,
         "Miami",
         "Oklahoma",
         74354,
         1288.0
        ],
        [
         4117.0,
         139500.0,
         3,
         2,
         10625.0,
         625539.0,
         "Gas",
         "Kansas",
         66742,
         1200.0
        ],
        [
         89110.0,
         228900.0,
         3,
         2,
         11248.0,
         1342782.0,
         "Solomon",
         "Kansas",
         67480,
         1526.0
        ],
        [
         42755.0,
         4.5E7,
         7,
         7,
         45039.0,
         791672.0,
         "Campo",
         "Colorado",
         81029,
         7000.0
        ],
        [
         44370.0,
         57000.0,
         0,
         0,
         15233.0,
         1905210.0,
         "Kearney",
         "Nebraska",
         68847,
         0.0
        ],
        [
         22350.0,
         90000.0,
         0,
         0,
         12184.0,
         705627.0,
         "Lake Charles",
         "Louisiana",
         -1,
         0.0
        ],
        [
         34131.0,
         129000.0,
         3,
         2,
         23940.0,
         360092.0,
         "Moss Bluff",
         "Louisiana",
         70611,
         1680.0
        ],
        [
         22350.0,
         449000.0,
         3,
         2,
         100000.0,
         581638.0,
         "Sulphur",
         "Louisiana",
         70665,
         1977.0
        ],
        [
         58539.0,
         8900.0,
         0,
         0,
         75150.0,
         1935953.0,
         "Clarksville",
         "Arkansas",
         72830,
         0.0
        ],
        [
         11802.0,
         35000.0,
         0,
         0,
         100000.0,
         1943332.0,
         "Afton",
         "Oklahoma",
         74331,
         0.0
        ],
        [
         63088.0,
         159000.0,
         0,
         0,
         20913.0,
         1907566.0,
         "Langley",
         "Oklahoma",
         74350,
         0.0
        ],
        [
         97887.0,
         2.6785E7,
         3,
         4,
         11671.0,
         1177082.0,
         "Sonora",
         "Texas",
         76950,
         6315.0
        ],
        [
         97887.0,
         2.6785E7,
         0,
         0,
         11671.0,
         1177081.0,
         "Sonora",
         "Texas",
         76950,
         6315.0
        ],
        [
         97887.0,
         2.6785E7,
         3,
         4,
         11671.0,
         1177083.0,
         "Sonora",
         "Texas",
         76950,
         0.0
        ],
        [
         97887.0,
         2.6785E7,
         0,
         0,
         11671.0,
         1177082.0,
         "Sonora",
         "Texas",
         76950,
         0.0
        ],
        [
         36763.0,
         8150000.0,
         0,
         0,
         13812.0,
         1955423.0,
         "Ozona",
         "Texas",
         76943,
         0.0
        ],
        [
         11668.0,
         0.0,
         0,
         0,
         10686.0,
         91378.0,
         "Bay City",
         "Texas",
         77414,
         0.0
        ],
        [
         76453.0,
         55000.0,
         3,
         1,
         16200.0,
         1494811.0,
         "Robstown",
         "Texas",
         78380,
         660.0
        ],
        [
         102851.0,
         337900.0,
         4,
         2,
         24306.48,
         614266.0,
         "Orange Grove",
         "Texas",
         78372,
         2076.0
        ],
        [
         69112.0,
         799000.0,
         0,
         0,
         76652.0,
         1882242.0,
         "Brownsville",
         "Texas",
         78526,
         0.0
        ],
        [
         53016.0,
         7271875.0,
         3,
         2,
         22375.0,
         1947107.0,
         "Del Rio",
         "Texas",
         78871,
         1000.0
        ],
        [
         78793.0,
         45000.0,
         0,
         0,
         13000.0,
         204165.0,
         "Lubbock",
         "Texas",
         79401,
         0.0
        ],
        [
         74748.0,
         149900.0,
         0,
         0,
         16442.0,
         313039.0,
         "Odessa",
         "Texas",
         79765,
         0.0
        ],
        [
         74748.0,
         149900.0,
         0,
         0,
         15307.0,
         237247.0,
         "Odessa",
         "Texas",
         79765,
         0.0
        ],
        [
         81949.0,
         6990000.0,
         0,
         0,
         23436.07,
         203643.0,
         "Terlingua",
         "Texas",
         79852,
         0.0
        ],
        [
         44642.0,
         420000.0,
         3,
         2,
         13485.0,
         397736.0,
         "Denver",
         "Colorado",
         80239,
         1703.0
        ],
        [
         67924.0,
         1.445E7,
         7,
         9,
         13521.0,
         1598457.0,
         "Breckenridge",
         "Colorado",
         80424,
         6221.0
        ],
        [
         23829.0,
         2.65E7,
         0,
         0,
         100000.0,
         741741.0,
         "Hartsel",
         "Colorado",
         80449,
         0.0
        ],
        [
         42755.0,
         1.54785E7,
         0,
         0,
         12459.0,
         555251.0,
         "Akron",
         "Colorado",
         80720,
         0.0
        ],
        [
         42755.0,
         7800000.0,
         9,
         6,
         10681.0,
         504412.0,
         "Ramah",
         "Colorado",
         80832,
         6968.0
        ],
        [
         42755.0,
         1.39E7,
         3,
         3,
         22450.0,
         779211.0,
         "Craig",
         "Colorado",
         81625,
         2700.0
        ],
        [
         88721.0,
         5750000.0,
         3,
         2,
         14486.0,
         1376429.0,
         "Natrona",
         "Wyoming",
         82646,
         0.0
        ],
        [
         73855.0,
         2.0E7,
         3,
         1,
         100000.0,
         1031630.0,
         "Boulder",
         "Wyoming",
         82923,
         0.0
        ],
        [
         95207.0,
         1.79E7,
         0,
         0,
         40820.0,
         1648547.0,
         "Grouse Creek",
         "Utah",
         84313,
         0.0
        ],
        [
         107244.0,
         779900.0,
         4,
         3,
         90522.0,
         880961.0,
         "Queen Creek",
         "Arizona",
         85143,
         3025.0
        ],
        [
         55597.0,
         299900.0,
         2,
         2,
         87120.0,
         533839.0,
         "Blythe",
         "California",
         92225,
         1560.0
        ],
        [
         63716.0,
         526820.0,
         5,
         3,
         17220.16,
         1295796.0,
         "Goodyear",
         "Arizona",
         85395,
         2528.0
        ],
        [
         103127.0,
         2800000.0,
         0,
         0,
         23092.0,
         1988381.0,
         "Virden",
         "New Mexico",
         88045,
         0.0
        ],
        [
         14500.0,
         3750000.0,
         5,
         4,
         19925.0,
         34259.0,
         "Elgin",
         "Arizona",
         85611,
         4636.0
        ],
        [
         59597.0,
         170000.0,
         5,
         2,
         41382.0,
         100141.0,
         "Nogales",
         "Arizona",
         85621,
         2088.0
        ],
        [
         88127.0,
         2500000.0,
         5,
         2,
         18680.0,
         1283068.0,
         "Snowflake",
         "Arizona",
         85937,
         2100.0
        ],
        [
         59143.0,
         1.6E7,
         0,
         0,
         41535.0,
         1544829.0,
         "Holbrook",
         "Arizona",
         86025,
         0.0
        ],
        [
         42755.0,
         3990000.0,
         3,
         2,
         10025.0,
         437811.0,
         "Grants",
         "New Mexico",
         87020,
         2000.0
        ],
        [
         42755.0,
         3990000.0,
         7,
         5,
         35081.0,
         1166411.0,
         "Grants",
         "New Mexico",
         87020,
         0.0
        ],
        [
         92912.0,
         1.7E7,
         0,
         0,
         11140.0,
         704630.0,
         "Stanley",
         "New Mexico",
         87056,
         0.0
        ],
        [
         43654.0,
         2.1248E7,
         0,
         0,
         12532.0,
         1917492.0,
         "Los Lunas",
         "New Mexico",
         87031,
         0.0
        ],
        [
         42755.0,
         5942000.0,
         5,
         4,
         14640.0,
         1110393.0,
         "Quemado",
         "New Mexico",
         87829,
         0.0
        ],
        [
         69268.0,
         2600000.0,
         0,
         0,
         29098.0,
         467127.0,
         "Truth or Consequences",
         "New Mexico",
         87901,
         0.0
        ],
        [
         33948.0,
         7500000.0,
         0,
         0,
         28059.0,
         1271193.0,
         "Fort Sumner",
         "New Mexico",
         88119,
         0.0
        ],
        [
         102686.0,
         4500000.0,
         0,
         0,
         72670.0,
         64609.0,
         "Carlsbad",
         "New Mexico",
         88220,
         0.0
        ],
        [
         80328.0,
         598000.0,
         2,
         2,
         100000.0,
         1836217.0,
         "Alhambra",
         "California",
         91801,
         1110.0
        ],
        [
         29791.0,
         465000.0,
         2,
         2,
         100000.0,
         1727752.0,
         "Paramount",
         "California",
         90723,
         1193.0
        ],
        [
         83394.0,
         377777.0,
         1,
         1,
         43560.0,
         1144131.0,
         "Fullerton",
         "California",
         92831,
         677.0
        ],
        [
         82595.0,
         625000.0,
         1,
         1,
         69317.0,
         1725958.0,
         "Long Beach",
         "California",
         90802,
         881.0
        ],
        [
         100791.0,
         699000.0,
         3,
         3,
         29681.89,
         1794988.0,
         "Northridge",
         "California",
         91324,
         1300.0
        ],
        [
         36741.0,
         649000.0,
         1,
         1,
         22956.84,
         1487846.0,
         "Redondo Beach",
         "California",
         90277,
         619.0
        ],
        [
         51923.0,
         69000.0,
         0,
         0,
         100000.0,
         1629496.0,
         "Lancaster",
         "California",
         93536,
         0.0
        ],
        [
         81187.0,
         1499900.0,
         4,
         2,
         59600.0,
         294532.0,
         "Ontario",
         "California",
         91762,
         2209.0
        ],
        [
         82455.0,
         200000.0,
         0,
         0,
         100000.0,
         595102.0,
         "Jamul",
         "California",
         91935,
         0.0
        ],
        [
         44690.0,
         1189000.0,
         3,
         3,
         38083.0,
         928294.0,
         "Oceanside",
         "California",
         92054,
         1909.0
        ],
        [
         22611.0,
         678000.0,
         3,
         2,
         100000.0,
         1802048.0,
         "San Marcos",
         "California",
         92078,
         1342.0
        ],
        [
         53016.0,
         679000.0,
         2,
         3,
         100000.0,
         1445377.0,
         "San Diego",
         "California",
         92110,
         1160.0
        ],
        [
         16675.0,
         389000.0,
         4,
         2,
         49312.0,
         1738082.0,
         "Phelan",
         "California",
         92371,
         1914.0
        ],
        [
         97358.0,
         650000.0,
         3,
         2,
         95832.0,
         707110.0,
         "Moreno Valley",
         "California",
         92557,
         100.0
        ],
        [
         36748.0,
         529999.0,
         4,
         4,
         100000.0,
         1474785.0,
         "Anza",
         "California",
         92539,
         3429.0
        ],
        [
         81355.0,
         230000.0,
         2,
         2,
         100000.0,
         662048.0,
         "Oxnard",
         "California",
         93033,
         1248.0
        ],
        [
         15623.0,
         1100000.0,
         5,
         4,
         20003.0,
         380376.0,
         "Santa Paula",
         "California",
         93060,
         3407.0
        ],
        [
         79438.0,
         229000.0,
         2,
         2,
         12197.0,
         1253226.0,
         "California Hot Springs",
         "California",
         93207,
         1500.0
        ],
        [
         32406.0,
         2.1E7,
         3,
         2,
         24633.0,
         1218045.0,
         "unknown",
         "California",
         93647,
         1283.0
        ],
        [
         72990.0,
         999990.0,
         4,
         3,
         40176.0,
         786207.0,
         "Acton",
         "California",
         93510,
         2374.0
        ],
        [
         22096.0,
         87000.0,
         0,
         0,
         10018.0,
         1855275.0,
         "California City",
         "California",
         93505,
         0.0
        ],
        [
         104340.0,
         125000.0,
         3,
         2,
         11025.0,
         1723336.0,
         "Trona",
         "California",
         93562,
         950.0
        ],
        [
         53069.0,
         175000.0,
         0,
         0,
         31979.0,
         1942365.0,
         "Pearblossom",
         "California",
         93553,
         0.0
        ],
        [
         44607.0,
         46000.0,
         0,
         0,
         39407.0,
         1842271.0,
         "Lake Los Angeles",
         "California",
         93591,
         0.0
        ],
        [
         87970.0,
         7990000.0,
         0,
         0,
         10314.0,
         1433177.0,
         "Firebaugh",
         "California",
         93622,
         0.0
        ],
        [
         87970.0,
         7990000.0,
         0,
         0,
         10314.0,
         1910632.0,
         "Los Banos",
         "California",
         93635,
         0.0
        ],
        [
         21119.0,
         3.75E7,
         0,
         0,
         14141.0,
         1063384.0,
         "Carmel Valley",
         "California",
         93924,
         0.0
        ],
        [
         87970.0,
         7990000.0,
         0,
         0,
         10314.0,
         1910632.0,
         "Paicines",
         "California",
         95043,
         0.0
        ],
        [
         35346.0,
         3.0E7,
         0,
         0,
         18300.0,
         1840857.0,
         "unknown",
         "California",
         95043,
         0.0
        ],
        [
         87970.0,
         7990000.0,
         2,
         1,
         10314.0,
         1910632.0,
         "Paicines",
         "California",
         95043,
         1527.0
        ],
        [
         80423.0,
         529900.0,
         3,
         2,
         10454.0,
         1021137.0,
         "Arnold",
         "California",
         95223,
         2310.0
        ],
        [
         72148.0,
         49999.0,
         0,
         0,
         20311.0,
         636694.0,
         "Groveland",
         "California",
         95321,
         0.0
        ],
        [
         61696.0,
         1137500.0,
         0,
         0,
         39910.0,
         498449.0,
         "Linda",
         "California",
         95901,
         6712.0
        ],
        [
         33946.0,
         75000.0,
         0,
         0,
         100000.0,
         1252283.0,
         "McArthur",
         "California",
         96056,
         0.0
        ],
        [
         17457.0,
         1.0E7,
         3,
         3,
         10005.4,
         1987684.0,
         "Red Bluff",
         "California",
         96080,
         1200.0
        ],
        [
         14988.0,
         9950000.0,
         0,
         0,
         16000.0,
         1925823.0,
         "Susanville",
         "California",
         96130,
         0.0
        ],
        [
         18836.0,
         2.447075E7,
         3,
         2,
         23455.0,
         1404132.0,
         "Prineville",
         "Oregon",
         97754,
         2357.0
        ],
        [
         75249.0,
         1.27E8,
         0,
         0,
         32995.0,
         1517138.0,
         "Bend",
         "Oregon",
         97701,
         0.0
        ],
        [
         34715.0,
         2.85E7,
         0,
         0,
         32270.5,
         1838998.0,
         "Prineville",
         "Oregon",
         97754,
         0.0
        ],
        [
         18836.0,
         6.5E7,
         3,
         2,
         40040.0,
         868377.0,
         "Prineville",
         "Oregon",
         97754,
         2832.0
        ],
        [
         34715.0,
         2.85E7,
         0,
         0,
         32270.5,
         -1.0,
         "Prineville",
         "Oregon",
         97754,
         0.0
        ],
        [
         56505.0,
         1.45E7,
         5,
         2,
         11661.0,
         1855072.0,
         "Pilot Rock",
         "Oregon",
         97868,
         1864.0
        ],
        [
         56506.0,
         1.45E7,
         5,
         2,
         11661.0,
         1855072.0,
         "Ukiah",
         "Oregon",
         97880,
         1864.0
        ],
        [
         37400.0,
         110000.0,
         3,
         2,
         100000.0,
         18479.0,
         "Bayamon",
         "Puerto Rico",
         956,
         0.0
        ],
        [
         10368.0,
         99999.0,
         3,
         2,
         100000.0,
         360928.0,
         "Berlin",
         "New York",
         12022,
         1805.0
        ],
        [
         22552.0,
         255000.0,
         4,
         3,
         100000.0,
         1654462.0,
         "Hartford",
         "New York",
         12838,
         2960.0
        ],
        [
         16419.0,
         379000.0,
         3,
         2,
         58100.0,
         898285.0,
         "Kearny",
         "New Jersey",
         7032,
         0.0
        ],
        [
         14344.0,
         588245.0,
         2,
         2,
         54727.0,
         1449018.0,
         "New Scotland",
         "New York",
         12186,
         2150.0
        ],
        [
         22550.0,
         137000.0,
         5,
         2,
         66108.0,
         551083.0,
         "Amsterdam",
         "New York",
         12010,
         2257.0
        ],
        [
         22552.0,
         498000.0,
         4,
         3,
         24632.0,
         140606.0,
         "Niskayuna",
         "New York",
         12309,
         3000.0
        ],
        [
         22552.0,
         164900.0,
         2,
         1,
         80200.0,
         507399.0,
         "Schenectady",
         "New York",
         12308,
         1134.0
        ],
        [
         33781.0,
         170000.0,
         8,
         3,
         50200.0,
         136649.0,
         "Schenectady",
         "New York",
         12303,
         2080.0
        ],
        [
         22552.0,
         158310.0,
         2,
         1,
         40250.0,
         734463.0,
         "Glenville",
         "New York",
         12302,
         772.0
        ],
        [
         41099.0,
         89999.0,
         6,
         2,
         25100.0,
         809941.0,
         "Troy",
         "New York",
         12180,
         2388.0
        ],
        [
         104218.0,
         95000.0,
         4,
         2,
         40100.0,
         1815159.0,
         "Fort Edward Village",
         "New York",
         12828,
         2248.0
        ],
        [
         81604.0,
         104900.0,
         3,
         2,
         25133.0,
         1205295.0,
         "Albany",
         "New York",
         12206,
         4112.0
        ],
        [
         52568.0,
         309900.0,
         5,
         5,
         30115.0,
         1383520.0,
         "Albany",
         "New York",
         12209,
         5592.0
        ],
        [
         45868.0,
         235000.0,
         3,
         2,
         40100.0,
         821755.0,
         "Albany",
         "New York",
         12203,
         2800.0
        ],
        [
         45690.0,
         179900.0,
         4,
         1,
         80110.0,
         44548.0,
         "Rotterdam",
         "New York",
         12303,
         1355.0
        ],
        [
         70867.0,
         209900.0,
         3,
         2,
         50150.0,
         26204.0,
         "Rotterdam",
         "New York",
         12306,
         1481.0
        ],
        [
         54351.0,
         174900.0,
         5,
         2,
         40140.0,
         382808.0,
         "Schenectady",
         "New York",
         12308,
         2472.0
        ],
        [
         22552.0,
         133400.0,
         4,
         2,
         30103.0,
         287957.0,
         "Schenectady",
         "New York",
         12303,
         1408.0
        ],
        [
         10211.0,
         529900.0,
         6,
         6,
         50200.0,
         1486533.0,
         "Albany",
         "New York",
         12203,
         8494.0
        ],
        [
         65800.0,
         239900.0,
         4,
         3,
         40151.0,
         1725441.0,
         "Albany",
         "New York",
         12208,
         3264.0
        ],
        [
         2577.0,
         269900.0,
         3,
         2,
         100000.0,
         480995.0,
         "Guilderland",
         "New York",
         12203,
         1296.0
        ],
        [
         30849.0,
         25000.0,
         4,
         2,
         25100.0,
         128006.0,
         "Schenectady",
         "New York",
         12304,
         2272.0
        ],
        [
         60591.0,
         259900.0,
         4,
         3,
         40130.0,
         319448.0,
         "Niskayuna",
         "New York",
         12309,
         1851.0
        ],
        [
         10368.0,
         179900.0,
         6,
         2,
         44100.0,
         1273175.0,
         "Albany",
         "New York",
         12209,
         2648.0
        ],
        [
         101424.0,
         418598.0,
         4,
         6,
         39468.0,
         699173.0,
         "Guilderland",
         "New York",
         12303,
         2733.0
        ],
        [
         45690.0,
         119000.0,
         5,
         1,
         50109.0,
         200616.0,
         "Schenectady",
         "New York",
         12308,
         2760.0
        ],
        [
         21072.0,
         134900.0,
         2,
         2,
         32100.0,
         116001.0,
         "Albany",
         "New York",
         12209,
         952.0
        ],
        [
         10211.0,
         375000.0,
         5,
         4,
         48136.0,
         152808.0,
         "Schenectady",
         "New York",
         12305,
         4424.0
        ],
        [
         81604.0,
         144900.0,
         4,
         2,
         25100.0,
         1169913.0,
         "Albany",
         "New York",
         12209,
         1200.0
        ],
        [
         22549.0,
         54900.0,
         5,
         2,
         30152.0,
         1539644.0,
         "Gloversville",
         "New York",
         12078,
         2080.0
        ],
        [
         33781.0,
         425000.0,
         5,
         5,
         31181.0,
         438425.0,
         "Albany",
         "New York",
         12203,
         4148.0
        ],
        [
         22552.0,
         149000.0,
         3,
         1,
         60150.0,
         1202017.0,
         "Schenectady",
         "New York",
         12304,
         900.0
        ],
        [
         14793.0,
         179900.0,
         2,
         1,
         12000.0,
         1031950.0,
         "Guilderland",
         "New York",
         12303,
         990.0
        ],
        [
         22552.0,
         389900.0,
         5,
         3,
         100000.0,
         224263.0,
         "Niskayuna",
         "New York",
         12309,
         3000.0
        ],
        [
         45690.0,
         299000.0,
         4,
         3,
         50208.0,
         1815444.0,
         "Albany",
         "New York",
         12203,
         2614.0
        ],
        [
         45690.0,
         44000.0,
         0,
         2,
         60140.0,
         1407747.0,
         "Gloversville",
         "New York",
         12078,
         1888.0
        ],
        [
         10368.0,
         159900.0,
         3,
         1,
         84166.0,
         1449087.0,
         "Johnstown",
         "New York",
         12095,
         1684.0
        ],
        [
         52568.0,
         367500.0,
         2,
         2,
         42112.0,
         1455805.0,
         "North Greenbush",
         "New York",
         12180,
         2722.0
        ],
        [
         52568.0,
         394500.0,
         3,
         3,
         42112.0,
         1458308.0,
         "North Greenbush",
         "New York",
         12180,
         3250.0
        ],
        [
         104467.0,
         299000.0,
         3,
         3,
         50100.0,
         752879.0,
         "Troy",
         "New York",
         12180,
         3876.0
        ],
        [
         41099.0,
         194900.0,
         7,
         2,
         46200.0,
         449005.0,
         "Troy",
         "New York",
         12180,
         2716.0
        ],
        [
         85922.0,
         179900.0,
         4,
         1,
         60100.0,
         1566045.0,
         "Troy",
         "New York",
         12180,
         1313.0
        ],
        [
         41099.0,
         194900.0,
         13,
         3,
         35120.0,
         1759043.0,
         "Troy",
         "New York",
         12180,
         0.0
        ],
        [
         22552.0,
         139900.0,
         3,
         2,
         30100.0,
         299236.0,
         "Watervliet",
         "New York",
         12189,
         1263.0
        ],
        [
         109987.0,
         94800.0,
         3,
         1,
         10454.0,
         1765852.0,
         "Troy",
         "New York",
         12182,
         2496.0
        ],
        [
         60591.0,
         199900.0,
         3,
         1,
         42123.0,
         1637938.0,
         "Albany",
         "New York",
         12209,
         2244.0
        ],
        [
         45690.0,
         215000.0,
         2,
         2,
         35125.0,
         1053055.0,
         "Albany",
         "New York",
         12203,
         1250.0
        ],
        [
         14044.0,
         198000.0,
         3,
         2,
         30100.0,
         269285.0,
         "Green Island",
         "New York",
         12183,
         3510.0
        ],
        [
         10368.0,
         189900.0,
         2,
         1,
         40120.0,
         1169428.0,
         "Albany",
         "New York",
         12203,
         1066.0
        ],
        [
         45690.0,
         150000.0,
         3,
         2,
         100000.0,
         603390.0,
         "Hudson Falls",
         "New York",
         12839,
         1452.0
        ],
        [
         45795.0,
         179000.0,
         5,
         2,
         50125.0,
         1141323.0,
         "Amsterdam",
         "New York",
         12010,
         2196.0
        ],
        [
         65800.0,
         480000.0,
         4,
         4,
         18106.0,
         766289.0,
         "Albany",
         "New York",
         12210,
         3334.0
        ],
        [
         8976.0,
         144900.0,
         2,
         1,
         12480.0,
         998586.0,
         "Rotterdam",
         "New York",
         12306,
         728.0
        ],
        [
         45690.0,
         309900.0,
         3,
         2,
         100000.0,
         931101.0,
         "Guilderland",
         "New York",
         12303,
         1748.0
        ],
        [
         38445.0,
         169001.0,
         7,
         2,
         31124.0,
         558165.0,
         "Albany",
         "New York",
         12202,
         2640.0
        ],
        [
         45690.0,
         249900.0,
         2,
         1,
         14400.0,
         1530865.0,
         "Albany",
         "New York",
         12203,
         1350.0
        ],
        [
         38445.0,
         179000.0,
         4,
         2,
         31124.0,
         413761.0,
         "Schenectady",
         "New York",
         12308,
         1800.0
        ],
        [
         14793.0,
         425900.0,
         2,
         2,
         50120.0,
         1011531.0,
         "Malta",
         "New York",
         12020,
         1750.0
        ],
        [
         33781.0,
         175000.0,
         9,
         3,
         36120.0,
         1001491.0,
         "Troy",
         "New York",
         12180,
         3864.0
        ],
        [
         104218.0,
         120000.0,
         5,
         2,
         40100.0,
         1259626.0,
         "Glens Falls",
         "New York",
         12801,
         1923.0
        ],
        [
         26103.0,
         99000.0,
         3,
         2,
         100000.0,
         207225.0,
         "Granville",
         "New York",
         12832,
         1104.0
        ],
        [
         22552.0,
         125000.0,
         3,
         1,
         100000.0,
         1130010.0,
         "Hebron",
         "New York",
         12865,
         1609.0
        ],
        [
         2939.0,
         109900.0,
         2,
         1,
         66150.0,
         598570.0,
         "Hudson Falls",
         "New York",
         12839,
         940.0
        ],
        [
         45690.0,
         62500.0,
         1,
         1,
         100000.0,
         1645706.0,
         "Fort Edward",
         "New York",
         12828,
         440.0
        ],
        [
         11376.0,
         199000.0,
         2,
         1,
         76150.0,
         1128885.0,
         "Queensbury",
         "New York",
         12804,
         842.0
        ],
        [
         52568.0,
         139500.0,
         4,
         2,
         50149.0,
         1141849.0,
         "Hudson Falls",
         "New York",
         12839,
         2500.0
        ],
        [
         83608.0,
         39900.0,
         4,
         3,
         15682.0,
         1592142.0,
         "Ballston Spa",
         "New York",
         12863,
         1500.0
        ],
        [
         39459.0,
         159800.0,
         3,
         2,
         100000.0,
         951097.0,
         "Simpsonville",
         "South Carolina",
         29680,
         0.0
        ],
        [
         72261.0,
         81900.0,
         3,
         1,
         50105.0,
         610455.0,
         "Augusta",
         "Georgia",
         30901,
         1020.0
        ],
        [
         93149.0,
         679000.0,
         5,
         5,
         100000.0,
         418768.0,
         "Evans",
         "Georgia",
         30809,
         3497.0
        ],
        [
         93149.0,
         399900.0,
         4,
         3,
         65145.0,
         626048.0,
         "Evans",
         "Georgia",
         30809,
         2659.0
        ],
        [
         51513.0,
         234900.0,
         4,
         2,
         10075.0,
         616594.0,
         "Grovetown",
         "Georgia",
         30813,
         2283.0
        ],
        [
         45189.0,
         275000.0,
         4,
         3,
         85150.0,
         991348.0,
         "Martinez",
         "Georgia",
         30907,
         1992.0
        ],
        [
         72261.0,
         169900.0,
         3,
         2,
         50105.0,
         1438343.0,
         "Harlem",
         "Georgia",
         30814,
         1351.0
        ],
        [
         61247.0,
         425000.0,
         4,
         3,
         12197.0,
         1066441.0,
         "Loganville",
         "Georgia",
         30052,
         2564.0
        ],
        [
         12600.0,
         470000.0,
         4,
         3,
         10454.0,
         1198117.0,
         "Duluth",
         "Georgia",
         30097,
         2496.0
        ],
        [
         18084.0,
         324990.0,
         4,
         3,
         14520.0,
         790965.0,
         "Ellenwood",
         "Georgia",
         30294,
         2253.0
        ],
        [
         24325.0,
         425000.0,
         3,
         3,
         13860.0,
         1047261.0,
         "College Park",
         "Georgia",
         30337,
         2088.0
        ],
        [
         67643.0,
         301000.0,
         3,
         3,
         10454.0,
         603729.0,
         "Atlanta",
         "Georgia",
         30349,
         1816.0
        ],
        [
         93149.0,
         289900.0,
         3,
         3,
         11045.0,
         1796481.0,
         "Evans",
         "Georgia",
         30809,
         1807.0
        ],
        [
         93149.0,
         728000.0,
         4,
         4,
         60140.0,
         1361975.0,
         "Evans",
         "Georgia",
         30809,
         3668.0
        ],
        [
         79629.0,
         164900.0,
         2,
         2,
         99999.0,
         1415305.0,
         "Saint Petersburg",
         "Florida",
         33709,
         1140.0
        ],
        [
         92980.0,
         379000.0,
         2,
         2,
         100000.0,
         1479717.0,
         "Saint Petersburg",
         "Florida",
         33715,
         1145.0
        ],
        [
         105811.0,
         220000.0,
         2,
         2,
         60075.0,
         1111786.0,
         "Bradenton",
         "Florida",
         34209,
         1008.0
        ],
        [
         89452.0,
         289000.0,
         3,
         2,
         100000.0,
         289581.0,
         "Mount Sterling",
         "Kentucky",
         40353,
         1794.0
        ],
        [
         78500.0,
         310000.0,
         4,
         3,
         11761.21,
         968936.0,
         "Lexington",
         "Kentucky",
         40511,
         2453.0
        ],
        [
         15973.0,
         15000.0,
         0,
         0,
         40155.0,
         610970.0,
         "Owensboro",
         "Kentucky",
         42303,
         0.0
        ],
        [
         16979.0,
         227500.0,
         3,
         2,
         11060.0,
         614401.0,
         "Detroit Lakes",
         "Minnesota",
         56501,
         1364.0
        ],
        [
         92822.0,
         1.3995E7,
         3,
         1,
         14565.0,
         1193759.0,
         "Miles City",
         "Montana",
         59301,
         0.0
        ],
        [
         39012.0,
         59500.0,
         3,
         1,
         15000.0,
         626208.0,
         "Biggsville",
         "Illinois",
         61418,
         1195.0
        ],
        [
         16699.0,
         199000.0,
         3,
         2,
         11238.0,
         339248.0,
         "Washington",
         "Missouri",
         63090,
         1008.0
        ],
        [
         4117.0,
         145000.0,
         2,
         2,
         15000.0,
         1352918.0,
         "Iola",
         "Kansas",
         66749,
         1640.0
        ],
        [
         108707.0,
         159900.0,
         3,
         2,
         16375.0,
         141628.0,
         "Parsons",
         "Kansas",
         67357,
         1808.0
        ],
        [
         75435.0,
         210000.0,
         4,
         2,
         13033.0,
         823323.0,
         "Hebron",
         "Nebraska",
         68370,
         1728.0
        ],
        [
         42755.0,
         2.75E7,
         0,
         0,
         15300.0,
         -1.0,
         "Crookston",
         "Nebraska",
         69212,
         0.0
        ],
        [
         33748.0,
         70000.0,
         0,
         0,
         22041.36,
         1271914.0,
         "Bullard",
         "Texas",
         75757,
         0.0
        ],
        [
         81949.0,
         6990000.0,
         0,
         0,
         23436.07,
         203643.0,
         "Terlingua",
         "Texas",
         79852,
         0.0
        ],
        [
         80328.0,
         598000.0,
         2,
         2,
         100000.0,
         1836217.0,
         "Alhambra",
         "California",
         91801,
         1110.0
        ],
        [
         22611.0,
         1020000.0,
         1,
         3,
         93248.0,
         65318.0,
         "Los Angeles",
         "California",
         90024,
         2182.0
        ],
        [
         100791.0,
         699000.0,
         3,
         3,
         29681.89,
         1794988.0,
         "Northridge",
         "California",
         91324,
         1300.0
        ],
        [
         22611.0,
         1550000.0,
         5,
         6,
         49658.0,
         173096.0,
         "Santa Rosa",
         "California",
         93012,
         3973.0
        ],
        [
         81849.0,
         625000.0,
         1,
         1,
         69317.0,
         1725958.0,
         "Long Beach",
         "California",
         90802,
         881.0
        ],
        [
         100724.0,
         683000.0,
         2,
         2,
         10560.02,
         1736715.0,
         "Huntington Beach",
         "California",
         92646,
         1056.0
        ],
        [
         81871.0,
         525000.0,
         2,
         3,
         47313.0,
         42116.0,
         "Tujunga",
         "California",
         91042,
         1409.0
        ],
        [
         16829.0,
         5895000.0,
         5,
         7,
         50314.0,
         1099908.0,
         "Pasadena",
         "California",
         91105,
         7339.0
        ],
        [
         81871.0,
         510000.0,
         3,
         3,
         17082.0,
         72815.0,
         "Sunland",
         "California",
         91040,
         1236.0
        ],
        [
         69480.0,
         2995000.0,
         0,
         0,
         22673.0,
         1556329.0,
         "Sierra Madre",
         "California",
         91024,
         5489.0
        ],
        [
         109978.0,
         349000.0,
         1,
         1,
         43140.0,
         122783.0,
         "North Hollywood",
         "California",
         91606,
         696.0
        ],
        [
         81187.0,
         1499900.0,
         4,
         2,
         59600.0,
         294532.0,
         "Ontario",
         "California",
         91762,
         2209.0
        ],
        [
         109978.0,
         545000.0,
         2,
         2,
         100000.0,
         683187.0,
         "Chula Vista",
         "California",
         91914,
         1061.0
        ],
        [
         22611.0,
         678000.0,
         3,
         2,
         100000.0,
         1802048.0,
         "San Marcos",
         "California",
         92078,
         1342.0
        ],
        [
         72531.0,
         590000.0,
         3,
         2,
         47797.0,
         1153470.0,
         "Oceanside",
         "California",
         92057,
         1346.0
        ],
        [
         92601.0,
         545000.0,
         2,
         2,
         25866.0,
         1225924.0,
         "Oceanside",
         "California",
         92056,
         1236.0
        ],
        [
         44690.0,
         374999.0,
         2,
         2,
         100000.0,
         606175.0,
         "Vista",
         "California",
         92081,
         1600.0
        ],
        [
         109978.0,
         355000.0,
         1,
         1,
         85442.0,
         714299.0,
         "San Diego",
         "California",
         92108,
         682.0
        ],
        [
         14956.0,
         439000.0,
         2,
         1,
         100000.0,
         1180888.0,
         "San Diego",
         "California",
         92111,
         920.0
        ],
        [
         53505.0,
         695900.0,
         5,
         4,
         12214.0,
         930880.0,
         "San Diego",
         "California",
         92105,
         1785.0
        ],
        [
         39226.0,
         1800000.0,
         3,
         2,
         23086.0,
         703040.0,
         "Encinitas",
         "California",
         92024,
         1652.0
        ],
        [
         53175.0,
         110000.0,
         3,
         2,
         100000.0,
         287316.0,
         "El Cajon",
         "California",
         92021,
         1680.0
        ],
        [
         22611.0,
         795000.0,
         4,
         3,
         47915.0,
         1538913.0,
         "San Diego",
         "California",
         92115,
         1872.0
        ],
        [
         86848.0,
         659000.0,
         2,
         2,
         38863.0,
         1363906.0,
         "San Diego",
         "California",
         92101,
         1112.0
        ],
        [
         83476.0,
         459900.0,
         3,
         2,
         12294.0,
         954547.0,
         "Lake Havasu City",
         "Arizona",
         86406,
         1589.0
        ],
        [
         16675.0,
         389000.0,
         4,
         2,
         49312.0,
         1738082.0,
         "Phelan",
         "California",
         92371,
         1914.0
        ],
        [
         18750.0,
         699999.0,
         5,
         3,
         91040.0,
         908567.0,
         "Menifee",
         "California",
         92585,
         3076.0
        ],
        [
         15623.0,
         975000.0,
         5,
         4,
         20003.0,
         364211.0,
         "Santa Paula",
         "California",
         93060,
         3407.0
        ],
        [
         99588.0,
         685000.0,
         12,
         8,
         10454.0,
         1035173.0,
         "Bakersfield",
         "California",
         93313,
         4597.0
        ],
        [
         53081.0,
         399000.0,
         3,
         2,
         39077.0,
         1250202.0,
         "Quartz Hill",
         "California",
         93536,
         1239.0
        ],
        [
         65227.0,
         589000.0,
         0,
         0,
         14733.0,
         669875.0,
         "Tehachapi",
         "California",
         93561,
         3360.0
        ],
        [
         65337.0,
         138000.0,
         0,
         0,
         43996.0,
         547688.0,
         "Grass Valley",
         "California",
         95949,
         0.0
        ],
        [
         18836.0,
         1.555E7,
         2,
         1,
         28274.29,
         1227775.0,
         "Ashwood",
         "Oregon",
         97711,
         2330.0
        ]
       ],
       "datasetInfos": [],
       "dbfsResultPath": null,
       "isJsonSchema": true,
       "metadata": {},
       "overflow": false,
       "plotOptions": {
        "customPlotOptions": {},
        "displayType": "table",
        "pivotAggregation": null,
        "pivotColumns": null,
        "xColumns": null,
        "yColumns": null
       },
       "removedWidgets": [],
       "schema": [
        {
         "metadata": "{}",
         "name": "brokered_by",
         "type": "\"double\""
        },
        {
         "metadata": "{}",
         "name": "price",
         "type": "\"double\""
        },
        {
         "metadata": "{}",
         "name": "bed",
         "type": "\"long\""
        },
        {
         "metadata": "{}",
         "name": "bath",
         "type": "\"long\""
        },
        {
         "metadata": "{}",
         "name": "acre_lot",
         "type": "\"double\""
        },
        {
         "metadata": "{}",
         "name": "street",
         "type": "\"double\""
        },
        {
         "metadata": "{}",
         "name": "city",
         "type": "\"string\""
        },
        {
         "metadata": "{}",
         "name": "state",
         "type": "\"string\""
        },
        {
         "metadata": "{}",
         "name": "zip_code",
         "type": "\"long\""
        },
        {
         "metadata": "{}",
         "name": "house_size",
         "type": "\"double\""
        }
       ],
       "type": "table"
      }
     },
     "output_type": "display_data"
    }
   ],
   "source": [
    "display(spark.sql(\"\"\"\n",
    "SELECT *\n",
    "FROM usa_housing.clean2_data\n",
    "WHERE acre_lot > 10000                  \n",
    "\"\"\"))"
   ]
  },
  {
   "cell_type": "code",
   "execution_count": 0,
   "metadata": {
    "application/vnd.databricks.v1+cell": {
     "cellMetadata": {
      "byteLimit": 2048000,
      "rowLimit": 10000
     },
     "inputWidgets": {},
     "nuid": "079961ed-6455-4d85-97c4-1aed6854b2ae",
     "showTitle": false,
     "tableResultSettingsMap": {},
     "title": ""
    }
   },
   "outputs": [],
   "source": []
  }
 ],
 "metadata": {
  "application/vnd.databricks.v1+notebook": {
   "computePreferences": null,
   "dashboards": [],
   "environmentMetadata": {
    "base_environment": "",
    "environment_version": "2"
   },
   "inputWidgetPreferences": null,
   "language": "python",
   "notebookMetadata": {
    "pythonIndentUnit": 4
   },
   "notebookName": "new2",
   "widgets": {}
  },
  "language_info": {
   "name": "python"
  }
 },
 "nbformat": 4,
 "nbformat_minor": 0
}
